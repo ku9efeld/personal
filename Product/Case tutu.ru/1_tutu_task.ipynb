{
 "cells": [
  {
   "cell_type": "code",
   "execution_count": 1,
   "id": "17ff7a3d",
   "metadata": {
    "id": "17ff7a3d"
   },
   "outputs": [],
   "source": [
    "import pandas as pd\n",
    "import matplotlib.pyplot as plt\n",
    "import os\n",
    "import seaborn as sns"
   ]
  },
  {
   "cell_type": "code",
   "execution_count": 2,
   "id": "9ee334f1",
   "metadata": {
    "id": "9ee334f1"
   },
   "outputs": [],
   "source": [
    "#pd.options.plotting.backend = \"plotly\"\n",
    "import matplotlib.style as style\n",
    "# plt.style.use('https://github.com/dhaitz/matplotlib-stylesheets/raw/master/pitayasmoothie-dark.mplstyle')\n",
    "import warnings\n",
    "warnings.filterwarnings('ignore')"
   ]
  },
  {
   "cell_type": "markdown",
   "id": "953e70c8",
   "metadata": {
    "id": "953e70c8"
   },
   "source": [
    "# Постановка задачи\n",
    "\n",
    "- Выполнил кандидат: Кимельфельд Д. П.\n",
    "\n",
    "**Легенда**\n",
    "\n",
    "Мы - онлайн магазин спортивных товаров: одежды, обуви, аксессуаров и спорт-питания. На главной странице магазина мы показываем пользователям баннеры с целью стимулирования своих продаж. Сейчас там случайно показывается один из 5 баннеров. Каждый баннер рекламирует конкретный продукт или всю компанию.\n",
    "Наши маркетологи считают, что опыт взаимодействия с баннерами может различаться по сегментам, а их эффективность – зависеть от особенностей пользовательского поведения.\n",
    "\n",
    "У менеджера компании появилось предложение от партнеров продать это место для баннера и рекламировать там другой сервис (оплата предполагается по CPC-модели, т.е. стоимость за клик).\n",
    "\n",
    "**Задача**\n",
    "\n",
    "Помогите менеджеру принять решение – нужно ли продавать это место для рекламы другого сервиса.\n",
    "\n",
    "**Цель исследования**  \n",
    " Необходимо установить приблизительную прибыль, которую приносят баннеры, по которым пользователи переходят и совершают покупки у магазина и соотнести её с прибылью, что могли бы приносить клики по баннерам, вместо которых рекламировались бы чужие сервисы"
   ]
  },
  {
   "cell_type": "code",
   "execution_count": 3,
   "id": "3a44ea17",
   "metadata": {
    "id": "3a44ea17"
   },
   "outputs": [],
   "source": [
    "# Укажите свой путь к источнику в переменной path_to_folder\n",
    "path_to_folder = '.'\n",
    "file_name = 'data/ha_data.csv'\n",
    "path = os.path.join(path_to_folder,file_name)"
   ]
  },
  {
   "cell_type": "code",
   "execution_count": 4,
   "id": "945aef4d",
   "metadata": {
    "id": "945aef4d"
   },
   "outputs": [],
   "source": [
    "df = pd.read_csv(path,\n",
    "                 sep=';',\n",
    "                 parse_dates=['time'])"
   ]
  },
  {
   "cell_type": "markdown",
   "id": "05794b98",
   "metadata": {
    "id": "05794b98"
   },
   "source": [
    "# Check data"
   ]
  },
  {
   "cell_type": "code",
   "execution_count": 5,
   "id": "152b6b9d",
   "metadata": {
    "id": "152b6b9d",
    "outputId": "7816285c-f7c4-4903-d926-26913e3e561a"
   },
   "outputs": [
    {
     "data": {
      "text/html": [
       "<div>\n",
       "<style scoped>\n",
       "    .dataframe tbody tr th:only-of-type {\n",
       "        vertical-align: middle;\n",
       "    }\n",
       "\n",
       "    .dataframe tbody tr th {\n",
       "        vertical-align: top;\n",
       "    }\n",
       "\n",
       "    .dataframe thead th {\n",
       "        text-align: right;\n",
       "    }\n",
       "</style>\n",
       "<table border=\"1\" class=\"dataframe\">\n",
       "  <thead>\n",
       "    <tr style=\"text-align: right;\">\n",
       "      <th></th>\n",
       "      <th>order_id</th>\n",
       "      <th>page_id</th>\n",
       "      <th>product</th>\n",
       "      <th>site_version</th>\n",
       "      <th>time</th>\n",
       "      <th>title</th>\n",
       "      <th>user</th>\n",
       "    </tr>\n",
       "  </thead>\n",
       "  <tbody>\n",
       "    <tr>\n",
       "      <th>0</th>\n",
       "      <td>NaN</td>\n",
       "      <td>3.0</td>\n",
       "      <td>company</td>\n",
       "      <td>mobile</td>\n",
       "      <td>2017-02-09 20:24:04</td>\n",
       "      <td>banner_show</td>\n",
       "      <td>user_0</td>\n",
       "    </tr>\n",
       "    <tr>\n",
       "      <th>1</th>\n",
       "      <td>NaN</td>\n",
       "      <td>3699687.0</td>\n",
       "      <td>company</td>\n",
       "      <td>mobile</td>\n",
       "      <td>2017-02-07 10:03:07</td>\n",
       "      <td>banner_show</td>\n",
       "      <td>user_0</td>\n",
       "    </tr>\n",
       "    <tr>\n",
       "      <th>2</th>\n",
       "      <td>NaN</td>\n",
       "      <td>14.0</td>\n",
       "      <td>sneakers</td>\n",
       "      <td>mobile</td>\n",
       "      <td>2017-01-29 13:02:23</td>\n",
       "      <td>banner_show</td>\n",
       "      <td>user_1</td>\n",
       "    </tr>\n",
       "    <tr>\n",
       "      <th>3</th>\n",
       "      <td>NaN</td>\n",
       "      <td>10362176.0</td>\n",
       "      <td>company</td>\n",
       "      <td>mobile</td>\n",
       "      <td>2017-04-12 15:39:19</td>\n",
       "      <td>banner_show</td>\n",
       "      <td>user_1</td>\n",
       "    </tr>\n",
       "    <tr>\n",
       "      <th>4</th>\n",
       "      <td>NaN</td>\n",
       "      <td>14.0</td>\n",
       "      <td>sneakers</td>\n",
       "      <td>mobile</td>\n",
       "      <td>2017-01-29 13:04:42</td>\n",
       "      <td>banner_click</td>\n",
       "      <td>user_1</td>\n",
       "    </tr>\n",
       "    <tr>\n",
       "      <th>...</th>\n",
       "      <td>...</td>\n",
       "      <td>...</td>\n",
       "      <td>...</td>\n",
       "      <td>...</td>\n",
       "      <td>...</td>\n",
       "      <td>...</td>\n",
       "      <td>...</td>\n",
       "    </tr>\n",
       "    <tr>\n",
       "      <th>8471221</th>\n",
       "      <td>NaN</td>\n",
       "      <td>24897184.0</td>\n",
       "      <td>accessories</td>\n",
       "      <td>desktop</td>\n",
       "      <td>2017-05-23 14:07:00</td>\n",
       "      <td>banner_show</td>\n",
       "      <td>user_4254616</td>\n",
       "    </tr>\n",
       "    <tr>\n",
       "      <th>8471222</th>\n",
       "      <td>NaN</td>\n",
       "      <td>24897190.0</td>\n",
       "      <td>clothes</td>\n",
       "      <td>mobile</td>\n",
       "      <td>2017-05-28 08:10:20</td>\n",
       "      <td>banner_show</td>\n",
       "      <td>user_4254617</td>\n",
       "    </tr>\n",
       "    <tr>\n",
       "      <th>8471223</th>\n",
       "      <td>NaN</td>\n",
       "      <td>24897203.0</td>\n",
       "      <td>sports_nutrition</td>\n",
       "      <td>mobile</td>\n",
       "      <td>2017-05-20 09:20:50</td>\n",
       "      <td>banner_show</td>\n",
       "      <td>user_4254618</td>\n",
       "    </tr>\n",
       "    <tr>\n",
       "      <th>8471224</th>\n",
       "      <td>NaN</td>\n",
       "      <td>24897205.0</td>\n",
       "      <td>sneakers</td>\n",
       "      <td>mobile</td>\n",
       "      <td>2017-05-28 19:25:42</td>\n",
       "      <td>banner_show</td>\n",
       "      <td>user_4254619</td>\n",
       "    </tr>\n",
       "    <tr>\n",
       "      <th>8471225</th>\n",
       "      <td>NaN</td>\n",
       "      <td>24897215.0</td>\n",
       "      <td>accessories</td>\n",
       "      <td>mobile</td>\n",
       "      <td>2017-05-31 09:18:24</td>\n",
       "      <td>banner_show</td>\n",
       "      <td>user_4254620</td>\n",
       "    </tr>\n",
       "  </tbody>\n",
       "</table>\n",
       "<p>8471226 rows × 7 columns</p>\n",
       "</div>"
      ],
      "text/plain": [
       "         order_id     page_id           product site_version  \\\n",
       "0             NaN         3.0           company       mobile   \n",
       "1             NaN   3699687.0           company       mobile   \n",
       "2             NaN        14.0          sneakers       mobile   \n",
       "3             NaN  10362176.0           company       mobile   \n",
       "4             NaN        14.0          sneakers       mobile   \n",
       "...           ...         ...               ...          ...   \n",
       "8471221       NaN  24897184.0       accessories      desktop   \n",
       "8471222       NaN  24897190.0           clothes       mobile   \n",
       "8471223       NaN  24897203.0  sports_nutrition       mobile   \n",
       "8471224       NaN  24897205.0          sneakers       mobile   \n",
       "8471225       NaN  24897215.0       accessories       mobile   \n",
       "\n",
       "                       time         title          user  \n",
       "0       2017-02-09 20:24:04   banner_show        user_0  \n",
       "1       2017-02-07 10:03:07   banner_show        user_0  \n",
       "2       2017-01-29 13:02:23   banner_show        user_1  \n",
       "3       2017-04-12 15:39:19   banner_show        user_1  \n",
       "4       2017-01-29 13:04:42  banner_click        user_1  \n",
       "...                     ...           ...           ...  \n",
       "8471221 2017-05-23 14:07:00   banner_show  user_4254616  \n",
       "8471222 2017-05-28 08:10:20   banner_show  user_4254617  \n",
       "8471223 2017-05-20 09:20:50   banner_show  user_4254618  \n",
       "8471224 2017-05-28 19:25:42   banner_show  user_4254619  \n",
       "8471225 2017-05-31 09:18:24   banner_show  user_4254620  \n",
       "\n",
       "[8471226 rows x 7 columns]"
      ]
     },
     "execution_count": 5,
     "metadata": {},
     "output_type": "execute_result"
    }
   ],
   "source": [
    "df"
   ]
  },
  {
   "cell_type": "code",
   "execution_count": 6,
   "id": "2c6c58c9",
   "metadata": {
    "id": "2c6c58c9",
    "outputId": "1dfd3027-6b67-4785-9756-c4ae66113061"
   },
   "outputs": [
    {
     "name": "stdout",
     "output_type": "stream",
     "text": [
      "<class 'pandas.core.frame.DataFrame'>\n",
      "RangeIndex: 8471226 entries, 0 to 8471225\n",
      "Data columns (total 7 columns):\n",
      " #   Column        Dtype         \n",
      "---  ------        -----         \n",
      " 0   order_id      float64       \n",
      " 1   page_id       float64       \n",
      " 2   product       object        \n",
      " 3   site_version  object        \n",
      " 4   time          datetime64[ns]\n",
      " 5   title         object        \n",
      " 6   user          object        \n",
      "dtypes: datetime64[ns](1), float64(2), object(4)\n",
      "memory usage: 452.4+ MB\n"
     ]
    }
   ],
   "source": [
    "df.info()"
   ]
  },
  {
   "cell_type": "code",
   "execution_count": 7,
   "id": "c76256bb",
   "metadata": {
    "id": "c76256bb",
    "outputId": "81608b4e-d8a5-4af0-a93a-059719e32ee8"
   },
   "outputs": [
    {
     "data": {
      "text/plain": [
       "0"
      ]
     },
     "execution_count": 7,
     "metadata": {},
     "output_type": "execute_result"
    }
   ],
   "source": [
    "df.duplicated().sum()"
   ]
  },
  {
   "cell_type": "markdown",
   "id": "ce6572e9",
   "metadata": {
    "id": "ce6572e9"
   },
   "source": [
    "Дубликатов нет, данные хранятся в правильных типах.\n",
    "Сначала сделаем обзор на какие-то аномалии, есть ли какие-то выбросы между месяцами по количеству пользователей и т.д."
   ]
  },
  {
   "cell_type": "markdown",
   "id": "0cfe259b",
   "metadata": {
    "id": "0cfe259b"
   },
   "source": [
    "# Introduction to analyse data"
   ]
  },
  {
   "cell_type": "code",
   "execution_count": 9,
   "id": "37a419f5",
   "metadata": {
    "id": "37a419f5"
   },
   "outputs": [],
   "source": [
    "df['month'] = df['time'].dt.month_name(locale='Russian')"
   ]
  },
  {
   "cell_type": "code",
   "execution_count": 10,
   "id": "3a9ea3d7",
   "metadata": {
    "id": "3a9ea3d7",
    "outputId": "9c12ffc2-d756-4f6a-b988-6e03f9bcd4a6",
    "scrolled": false
   },
   "outputs": [
    {
     "data": {
      "image/png": "[encoded data removed]",
      "text/plain": [
       "<Figure size 1700x900 with 3 Axes>"
      ]
     },
     "metadata": {},
     "output_type": "display_data"
    }
   ],
   "source": [
    "fig,axes = plt.subplots(ncols=3,figsize=(17,9))\n",
    "\n",
    "#1\n",
    "axes[0].set_title('Общее число событий')\n",
    "df.pivot_table(index='month',columns='title',values='time',aggfunc='count').T.rename_axis('Месяц', axis='columns').plot(kind='bar',ax=axes[0])\n",
    "#2\n",
    "axes[1].set_title('Общий онлайн')\n",
    "df.pivot_table(index='month',values='user',aggfunc='nunique').T.rename_axis('Месяц', axis='columns').plot(kind='bar',ax=axes[1])\n",
    "#3\n",
    "(pd.crosstab(index=df['month'],columns=df['title'],normalize='columns')*100).T.rename_axis('Месяц', axis='columns').plot(kind='bar',ax=axes[2]);\n",
    "plt.gca().set_title('От общего числа за весь рассматриваемый период, %')\n",
    "#\n",
    "fig.tight_layout()\n",
    "#\n",
    "for ax in axes:\n",
    "    for label in ax.get_xticklabels():\n",
    "        label.set_rotation(0)"
   ]
  },
  {
   "cell_type": "markdown",
   "id": "962d876c",
   "metadata": {
    "id": "962d876c"
   },
   "source": [
    "Нет выбросов от месяца к месяцу по кол-ву совершаемых действий.\n",
    "Первый график - отображает общее число каждого title по месяцам. На этом граифке видно, что объемы сохраняются от месяца к месяцу.\n",
    "\n",
    "Второй график - общий онлайн по месяцам, который +/- пропорционален столбцам `banner_show` из первого графика, что логично, тк мы всем пользователям показываем баннеры.\n",
    "\n",
    "Третий график - отображает какая доля всех событий приходится на тот или иной месяц. Можно отметиь, что все выглядит достатоно естественно, где наибольшая доля кликов - там и наибольшая доля показанных баннеров, и достаточно большая доля всех заказов."
   ]
  },
  {
   "cell_type": "code",
   "execution_count": 11,
   "id": "9a9440ad",
   "metadata": {
    "id": "9a9440ad",
    "outputId": "29f1941b-d3c1-4ad4-a42c-0f6adfec5a98"
   },
   "outputs": [
    {
     "data": {
      "image/png": "[encoded data removed]",
      "text/plain": [
       "<Figure size 800x500 with 1 Axes>"
      ]
     },
     "metadata": {},
     "output_type": "display_data"
    }
   ],
   "source": [
    "df.query('title == \"banner_click\"')['site_version'].value_counts().plot(kind='bar',figsize=(8,5));\n",
    "plt.gca().set_title('Количество кликов в разрезе версии сайта')\n",
    "for label in plt.gca().get_xticklabels():\n",
    "        label.set_rotation(0)"
   ]
  },
  {
   "cell_type": "markdown",
   "id": "4e27a2bb",
   "metadata": {
    "id": "4e27a2bb"
   },
   "source": [
    "Хочется отметить популярность мобильной версии среди посетителей магазина."
   ]
  },
  {
   "cell_type": "markdown",
   "id": "da31b229",
   "metadata": {
    "id": "da31b229"
   },
   "source": [
    "# Conversion Rate"
   ]
  },
  {
   "cell_type": "code",
   "execution_count": 12,
   "id": "396509aa",
   "metadata": {
    "id": "396509aa",
    "outputId": "db5e4be9-531c-4000-ce9f-130b7e863675"
   },
   "outputs": [
    {
     "data": {
      "text/html": [
       "<div>\n",
       "<style scoped>\n",
       "    .dataframe tbody tr th:only-of-type {\n",
       "        vertical-align: middle;\n",
       "    }\n",
       "\n",
       "    .dataframe tbody tr th {\n",
       "        vertical-align: top;\n",
       "    }\n",
       "\n",
       "    .dataframe thead th {\n",
       "        text-align: right;\n",
       "    }\n",
       "</style>\n",
       "<table border=\"1\" class=\"dataframe\">\n",
       "  <thead>\n",
       "    <tr style=\"text-align: right;\">\n",
       "      <th>site_version</th>\n",
       "      <th>desktop</th>\n",
       "      <th>mobile</th>\n",
       "    </tr>\n",
       "    <tr>\n",
       "      <th>product</th>\n",
       "      <th></th>\n",
       "      <th></th>\n",
       "    </tr>\n",
       "  </thead>\n",
       "  <tbody>\n",
       "    <tr>\n",
       "      <th>accessories</th>\n",
       "      <td>18531</td>\n",
       "      <td>117723</td>\n",
       "    </tr>\n",
       "    <tr>\n",
       "      <th>clothes</th>\n",
       "      <td>32781</td>\n",
       "      <td>187814</td>\n",
       "    </tr>\n",
       "    <tr>\n",
       "      <th>company</th>\n",
       "      <td>28464</td>\n",
       "      <td>116357</td>\n",
       "    </tr>\n",
       "    <tr>\n",
       "      <th>sneakers</th>\n",
       "      <td>21419</td>\n",
       "      <td>161178</td>\n",
       "    </tr>\n",
       "    <tr>\n",
       "      <th>sports_nutrition</th>\n",
       "      <td>13870</td>\n",
       "      <td>131048</td>\n",
       "    </tr>\n",
       "  </tbody>\n",
       "</table>\n",
       "</div>"
      ],
      "text/plain": [
       "site_version      desktop  mobile\n",
       "product                          \n",
       "accessories         18531  117723\n",
       "clothes             32781  187814\n",
       "company             28464  116357\n",
       "sneakers            21419  161178\n",
       "sports_nutrition    13870  131048"
      ]
     },
     "execution_count": 12,
     "metadata": {},
     "output_type": "execute_result"
    }
   ],
   "source": [
    "banner_clicks = df.query('title==\"banner_click\"')\n",
    "clicks_by_sys = pd.crosstab(banner_clicks['product'],banner_clicks['site_version'])\n",
    "clicks_by_sys"
   ]
  },
  {
   "cell_type": "markdown",
   "id": "0d793800",
   "metadata": {
    "id": "0d793800"
   },
   "source": [
    "`Таблица, сколько было кликов по продуктам на разных устройствах`"
   ]
  },
  {
   "cell_type": "code",
   "execution_count": 13,
   "id": "e334d2ea",
   "metadata": {
    "id": "e334d2ea",
    "outputId": "bc0e4d5d-0b79-495f-cb70-b07ffdcc2bc4"
   },
   "outputs": [
    {
     "data": {
      "text/html": [
       "<div>\n",
       "<style scoped>\n",
       "    .dataframe tbody tr th:only-of-type {\n",
       "        vertical-align: middle;\n",
       "    }\n",
       "\n",
       "    .dataframe tbody tr th {\n",
       "        vertical-align: top;\n",
       "    }\n",
       "\n",
       "    .dataframe thead th {\n",
       "        text-align: right;\n",
       "    }\n",
       "</style>\n",
       "<table border=\"1\" class=\"dataframe\">\n",
       "  <thead>\n",
       "    <tr style=\"text-align: right;\">\n",
       "      <th>site_version</th>\n",
       "      <th>desktop</th>\n",
       "      <th>mobile</th>\n",
       "    </tr>\n",
       "    <tr>\n",
       "      <th>product</th>\n",
       "      <th></th>\n",
       "      <th></th>\n",
       "    </tr>\n",
       "  </thead>\n",
       "  <tbody>\n",
       "    <tr>\n",
       "      <th>accessories</th>\n",
       "      <td>410003</td>\n",
       "      <td>1030951</td>\n",
       "    </tr>\n",
       "    <tr>\n",
       "      <th>clothes</th>\n",
       "      <td>418070</td>\n",
       "      <td>1035058</td>\n",
       "    </tr>\n",
       "    <tr>\n",
       "      <th>company</th>\n",
       "      <td>477374</td>\n",
       "      <td>1102864</td>\n",
       "    </tr>\n",
       "    <tr>\n",
       "      <th>sneakers</th>\n",
       "      <td>411598</td>\n",
       "      <td>1041431</td>\n",
       "    </tr>\n",
       "    <tr>\n",
       "      <th>sports_nutrition</th>\n",
       "      <td>417595</td>\n",
       "      <td>1048375</td>\n",
       "    </tr>\n",
       "  </tbody>\n",
       "</table>\n",
       "</div>"
      ],
      "text/plain": [
       "site_version      desktop   mobile\n",
       "product                           \n",
       "accessories        410003  1030951\n",
       "clothes            418070  1035058\n",
       "company            477374  1102864\n",
       "sneakers           411598  1041431\n",
       "sports_nutrition   417595  1048375"
      ]
     },
     "execution_count": 13,
     "metadata": {},
     "output_type": "execute_result"
    }
   ],
   "source": [
    "banner_shows = df.query('title==\"banner_show\"')\n",
    "banners_by_sys = pd.crosstab(banner_shows['product'],banner_shows['site_version'])\n",
    "banners_by_sys"
   ]
  },
  {
   "cell_type": "markdown",
   "id": "199675d2",
   "metadata": {
    "id": "199675d2"
   },
   "source": [
    "`Таблица, сколько было показано баннеров разных типов на разных устройствах`"
   ]
  },
  {
   "cell_type": "code",
   "execution_count": 14,
   "id": "abfbe6c8",
   "metadata": {
    "id": "abfbe6c8",
    "outputId": "1bec08d4-5a78-4417-8345-1bc3967386b2"
   },
   "outputs": [
    {
     "data": {
      "text/html": [
       "<div>\n",
       "<style scoped>\n",
       "    .dataframe tbody tr th:only-of-type {\n",
       "        vertical-align: middle;\n",
       "    }\n",
       "\n",
       "    .dataframe tbody tr th {\n",
       "        vertical-align: top;\n",
       "    }\n",
       "\n",
       "    .dataframe thead th {\n",
       "        text-align: right;\n",
       "    }\n",
       "</style>\n",
       "<table border=\"1\" class=\"dataframe\">\n",
       "  <thead>\n",
       "    <tr style=\"text-align: right;\">\n",
       "      <th>site_version</th>\n",
       "      <th>desktop</th>\n",
       "      <th>mobile</th>\n",
       "    </tr>\n",
       "    <tr>\n",
       "      <th>product</th>\n",
       "      <th></th>\n",
       "      <th></th>\n",
       "    </tr>\n",
       "  </thead>\n",
       "  <tbody>\n",
       "    <tr>\n",
       "      <th>accessories</th>\n",
       "      <td>4.52</td>\n",
       "      <td>11.42</td>\n",
       "    </tr>\n",
       "    <tr>\n",
       "      <th>clothes</th>\n",
       "      <td>7.84</td>\n",
       "      <td>18.15</td>\n",
       "    </tr>\n",
       "    <tr>\n",
       "      <th>company</th>\n",
       "      <td>5.96</td>\n",
       "      <td>10.55</td>\n",
       "    </tr>\n",
       "    <tr>\n",
       "      <th>sneakers</th>\n",
       "      <td>5.20</td>\n",
       "      <td>15.48</td>\n",
       "    </tr>\n",
       "    <tr>\n",
       "      <th>sports_nutrition</th>\n",
       "      <td>3.32</td>\n",
       "      <td>12.50</td>\n",
       "    </tr>\n",
       "  </tbody>\n",
       "</table>\n",
       "</div>"
      ],
      "text/plain": [
       "site_version      desktop  mobile\n",
       "product                          \n",
       "accessories          4.52   11.42\n",
       "clothes              7.84   18.15\n",
       "company              5.96   10.55\n",
       "sneakers             5.20   15.48\n",
       "sports_nutrition     3.32   12.50"
      ]
     },
     "execution_count": 14,
     "metadata": {},
     "output_type": "execute_result"
    }
   ],
   "source": [
    "(clicks_by_sys*100/banners_by_sys).round(2)"
   ]
  },
  {
   "cell_type": "markdown",
   "id": "a3ba0e0f",
   "metadata": {
    "id": "a3ba0e0f"
   },
   "source": [
    "`Таблица конверсий из баннера в клик`\n",
    "\n",
    "Важно отметить, что очень высокая конверсия для кроссовок и одежды, полагаю, что это последние категории продуктов на баннерах, от которых стоит отказываться, тк они существенно расширяют существующие воронки для данных типов продуктов.    \n",
    "\n",
    "С другой стороны спортивные добавки и акксесуары с самой компанией имеют меньшие показатели (показатели, которых колеблются в зависимости от типа сайта и тд)."
   ]
  },
  {
   "cell_type": "code",
   "execution_count": 15,
   "id": "1edb0f98",
   "metadata": {
    "id": "1edb0f98",
    "outputId": "7fea23d8-b5f0-4b9c-b689-e6bb9f7d6c46"
   },
   "outputs": [
    {
     "data": {
      "text/html": [
       "<div>\n",
       "<style scoped>\n",
       "    .dataframe tbody tr th:only-of-type {\n",
       "        vertical-align: middle;\n",
       "    }\n",
       "\n",
       "    .dataframe tbody tr th {\n",
       "        vertical-align: top;\n",
       "    }\n",
       "\n",
       "    .dataframe thead th {\n",
       "        text-align: right;\n",
       "    }\n",
       "</style>\n",
       "<table border=\"1\" class=\"dataframe\">\n",
       "  <thead>\n",
       "    <tr style=\"text-align: right;\">\n",
       "      <th>site_version</th>\n",
       "      <th>desktop</th>\n",
       "      <th>mobile</th>\n",
       "    </tr>\n",
       "    <tr>\n",
       "      <th>product</th>\n",
       "      <th></th>\n",
       "      <th></th>\n",
       "    </tr>\n",
       "  </thead>\n",
       "  <tbody>\n",
       "    <tr>\n",
       "      <th>accessories</th>\n",
       "      <td>22121</td>\n",
       "      <td>22430</td>\n",
       "    </tr>\n",
       "    <tr>\n",
       "      <th>clothes</th>\n",
       "      <td>66977</td>\n",
       "      <td>45738</td>\n",
       "    </tr>\n",
       "    <tr>\n",
       "      <th>sneakers</th>\n",
       "      <td>32565</td>\n",
       "      <td>35154</td>\n",
       "    </tr>\n",
       "    <tr>\n",
       "      <th>sports_nutrition</th>\n",
       "      <td>11518</td>\n",
       "      <td>12219</td>\n",
       "    </tr>\n",
       "  </tbody>\n",
       "</table>\n",
       "</div>"
      ],
      "text/plain": [
       "site_version      desktop  mobile\n",
       "product                          \n",
       "accessories         22121   22430\n",
       "clothes             66977   45738\n",
       "sneakers            32565   35154\n",
       "sports_nutrition    11518   12219"
      ]
     },
     "execution_count": 15,
     "metadata": {},
     "output_type": "execute_result"
    }
   ],
   "source": [
    "orders = df.query('title==\"order\"')\n",
    "orders_by_sys = pd.crosstab(orders['product'],orders['site_version'])\n",
    "orders_by_sys"
   ]
  },
  {
   "cell_type": "code",
   "execution_count": 16,
   "id": "af6e42b1",
   "metadata": {
    "id": "af6e42b1",
    "outputId": "998db305-284d-4fe0-9328-57fd51a5d934"
   },
   "outputs": [
    {
     "data": {
      "text/html": [
       "<div>\n",
       "<style scoped>\n",
       "    .dataframe tbody tr th:only-of-type {\n",
       "        vertical-align: middle;\n",
       "    }\n",
       "\n",
       "    .dataframe tbody tr th {\n",
       "        vertical-align: top;\n",
       "    }\n",
       "\n",
       "    .dataframe thead th {\n",
       "        text-align: right;\n",
       "    }\n",
       "</style>\n",
       "<table border=\"1\" class=\"dataframe\">\n",
       "  <thead>\n",
       "    <tr style=\"text-align: right;\">\n",
       "      <th>site_version</th>\n",
       "      <th>desktop</th>\n",
       "      <th>mobile</th>\n",
       "    </tr>\n",
       "    <tr>\n",
       "      <th>product</th>\n",
       "      <th></th>\n",
       "      <th></th>\n",
       "    </tr>\n",
       "  </thead>\n",
       "  <tbody>\n",
       "    <tr>\n",
       "      <th>accessories</th>\n",
       "      <td>119.372943</td>\n",
       "      <td>19.053201</td>\n",
       "    </tr>\n",
       "    <tr>\n",
       "      <th>clothes</th>\n",
       "      <td>204.316525</td>\n",
       "      <td>24.352817</td>\n",
       "    </tr>\n",
       "    <tr>\n",
       "      <th>company</th>\n",
       "      <td>NaN</td>\n",
       "      <td>NaN</td>\n",
       "    </tr>\n",
       "    <tr>\n",
       "      <th>sneakers</th>\n",
       "      <td>152.037910</td>\n",
       "      <td>21.810669</td>\n",
       "    </tr>\n",
       "    <tr>\n",
       "      <th>sports_nutrition</th>\n",
       "      <td>83.042538</td>\n",
       "      <td>9.324064</td>\n",
       "    </tr>\n",
       "  </tbody>\n",
       "</table>\n",
       "</div>"
      ],
      "text/plain": [
       "site_version         desktop     mobile\n",
       "product                                \n",
       "accessories       119.372943  19.053201\n",
       "clothes           204.316525  24.352817\n",
       "company                  NaN        NaN\n",
       "sneakers          152.037910  21.810669\n",
       "sports_nutrition   83.042538   9.324064"
      ]
     },
     "execution_count": 16,
     "metadata": {},
     "output_type": "execute_result"
    }
   ],
   "source": [
    "orders_by_sys*100/clicks_by_sys"
   ]
  },
  {
   "cell_type": "markdown",
   "id": "369aea2f",
   "metadata": {
    "id": "369aea2f"
   },
   "source": [
    "Существуют значительная доля людей, совершивших покупку без рассмотра баннера, поэтому отношение уходит > 100, иными словами, там значительная доля органических пользователей, которых доходят до покупки без всплывающего баннера.\n",
    "\n",
    "Но обратного нельзя сказать, про пользователей, пользующихся мобильной версией. Достаточно обильное число кликов, не дает догнать существующие продажи на мобильной версии.\n",
    "\n",
    "Нужно установить какая доля людей от всех покупок (заказов) совершила покупку без клика баннера и по клику баннера."
   ]
  },
  {
   "cell_type": "markdown",
   "id": "cfabce75",
   "metadata": {
    "id": "cfabce75"
   },
   "source": [
    "# Review paying users"
   ]
  },
  {
   "cell_type": "markdown",
   "id": "63c7fc23",
   "metadata": {
    "id": "63c7fc23"
   },
   "source": [
    "Сформируем профили платящих пользователей, в их свойствах учтем следующие факты:  \n",
    "- id,\n",
    "- дата первой покупки,\n",
    "- тип продукта в первой покупке,\n",
    "- количество кликов и покупок за все время в датасете\n",
    "\n",
    "Кроме того, отобрав id из датасета по профилям, сформируем фрейм по ивентам, что совершали, только платящие пользователи"
   ]
  },
  {
   "cell_type": "code",
   "execution_count": 17,
   "id": "1c11fc47",
   "metadata": {
    "id": "1c11fc47"
   },
   "outputs": [],
   "source": [
    "profiles = df\\\n",
    "           .query('title == \"order\"')\\\n",
    "           .sort_values(by='time')\\\n",
    "           .groupby('user')\\\n",
    "           .agg(first_purchase_dt=('time','first'),\n",
    "                product=('product','first')\n",
    "               )\\\n",
    "           .reset_index()\n",
    "events = df[df['user'].isin(profiles['user'])].reset_index()\n",
    "clicks = events.query('title==\"banner_click\"').groupby('user').size().rename('total_clicks')\n",
    "orders = events.query('title==\"order\"').groupby('user').size().rename('total_orders')\n",
    "profiles = pd.merge(profiles,clicks,how='left',on='user')\n",
    "profiles = pd.merge(profiles,orders,how='left',on='user')"
   ]
  },
  {
   "cell_type": "code",
   "execution_count": 18,
   "id": "1fdcb64a",
   "metadata": {
    "id": "1fdcb64a",
    "outputId": "f8d2c287-9377-4fac-aff1-f14545603302"
   },
   "outputs": [
    {
     "data": {
      "text/html": [
       "<div>\n",
       "<style scoped>\n",
       "    .dataframe tbody tr th:only-of-type {\n",
       "        vertical-align: middle;\n",
       "    }\n",
       "\n",
       "    .dataframe tbody tr th {\n",
       "        vertical-align: top;\n",
       "    }\n",
       "\n",
       "    .dataframe thead th {\n",
       "        text-align: right;\n",
       "    }\n",
       "</style>\n",
       "<table border=\"1\" class=\"dataframe\">\n",
       "  <thead>\n",
       "    <tr style=\"text-align: right;\">\n",
       "      <th></th>\n",
       "      <th>user</th>\n",
       "      <th>first_purchase_dt</th>\n",
       "      <th>product</th>\n",
       "      <th>total_clicks</th>\n",
       "      <th>total_orders</th>\n",
       "    </tr>\n",
       "  </thead>\n",
       "  <tbody>\n",
       "    <tr>\n",
       "      <th>0</th>\n",
       "      <td>user_10000</td>\n",
       "      <td>2017-01-23 23:06:10</td>\n",
       "      <td>clothes</td>\n",
       "      <td>2.0</td>\n",
       "      <td>1</td>\n",
       "    </tr>\n",
       "    <tr>\n",
       "      <th>1</th>\n",
       "      <td>user_1000005</td>\n",
       "      <td>2017-01-31 13:57:17</td>\n",
       "      <td>sports_nutrition</td>\n",
       "      <td>1.0</td>\n",
       "      <td>1</td>\n",
       "    </tr>\n",
       "    <tr>\n",
       "      <th>2</th>\n",
       "      <td>user_1000031</td>\n",
       "      <td>2017-02-02 03:25:03</td>\n",
       "      <td>clothes</td>\n",
       "      <td>NaN</td>\n",
       "      <td>1</td>\n",
       "    </tr>\n",
       "    <tr>\n",
       "      <th>3</th>\n",
       "      <td>user_1000035</td>\n",
       "      <td>2017-02-11 22:59:03</td>\n",
       "      <td>accessories</td>\n",
       "      <td>1.0</td>\n",
       "      <td>1</td>\n",
       "    </tr>\n",
       "    <tr>\n",
       "      <th>4</th>\n",
       "      <td>user_1000084</td>\n",
       "      <td>2017-01-15 02:09:14</td>\n",
       "      <td>clothes</td>\n",
       "      <td>1.0</td>\n",
       "      <td>1</td>\n",
       "    </tr>\n",
       "    <tr>\n",
       "      <th>...</th>\n",
       "      <td>...</td>\n",
       "      <td>...</td>\n",
       "      <td>...</td>\n",
       "      <td>...</td>\n",
       "      <td>...</td>\n",
       "    </tr>\n",
       "    <tr>\n",
       "      <th>237861</th>\n",
       "      <td>user_99992</td>\n",
       "      <td>2017-04-19 02:22:03</td>\n",
       "      <td>clothes</td>\n",
       "      <td>NaN</td>\n",
       "      <td>1</td>\n",
       "    </tr>\n",
       "    <tr>\n",
       "      <th>237862</th>\n",
       "      <td>user_999929</td>\n",
       "      <td>2017-02-15 00:49:57</td>\n",
       "      <td>clothes</td>\n",
       "      <td>NaN</td>\n",
       "      <td>1</td>\n",
       "    </tr>\n",
       "    <tr>\n",
       "      <th>237863</th>\n",
       "      <td>user_999951</td>\n",
       "      <td>2017-03-07 05:55:21</td>\n",
       "      <td>clothes</td>\n",
       "      <td>1.0</td>\n",
       "      <td>3</td>\n",
       "    </tr>\n",
       "    <tr>\n",
       "      <th>237864</th>\n",
       "      <td>user_999964</td>\n",
       "      <td>2017-01-26 07:31:57</td>\n",
       "      <td>sneakers</td>\n",
       "      <td>NaN</td>\n",
       "      <td>1</td>\n",
       "    </tr>\n",
       "    <tr>\n",
       "      <th>237865</th>\n",
       "      <td>user_999996</td>\n",
       "      <td>2017-02-18 21:34:35</td>\n",
       "      <td>clothes</td>\n",
       "      <td>3.0</td>\n",
       "      <td>1</td>\n",
       "    </tr>\n",
       "  </tbody>\n",
       "</table>\n",
       "<p>237866 rows × 5 columns</p>\n",
       "</div>"
      ],
      "text/plain": [
       "                user   first_purchase_dt           product  total_clicks  \\\n",
       "0         user_10000 2017-01-23 23:06:10           clothes           2.0   \n",
       "1       user_1000005 2017-01-31 13:57:17  sports_nutrition           1.0   \n",
       "2       user_1000031 2017-02-02 03:25:03           clothes           NaN   \n",
       "3       user_1000035 2017-02-11 22:59:03       accessories           1.0   \n",
       "4       user_1000084 2017-01-15 02:09:14           clothes           1.0   \n",
       "...              ...                 ...               ...           ...   \n",
       "237861    user_99992 2017-04-19 02:22:03           clothes           NaN   \n",
       "237862   user_999929 2017-02-15 00:49:57           clothes           NaN   \n",
       "237863   user_999951 2017-03-07 05:55:21           clothes           1.0   \n",
       "237864   user_999964 2017-01-26 07:31:57          sneakers           NaN   \n",
       "237865   user_999996 2017-02-18 21:34:35           clothes           3.0   \n",
       "\n",
       "        total_orders  \n",
       "0                  1  \n",
       "1                  1  \n",
       "2                  1  \n",
       "3                  1  \n",
       "4                  1  \n",
       "...              ...  \n",
       "237861             1  \n",
       "237862             1  \n",
       "237863             3  \n",
       "237864             1  \n",
       "237865             1  \n",
       "\n",
       "[237866 rows x 5 columns]"
      ]
     },
     "execution_count": 18,
     "metadata": {},
     "output_type": "execute_result"
    }
   ],
   "source": [
    "profiles"
   ]
  },
  {
   "cell_type": "code",
   "execution_count": 19,
   "id": "09812632",
   "metadata": {
    "id": "09812632",
    "outputId": "cad18f4c-2029-45de-dcd3-aecb656fe2df"
   },
   "outputs": [
    {
     "name": "stdout",
     "output_type": "stream",
     "text": [
      "\n",
      "Всего посетителей магазина 4254621\n",
      "Всего покупателей 237866\n",
      "\n"
     ]
    }
   ],
   "source": [
    "print(f'''\n",
    "Всего посетителей магазина {df['user'].nunique()}\n",
    "Всего покупателей {profiles['user'].nunique()}\n",
    "''')"
   ]
  },
  {
   "cell_type": "code",
   "execution_count": 21,
   "id": "aacc6e26",
   "metadata": {
    "id": "aacc6e26",
    "outputId": "b7239da0-d176-41c3-ee86-c462b42be494"
   },
   "outputs": [
    {
     "data": {
      "image/png": "[encoded data removed]",
      "text/plain": [
       "<Figure size 800x500 with 1 Axes>"
      ]
     },
     "metadata": {},
     "output_type": "display_data"
    }
   ],
   "source": [
    "profiles['product'].value_counts().plot(kind='bar',title='Топ первой покупки',figsize=(8,5));\n",
    "for label in plt.gca().get_xticklabels():\n",
    "        label.set_rotation(0)\n"
   ]
  },
  {
   "cell_type": "markdown",
   "id": "f2b5d9e7",
   "metadata": {
    "id": "f2b5d9e7"
   },
   "source": [
    "Первой покупкой, как правило, покупают - одежду или кроссовки. Как самый популярный тип продукта первой покупкой."
   ]
  },
  {
   "cell_type": "code",
   "execution_count": 22,
   "id": "8374ae43",
   "metadata": {
    "id": "8374ae43",
    "outputId": "b7706fd1-0efa-409c-e6be-a0628c9ec646",
    "scrolled": true
   },
   "outputs": [
    {
     "name": "stdout",
     "output_type": "stream",
     "text": [
      "Доля кликов по баннерам, приходящиеся на покупателей 16.18 %\n",
      "Доля покупателей от всех юзеров 5.59 %\n",
      "Доля не нажимавших по баннеру среди покупателей продуктов 52.89 %\n"
     ]
    }
   ],
   "source": [
    "print(f'''Доля кликов по баннерам, приходящиеся на покупателей {round(profiles['total_clicks'].sum()*100/df.query('title ==\"banner_click\"').shape[0],2)} %\n",
    "Доля покупателей от всех юзеров {round(profiles.shape[0]*100/df['user'].nunique(),2) } %\n",
    "Доля не нажимавших по баннеру среди покупателей продуктов {round(profiles['total_clicks'].isna().sum()*100/profiles.shape[0],2)} %''')"
   ]
  },
  {
   "cell_type": "markdown",
   "id": "79e233c7",
   "metadata": {
    "id": "79e233c7"
   },
   "source": [
    "Порядка 53% пользователей, которые совершили покупку - не кликали по баннеру до покупки, что достаточно интересный момент.  \n",
    "Кроме того, на оставшиеся ~47% покупателей приходится всех около 16% всех кликов, то есть иными словами, у нас есть порядка 84% всего объема кликов, которые гипотетически не были конвертированы в покупки (гипотетически, тк на самом деле даже 16%, что совершили покупатели - еще не гарантирует, что эти клики довели наших покупателей до покупки).\n"
   ]
  },
  {
   "cell_type": "code",
   "execution_count": 23,
   "id": "6d88ac94",
   "metadata": {
    "id": "6d88ac94",
    "outputId": "09af9e6b-f3ff-494c-e6b5-edef77cfaa02"
   },
   "outputs": [
    {
     "data": {
      "image/png": "[encoded data removed]",
      "text/plain": [
       "<Figure size 800x500 with 1 Axes>"
      ]
     },
     "metadata": {},
     "output_type": "display_data"
    }
   ],
   "source": [
    "plt.figure(figsize=(8,5))\n",
    "profiles[profiles['total_clicks'].notna()]['total_orders'].rename('Yes').hist(alpha=0.5)\n",
    "profiles[profiles['total_clicks'].isna()]['total_orders'].rename('No').hist(alpha=0.5)\n",
    "\n",
    "plt.gca().set_title('Частотное распределение числа заказов')\n",
    "plt.xlabel('Число заказов')\n",
    "plt.ylabel('Число покупателей')\n",
    "plt.legend(['Yes','No'],title='Is click');"
   ]
  },
  {
   "cell_type": "markdown",
   "id": "98f03bf1",
   "metadata": {
    "id": "98f03bf1"
   },
   "source": [
    "Это распределение - означает, что покупатели, которые переходили по баннерам и не переходили - не отличаются по количеству, совершаемых заказов, иными словами, я считаю, что пользователи вполне могли бы совершить свои покупки, не увидев этих самых баннеров, по которым они перешли.\n",
    "\n",
    "Теперь нужно установить, сколько пользователей, из которых кликали 1-2 раза (значительная доля пользователей) - их клик не ассоциируется с реальной их покупкой."
   ]
  },
  {
   "cell_type": "code",
   "execution_count": 24,
   "id": "9edc0533",
   "metadata": {
    "id": "9edc0533"
   },
   "outputs": [],
   "source": [
    "events[['next_title','next_title_dt']] = events.sort_values(by=['user','time']).groupby('user')[['title','time']].shift(-1)\n",
    "events['hour_duration'] = (events['next_title_dt'] - events['time']).dt.total_seconds()/(60*60)"
   ]
  },
  {
   "cell_type": "code",
   "execution_count": 26,
   "id": "3a1d25a8",
   "metadata": {
    "id": "3a1d25a8",
    "outputId": "fffc22b3-32ae-47e2-fd4d-83732f84b9ea"
   },
   "outputs": [
    {
     "data": {
      "text/html": [
       "<div>\n",
       "<style scoped>\n",
       "    .dataframe tbody tr th:only-of-type {\n",
       "        vertical-align: middle;\n",
       "    }\n",
       "\n",
       "    .dataframe tbody tr th {\n",
       "        vertical-align: top;\n",
       "    }\n",
       "\n",
       "    .dataframe thead th {\n",
       "        text-align: right;\n",
       "    }\n",
       "</style>\n",
       "<table border=\"1\" class=\"dataframe\">\n",
       "  <thead>\n",
       "    <tr style=\"text-align: right;\">\n",
       "      <th></th>\n",
       "      <th>index</th>\n",
       "      <th>order_id</th>\n",
       "      <th>page_id</th>\n",
       "      <th>product</th>\n",
       "      <th>site_version</th>\n",
       "      <th>time</th>\n",
       "      <th>title</th>\n",
       "      <th>user</th>\n",
       "      <th>month</th>\n",
       "      <th>next_title</th>\n",
       "      <th>next_title_dt</th>\n",
       "      <th>hour_duration</th>\n",
       "    </tr>\n",
       "  </thead>\n",
       "  <tbody>\n",
       "    <tr>\n",
       "      <th>0</th>\n",
       "      <td>60</td>\n",
       "      <td>NaN</td>\n",
       "      <td>93.0</td>\n",
       "      <td>sports_nutrition</td>\n",
       "      <td>desktop</td>\n",
       "      <td>2017-01-11 17:14:04</td>\n",
       "      <td>banner_show</td>\n",
       "      <td>user_21</td>\n",
       "      <td>Январь</td>\n",
       "      <td>banner_show</td>\n",
       "      <td>2017-01-12 08:41:38</td>\n",
       "      <td>15.459444</td>\n",
       "    </tr>\n",
       "    <tr>\n",
       "      <th>1</th>\n",
       "      <td>61</td>\n",
       "      <td>NaN</td>\n",
       "      <td>6153399.0</td>\n",
       "      <td>clothes</td>\n",
       "      <td>desktop</td>\n",
       "      <td>2017-01-12 08:41:38</td>\n",
       "      <td>banner_show</td>\n",
       "      <td>user_21</td>\n",
       "      <td>Январь</td>\n",
       "      <td>banner_show</td>\n",
       "      <td>2017-02-28 11:31:01</td>\n",
       "      <td>1130.823056</td>\n",
       "    </tr>\n",
       "    <tr>\n",
       "      <th>2</th>\n",
       "      <td>62</td>\n",
       "      <td>NaN</td>\n",
       "      <td>15907953.0</td>\n",
       "      <td>company</td>\n",
       "      <td>desktop</td>\n",
       "      <td>2017-04-26 07:25:52</td>\n",
       "      <td>banner_show</td>\n",
       "      <td>user_21</td>\n",
       "      <td>Апрель</td>\n",
       "      <td>NaN</td>\n",
       "      <td>NaT</td>\n",
       "      <td>NaN</td>\n",
       "    </tr>\n",
       "    <tr>\n",
       "      <th>3</th>\n",
       "      <td>63</td>\n",
       "      <td>NaN</td>\n",
       "      <td>17137473.0</td>\n",
       "      <td>company</td>\n",
       "      <td>desktop</td>\n",
       "      <td>2017-02-28 11:31:01</td>\n",
       "      <td>banner_show</td>\n",
       "      <td>user_21</td>\n",
       "      <td>Февраль</td>\n",
       "      <td>banner_click</td>\n",
       "      <td>2017-02-28 11:32:49</td>\n",
       "      <td>0.030000</td>\n",
       "    </tr>\n",
       "    <tr>\n",
       "      <th>4</th>\n",
       "      <td>64</td>\n",
       "      <td>NaN</td>\n",
       "      <td>18850043.0</td>\n",
       "      <td>sports_nutrition</td>\n",
       "      <td>desktop</td>\n",
       "      <td>2017-04-07 04:39:00</td>\n",
       "      <td>banner_show</td>\n",
       "      <td>user_21</td>\n",
       "      <td>Апрель</td>\n",
       "      <td>banner_show</td>\n",
       "      <td>2017-04-26 07:25:52</td>\n",
       "      <td>458.781111</td>\n",
       "    </tr>\n",
       "    <tr>\n",
       "      <th>...</th>\n",
       "      <td>...</td>\n",
       "      <td>...</td>\n",
       "      <td>...</td>\n",
       "      <td>...</td>\n",
       "      <td>...</td>\n",
       "      <td>...</td>\n",
       "      <td>...</td>\n",
       "      <td>...</td>\n",
       "      <td>...</td>\n",
       "      <td>...</td>\n",
       "      <td>...</td>\n",
       "      <td>...</td>\n",
       "    </tr>\n",
       "    <tr>\n",
       "      <th>999307</th>\n",
       "      <td>8471126</td>\n",
       "      <td>NaN</td>\n",
       "      <td>24896891.0</td>\n",
       "      <td>clothes</td>\n",
       "      <td>mobile</td>\n",
       "      <td>2017-05-20 16:26:39</td>\n",
       "      <td>banner_show</td>\n",
       "      <td>user_4254547</td>\n",
       "      <td>Май</td>\n",
       "      <td>banner_click</td>\n",
       "      <td>2017-05-20 16:27:06</td>\n",
       "      <td>0.007500</td>\n",
       "    </tr>\n",
       "    <tr>\n",
       "      <th>999308</th>\n",
       "      <td>8471127</td>\n",
       "      <td>NaN</td>\n",
       "      <td>24896891.0</td>\n",
       "      <td>clothes</td>\n",
       "      <td>mobile</td>\n",
       "      <td>2017-05-20 16:27:06</td>\n",
       "      <td>banner_click</td>\n",
       "      <td>user_4254547</td>\n",
       "      <td>Май</td>\n",
       "      <td>banner_show</td>\n",
       "      <td>2017-05-22 06:09:58</td>\n",
       "      <td>37.714444</td>\n",
       "    </tr>\n",
       "    <tr>\n",
       "      <th>999309</th>\n",
       "      <td>8471128</td>\n",
       "      <td>770048.0</td>\n",
       "      <td>NaN</td>\n",
       "      <td>clothes</td>\n",
       "      <td>mobile</td>\n",
       "      <td>2017-05-11 23:48:35</td>\n",
       "      <td>order</td>\n",
       "      <td>user_4254547</td>\n",
       "      <td>Май</td>\n",
       "      <td>banner_show</td>\n",
       "      <td>2017-05-20 16:26:39</td>\n",
       "      <td>208.634444</td>\n",
       "    </tr>\n",
       "    <tr>\n",
       "      <th>999310</th>\n",
       "      <td>8471158</td>\n",
       "      <td>NaN</td>\n",
       "      <td>24896982.0</td>\n",
       "      <td>sports_nutrition</td>\n",
       "      <td>desktop</td>\n",
       "      <td>2017-05-18 21:08:58</td>\n",
       "      <td>banner_show</td>\n",
       "      <td>user_4254571</td>\n",
       "      <td>Май</td>\n",
       "      <td>order</td>\n",
       "      <td>2017-05-26 22:21:17</td>\n",
       "      <td>193.205278</td>\n",
       "    </tr>\n",
       "    <tr>\n",
       "      <th>999311</th>\n",
       "      <td>8471159</td>\n",
       "      <td>375028.0</td>\n",
       "      <td>NaN</td>\n",
       "      <td>clothes</td>\n",
       "      <td>desktop</td>\n",
       "      <td>2017-05-26 22:21:17</td>\n",
       "      <td>order</td>\n",
       "      <td>user_4254571</td>\n",
       "      <td>Май</td>\n",
       "      <td>NaN</td>\n",
       "      <td>NaT</td>\n",
       "      <td>NaN</td>\n",
       "    </tr>\n",
       "  </tbody>\n",
       "</table>\n",
       "<p>999312 rows × 12 columns</p>\n",
       "</div>"
      ],
      "text/plain": [
       "          index  order_id     page_id           product site_version  \\\n",
       "0            60       NaN        93.0  sports_nutrition      desktop   \n",
       "1            61       NaN   6153399.0           clothes      desktop   \n",
       "2            62       NaN  15907953.0           company      desktop   \n",
       "3            63       NaN  17137473.0           company      desktop   \n",
       "4            64       NaN  18850043.0  sports_nutrition      desktop   \n",
       "...         ...       ...         ...               ...          ...   \n",
       "999307  8471126       NaN  24896891.0           clothes       mobile   \n",
       "999308  8471127       NaN  24896891.0           clothes       mobile   \n",
       "999309  8471128  770048.0         NaN           clothes       mobile   \n",
       "999310  8471158       NaN  24896982.0  sports_nutrition      desktop   \n",
       "999311  8471159  375028.0         NaN           clothes      desktop   \n",
       "\n",
       "                      time         title          user    month    next_title  \\\n",
       "0      2017-01-11 17:14:04   banner_show       user_21   Январь   banner_show   \n",
       "1      2017-01-12 08:41:38   banner_show       user_21   Январь   banner_show   \n",
       "2      2017-04-26 07:25:52   banner_show       user_21   Апрель           NaN   \n",
       "3      2017-02-28 11:31:01   banner_show       user_21  Февраль  banner_click   \n",
       "4      2017-04-07 04:39:00   banner_show       user_21   Апрель   banner_show   \n",
       "...                    ...           ...           ...      ...           ...   \n",
       "999307 2017-05-20 16:26:39   banner_show  user_4254547      Май  banner_click   \n",
       "999308 2017-05-20 16:27:06  banner_click  user_4254547      Май   banner_show   \n",
       "999309 2017-05-11 23:48:35         order  user_4254547      Май   banner_show   \n",
       "999310 2017-05-18 21:08:58   banner_show  user_4254571      Май         order   \n",
       "999311 2017-05-26 22:21:17         order  user_4254571      Май           NaN   \n",
       "\n",
       "             next_title_dt  hour_duration  \n",
       "0      2017-01-12 08:41:38      15.459444  \n",
       "1      2017-02-28 11:31:01    1130.823056  \n",
       "2                      NaT            NaN  \n",
       "3      2017-02-28 11:32:49       0.030000  \n",
       "4      2017-04-26 07:25:52     458.781111  \n",
       "...                    ...            ...  \n",
       "999307 2017-05-20 16:27:06       0.007500  \n",
       "999308 2017-05-22 06:09:58      37.714444  \n",
       "999309 2017-05-20 16:26:39     208.634444  \n",
       "999310 2017-05-26 22:21:17     193.205278  \n",
       "999311                 NaT            NaN  \n",
       "\n",
       "[999312 rows x 12 columns]"
      ]
     },
     "execution_count": 26,
     "metadata": {},
     "output_type": "execute_result"
    }
   ],
   "source": [
    "events"
   ]
  },
  {
   "cell_type": "code",
   "execution_count": 27,
   "id": "4fd2a5cb",
   "metadata": {
    "id": "4fd2a5cb",
    "outputId": "880db5b8-adc9-4bdd-a859-a7c14268fa14"
   },
   "outputs": [
    {
     "data": {
      "text/plain": [
       "title         next_title  \n",
       "banner_show   banner_show     268343\n",
       "order         banner_show     148019\n",
       "banner_show   banner_click    134129\n",
       "              order           108001\n",
       "banner_click  banner_show      58538\n",
       "              order            41061\n",
       "order         order             3343\n",
       "banner_click  banner_click         6\n",
       "order         banner_click         6\n",
       "dtype: int64"
      ]
     },
     "execution_count": 27,
     "metadata": {},
     "output_type": "execute_result"
    }
   ],
   "source": [
    "events[['title','next_title']].value_counts()"
   ]
  },
  {
   "cell_type": "markdown",
   "id": "e4174c47",
   "metadata": {
    "id": "e4174c47"
   },
   "source": [
    "Теперь у нас есть представление о том, как проходил кликстрим пользователей. Из этого можно проанализировать, что было самым популярным ивентом, предшествующим нашему заказу. Важно отметить, что больше случаев, когда пользователь увидел баннер, а потом сделал заказ, против клика, а затем заказа."
   ]
  },
  {
   "cell_type": "code",
   "execution_count": 28,
   "id": "1901cff8",
   "metadata": {
    "id": "1901cff8",
    "outputId": "9d29a58b-5a4b-40ec-b26e-c9fd031f9c08"
   },
   "outputs": [
    {
     "data": {
      "text/html": [
       "<div>\n",
       "<style scoped>\n",
       "    .dataframe tbody tr th:only-of-type {\n",
       "        vertical-align: middle;\n",
       "    }\n",
       "\n",
       "    .dataframe tbody tr th {\n",
       "        vertical-align: top;\n",
       "    }\n",
       "\n",
       "    .dataframe thead th {\n",
       "        text-align: right;\n",
       "    }\n",
       "</style>\n",
       "<table border=\"1\" class=\"dataframe\">\n",
       "  <thead>\n",
       "    <tr style=\"text-align: right;\">\n",
       "      <th>title</th>\n",
       "      <th>banner_click</th>\n",
       "      <th>banner_show</th>\n",
       "      <th>order</th>\n",
       "    </tr>\n",
       "    <tr>\n",
       "      <th>next_title</th>\n",
       "      <th></th>\n",
       "      <th></th>\n",
       "      <th></th>\n",
       "    </tr>\n",
       "  </thead>\n",
       "  <tbody>\n",
       "    <tr>\n",
       "      <th>banner_click</th>\n",
       "      <td>6</td>\n",
       "      <td>112065</td>\n",
       "      <td>6</td>\n",
       "    </tr>\n",
       "    <tr>\n",
       "      <th>banner_show</th>\n",
       "      <td>48403</td>\n",
       "      <td>116485</td>\n",
       "      <td>144274</td>\n",
       "    </tr>\n",
       "    <tr>\n",
       "      <th>order</th>\n",
       "      <td>40905</td>\n",
       "      <td>105472</td>\n",
       "      <td>3272</td>\n",
       "    </tr>\n",
       "  </tbody>\n",
       "</table>\n",
       "</div>"
      ],
      "text/plain": [
       "title         banner_click  banner_show   order\n",
       "next_title                                     \n",
       "banner_click             6       112065       6\n",
       "banner_show          48403       116485  144274\n",
       "order                40905       105472    3272"
      ]
     },
     "execution_count": 28,
     "metadata": {},
     "output_type": "execute_result"
    }
   ],
   "source": [
    "events.pivot_table(index='next_title',columns='title',values='user',aggfunc='nunique')"
   ]
  },
  {
   "cell_type": "code",
   "execution_count": null,
   "id": "00dd958f",
   "metadata": {
    "id": "00dd958f",
    "outputId": "e9bac418-9ffa-440f-ad66-bc9f57cd3429"
   },
   "outputs": [],
   "source": [
    "fig,axes = plt.subplots(ncols=2,figsize=(8,5))\n",
    "fig.suptitle('Общий размах времени между кликом по баннеру и заказом')\n",
    "sns.boxplot(data=events.query('title==\"banner_click\" and next_title==\"order\"'),x='hour_duration',ax=axes[0]);\n",
    "axes[0].set_xlabel('Время разницы в часах')\n",
    "plt.sca(axes[1])\n",
    "events.query('title==\"banner_click\" and next_title==\"order\"')['hour_duration'].hist(bins=750);\n",
    "plt.gca().set_xlabel('Время разницы в часах');"
   ]
  },
  {
   "cell_type": "markdown",
   "id": "e48014e2",
   "metadata": {
    "id": "e48014e2"
   },
   "source": [
    "Рассмотрим общий размах разности в часах между кликом по баннеру и следующим заказом в разрезе версии сайта и продукта, заказ которого совершают."
   ]
  },
  {
   "cell_type": "code",
   "execution_count": 29,
   "id": "f95a6b1d",
   "metadata": {
    "code_folding": [],
    "id": "f95a6b1d",
    "outputId": "db25340d-fac0-49b2-9b3a-cc29aebe5d1e"
   },
   "outputs": [
    {
     "data": {
      "image/png": "[encoded data removed]",
      "text/plain": [
       "<Figure size 1000x600 with 10 Axes>"
      ]
     },
     "metadata": {},
     "output_type": "display_data"
    }
   ],
   "source": [
    "import warnings\n",
    "warnings.filterwarnings(\"ignore\", category=UserWarning)\n",
    "fig,axes = plt.subplots(ncols=5,nrows=2,figsize=(10,6),sharey=True)\n",
    "\n",
    "#\n",
    "events.query('title==\"banner_click\" and next_title==\"order\"')\\\n",
    "    .groupby('product')\\\n",
    "    .boxplot(column='hour_duration',\n",
    "             ax=axes[0][:]);\n",
    "#\n",
    "events.query('title==\"banner_click\" and next_title==\"order\"')\\\n",
    "    .groupby('product')\\\n",
    "    .boxplot(column='hour_duration',\n",
    "             by='site_version',\n",
    "             ax=axes[1][:]);\n",
    "fig.suptitle('Сlick -> Order размах в часах');\n",
    "\n",
    "fig.tight_layout()"
   ]
  },
  {
   "cell_type": "markdown",
   "id": "ee35d05a",
   "metadata": {
    "id": "ee35d05a"
   },
   "source": [
    "Здесь по y - отложено количество часов, которое прошло между кликом и заказом. Фиолетовая линия в прямоугольнике - это медиана.\n",
    "Из всех графиков она держится на уровне порядка 250 часов (~10 суток). То есть порядка более 50% всех заказов, которым предшествовал клик, были сделаны через 10 дней (очевидно, что клики не как не повлияли на совершенный заказ).\n"
   ]
  },
  {
   "cell_type": "code",
   "execution_count": 30,
   "id": "f0e9ee86",
   "metadata": {
    "id": "f0e9ee86",
    "outputId": "f7ee228e-0471-45e8-d360-e78060b1121d"
   },
   "outputs": [
    {
     "data": {
      "text/plain": [
       "product\n",
       "accessories         266.424722\n",
       "clothes             266.581667\n",
       "company             277.792500\n",
       "sneakers            270.889444\n",
       "sports_nutrition    269.433056\n",
       "Name: hour_duration, dtype: float64"
      ]
     },
     "execution_count": 30,
     "metadata": {},
     "output_type": "execute_result"
    }
   ],
   "source": [
    "events.query('title==\"banner_click\" and next_title==\"order\"')\\\n",
    "    .groupby('product')['hour_duration'].median()"
   ]
  },
  {
   "cell_type": "markdown",
   "id": "b7a4ca60",
   "metadata": {
    "id": "b7a4ca60"
   },
   "source": [
    "Количественное подтверждение по примеру с продуктами. Для разных версий сайта - будет примерно тоже самое."
   ]
  },
  {
   "cell_type": "code",
   "execution_count": 31,
   "id": "19345c24",
   "metadata": {
    "id": "19345c24",
    "outputId": "3349df22-a41b-41e0-cd60-6687a2ff50c4"
   },
   "outputs": [
    {
     "data": {
      "image/png": "[encoded data removed]",
      "text/plain": [
       "<Figure size 1000x600 with 10 Axes>"
      ]
     },
     "metadata": {},
     "output_type": "display_data"
    }
   ],
   "source": [
    "fig,axes = plt.subplots(ncols=5,nrows=2, figsize=(10,6),sharey=True)\n",
    "\n",
    "\n",
    "data=events.query('title==\"banner_show\" and next_title==\"banner_click\"')\\\n",
    "    .groupby('product')\\\n",
    "    .boxplot(column='hour_duration',ax=axes[0][:])\n",
    "\n",
    "events.query('title==\"banner_show\" and next_title==\"banner_click\"')\\\n",
    "    .groupby('product').boxplot(column='hour_duration',by='site_version',ax=axes[1][:]);\n",
    "\n",
    "fig.suptitle('Show -> Click размах в часах')\n",
    "fig.tight_layout()\n",
    "None"
   ]
  },
  {
   "cell_type": "markdown",
   "id": "96680cbd",
   "metadata": {
    "id": "96680cbd"
   },
   "source": [
    "В противовес, я сделал пример, где после просмотра баннера клик. Здесь отображены размахи времени между title - `banner_show` -> `banner_click`, здесь медиана это порядка 0.05 часа или 3 минуты, если списать на всякие погрешности регистрации ивентов, то это выглядит достаточно логично и ожидаемо.  \n",
    "\n",
    "Даже если брать ~0.15ч (9 минут) - как 99% квантиль, выглядит все еще естественным как аномалия для таких сценариев."
   ]
  },
  {
   "cell_type": "markdown",
   "id": "69097ea3",
   "metadata": {
    "id": "69097ea3"
   },
   "source": [
    "*"
   ]
  },
  {
   "cell_type": "code",
   "execution_count": null,
   "id": "d0aab571",
   "metadata": {
    "id": "d0aab571",
    "outputId": "d7e81bdf-f817-4400-a651-e5ef819861ad"
   },
   "outputs": [],
   "source": [
    "fig,axes = plt.subplots(ncols=3, figsize=(10,6),sharey=True)\n",
    "events.query('next_title==\"order\"').groupby('title').boxplot(column='hour_duration',ax=axes);"
   ]
  },
  {
   "cell_type": "markdown",
   "id": "130f3d5e",
   "metadata": {
    "id": "130f3d5e"
   },
   "source": [
    "Эта диаграмма подкрепляет тот факт, что не существуют нелинейных сценариев (где переходу к заказу мог бы предшествовать любой другой), тк все предшествующие события заказу - имеют одинаковой размах во времени."
   ]
  },
  {
   "cell_type": "markdown",
   "id": "5a468ec5",
   "metadata": {
    "id": "5a468ec5"
   },
   "source": [
    "# Impact"
   ]
  },
  {
   "cell_type": "markdown",
   "id": "2700699a",
   "metadata": {
    "id": "2700699a"
   },
   "source": [
    "Из предыдущих соображений, нужно определить, сколько времени должно пройти между кликом и показом баннера. Я предлагаю определить, что 24 часа достаточно пользователю, чтобы после перехода по баннеру - сделать покупку. Можно установить и меньше времени, но по анализу графиков с размахом времени - с меньшем временем - попадет и меньшее число в вычисляемые показатели."
   ]
  },
  {
   "cell_type": "code",
   "execution_count": 32,
   "id": "d7135be8",
   "metadata": {
    "id": "d7135be8",
    "outputId": "41d89086-9431-47b2-84dd-cbccbbc00d3e"
   },
   "outputs": [
    {
     "name": "stdout",
     "output_type": "stream",
     "text": [
      "2467 пользователей сделали 2468 заказов, благодаря баннерам, которые показывает магазин\n",
      "41061 заказов было сделано после клика по баннеру\n",
      "2468 заказов, которые были отфильтрованы критерием в 24 часа разницы между кликом и баннером - это 6.01 % всех заказов с таким сценарием\n",
      "\n"
     ]
    }
   ],
   "source": [
    "print(f'''{events.query('title==\"banner_click\" and next_title==\"order\" and hour_duration <= 24')['user'].nunique()} пользователей сделали {events.query('title==\"banner_click\" and next_title==\"order\" and hour_duration <= 24').shape[0]} заказов, благодаря баннерам, которые показывает магазин\n",
    "{events.query('title==\"banner_click\" and next_title==\"order\"').shape[0]} заказов было сделано после клика по баннеру\n",
    "2468 заказов, которые были отфильтрованы критерием в 24 часа разницы между кликом и баннером - это {round(events.query('title==\"banner_click\" and next_title==\"order\" and hour_duration <= 24').shape[0]*100/events.query('title==\"banner_click\" and next_title==\"order\"').shape[0],2)} % всех заказов с таким сценарием\n",
    "''')"
   ]
  },
  {
   "cell_type": "markdown",
   "id": "3a5e03c5",
   "metadata": {
    "id": "3a5e03c5"
   },
   "source": [
    "\n",
    "Получается баннеры за полгода информации из данных привели порядка 2467 покупателей до покупки, кроме того, сложно сказать, что покупка по баннеру - активизирует пользователя больше покупать - тк число у \"органических\" покупателей, который совершали заказы без кликов, совпадает распределение заказов с пользователями, что кликали баннеры."
   ]
  },
  {
   "cell_type": "code",
   "execution_count": 33,
   "id": "d68ce563",
   "metadata": {
    "id": "d68ce563",
    "outputId": "554800c6-5973-4414-80b5-95c59b0b11cf",
    "scrolled": true
   },
   "outputs": [
    {
     "name": "stdout",
     "output_type": "stream",
     "text": [
      " Около 0.99 % всех заказов было сделано, благодаря баннерам, которые простимулировали покупателей сделать покупку\n"
     ]
    }
   ],
   "source": [
    "print(f''' Около {round(events.query('title==\"banner_click\" and next_title==\"order\" and hour_duration <= 24').shape[0]*100/df.query('title==\"order\"').shape[0],2)} % всех заказов было сделано, благодаря баннерам, которые простимулировали покупателей сделать покупку''')\n"
   ]
  },
  {
   "cell_type": "markdown",
   "id": "cfb7acb9",
   "metadata": {
    "id": "cfb7acb9"
   },
   "source": [
    "# Result"
   ]
  },
  {
   "cell_type": "markdown",
   "id": "341bf2b4",
   "metadata": {
    "id": "341bf2b4"
   },
   "source": [
    " 1. Хочется отметить, что мобильная версия магазина - имеет большую аудиторию и большую конверсию переходов по баннерам, что подтверждает слова маркетологов о влияние сегмента ЦА на ожидаемый эффект от показанных баннеров\n",
    "\n",
    " 2. Конверсия на мобильной версии сайта - колеблется от 10 до 15 % против 5 и 10% в десктопном браузере\n",
    "\n",
    " 3. Важно отметить, что очень высокая конверсия для кроссовок и одежды, полагаю, что это последние категории продуктов на баннерах, от которых стоит отказываться, тк они существенно расширяют существующие воронки для данных типов продуктов.\n",
    "\n",
    "4. Порядка 53% пользователей, которые совершили покупку - не кликали по баннеру до покупки, что достаточно интересный момент.\n",
    "\n",
    "5. Кроме того, на оставшиеся ~47% покупателей приходится всех около 16% всех кликов, то есть иными словами, у нас есть порядка 84% всего объема кликов, которые гипотетически не были конвертированы в покупки (гипотетически, тк на самом деле даже 16%, что совершили покупатели - еще не гарантирует, что эти клики довели наших покупателей до покупки).\n",
    "\n",
    "6. Также можно отметить, что существует огромная задежрка между кликом и заказом, что делают покупатели. Медиана разницы времени между этими двумя title - порядка 250 часов, что ~10 суток, что означает, что баннеру не стимулируют покупку на самом деле.\n",
    "\n",
    "    Чтобы посчитать действительно простимулированыне покупки - я посчитал число заказов, которые оформили заказ в течение 24 часов после последнего клика, получилось, что при таком (достаточно большем времени) - было совершено 6% от всех заказов с таким сценарием и 1% от всего объема заказов за все время.\n",
    "    \n",
    "Мне кажется, такие цифры достаточно убедительно выглядит, что утверждать, что часть баннеров можно было бы отдать под клики, тк очевиден слабое влияние на число заказов, но все равно, можно смоделировать ситуацию, чтобы примерно оценить, какую **упущенную выгоду** оказывает показ баннеров своих продуктов."
   ]
  },
  {
   "cell_type": "markdown",
   "id": "61af8217",
   "metadata": {
    "id": "61af8217"
   },
   "source": [
    "# Lost profit\n",
    "\n",
    "Определим упущенную выгоду, как разницу между прибылью, что мы получили бы с показа баннеров стороннего сервиса, и прибылью, которую мы получаем с стимулированных заказов, с помощью показа баннеров с нашей продукцией.\n",
    "В качестве баннеров, которые мы заместим определим - `Спортивное питание` и `Аксессуары`, клики по которым нам известным (см. в Conversion Rate)."
   ]
  },
  {
   "cell_type": "code",
   "execution_count": 34,
   "id": "c9d04f76",
   "metadata": {
    "id": "c9d04f76"
   },
   "outputs": [],
   "source": [
    "products = ['accessories','sports_nutrition']"
   ]
  },
  {
   "cell_type": "code",
   "execution_count": 35,
   "id": "56e1badf",
   "metadata": {
    "id": "56e1badf"
   },
   "outputs": [],
   "source": [
    "clicks = {\"Спортивное питание\" : 144918,\n",
    "    \"Аксессуары\" : 136254}"
   ]
  },
  {
   "cell_type": "code",
   "execution_count": 36,
   "id": "30abab16",
   "metadata": {
    "id": "30abab16",
    "outputId": "0d1fe83f-16f5-4afc-900c-b1bc9c74317c",
    "scrolled": true
   },
   "outputs": [
    {
     "data": {
      "text/plain": [
       "32.982171799027554"
      ]
     },
     "execution_count": 36,
     "metadata": {},
     "output_type": "execute_result"
    }
   ],
   "source": [
    "events.query('title==\"banner_click\" and next_title==\"order\" and hour_duration <= 24 and product in @products ').shape[0]*100/events.query('title==\"banner_click\" and next_title==\"order\" and hour_duration <= 24 ').shape[0]"
   ]
  },
  {
   "cell_type": "code",
   "execution_count": 37,
   "id": "cad76749",
   "metadata": {
    "id": "cad76749",
    "outputId": "b9c633f1-f6ed-4049-88c3-3855118b0cb7"
   },
   "outputs": [
    {
     "data": {
      "text/plain": [
       "271272.0"
      ]
     },
     "execution_count": 37,
     "metadata": {},
     "output_type": "execute_result"
    }
   ],
   "source": [
    "(144918+136254) - 0.0033*3_000_000"
   ]
  },
  {
   "cell_type": "markdown",
   "id": "5bdce59d",
   "metadata": {
    "id": "5bdce59d"
   },
   "source": [
    "33% стимулированных заказов из рассматриваемой категории от 1%, выходит, что мы отказываеся от 33%*1% = 0.33% всех заказов."
   ]
  },
  {
   "cell_type": "code",
   "execution_count": 38,
   "id": "a37da1b7",
   "metadata": {
    "id": "a37da1b7"
   },
   "outputs": [],
   "source": [
    "def lost_profit(cpc,profit_nutrition,profit_acces):\n",
    "    '''\n",
    "    cpc - стоимость за клик по баннеру\n",
    "    profit_nutrition - прибыль с продажи спортивного питания\n",
    "    profit_acces - прибыль с продажи акссесуаров\n",
    "\n",
    "    '''\n",
    "    potential_profit = 0\n",
    "    for click in clicks.values():\n",
    "        potential_profit += click*cpc\n",
    "    return potential_profit - 0.0033*(profit_acces+profit_nutrition)"
   ]
  },
  {
   "cell_type": "code",
   "execution_count": 39,
   "id": "82ef45a9",
   "metadata": {
    "id": "82ef45a9"
   },
   "outputs": [],
   "source": [
    "import numpy as np"
   ]
  },
  {
   "cell_type": "markdown",
   "id": "317b4a1c",
   "metadata": {
    "id": "317b4a1c"
   },
   "source": [
    "Допустим, что мы считаем, что за эти полгода мы получили 2_000_000 прибыли с продажи спортивного питания и 1_000_000 прибыли с продажи акссесуаров."
   ]
  },
  {
   "cell_type": "code",
   "execution_count": 40,
   "id": "a256f304",
   "metadata": {
    "id": "a256f304"
   },
   "outputs": [],
   "source": [
    "costs = np.arange(0,2,0.5)"
   ]
  },
  {
   "cell_type": "code",
   "execution_count": 41,
   "id": "f42620b3",
   "metadata": {
    "id": "f42620b3",
    "outputId": "10ac99db-1fcf-4f5f-d916-c5cdd6dad080"
   },
   "outputs": [
    {
     "data": {
      "image/png": "[encoded data removed]",
      "text/plain": [
       "<Figure size 1100x500 with 1 Axes>"
      ]
     },
     "metadata": {},
     "output_type": "display_data"
    }
   ],
   "source": [
    "plt.figure(figsize=(11,5))\n",
    "plt.plot(costs,lost_profit(costs,2_000_000,1_000_000))\n",
    "plt.gca().set_title('Lost profit from cost per clicks')\n",
    "plt.gca().set_ylabel('Lost profit')\n",
    "plt.gca().set_xlabel('Cost per clicks')\n",
    "plt.gca().ticklabel_format(style='plain')\n",
    "plt.gca().vlines(x=1,linestyle='--',alpha=0.4,ymin=0,ymax=lost_profit(1,2_000_000,1_000_000))\n",
    "\n",
    "None"
   ]
  },
  {
   "cell_type": "markdown",
   "id": "f9f6bf74",
   "metadata": {
    "id": "f9f6bf74"
   },
   "source": [
    "Итого, можно заключить, что с учетом прибыли, которую мы предполагаем с продажи аксессуаров  и спортивного питания - мы могли бы заработать намного больше, если бы отказались от показа баннеров этих продуктов и стали продавать на их место рекламу (примерно не ниже стоимости порядка 20 копеек за 1 клик).  \n",
    "\n",
    "При таких условиях наши потери стали бы неотрицательными, и лишь увеличивались бы с ростом возможной стоимости 1 клика нашего баннера."
   ]
  },
  {
   "cell_type": "code",
   "execution_count": null,
   "id": "e47d5b26",
   "metadata": {
    "id": "e47d5b26"
   },
   "outputs": [],
   "source": []
  }
 ],
 "metadata": {
  "colab": {
   "provenance": []
  },
  "kernelspec": {
   "display_name": "Python 3 (ipykernel)",
   "language": "python",
   "name": "python3"
  },
  "language_info": {
   "codemirror_mode": {
    "name": "ipython",
    "version": 3
   },
   "file_extension": ".py",
   "mimetype": "text/x-python",
   "name": "python",
   "nbconvert_exporter": "python",
   "pygments_lexer": "ipython3",
   "version": "3.11.3"
  },
  "toc": {
   "base_numbering": 1,
   "nav_menu": {},
   "number_sections": true,
   "sideBar": true,
   "skip_h1_title": false,
   "title_cell": "Table of Contents",
   "title_sidebar": "Contents",
   "toc_cell": false,
   "toc_position": {},
   "toc_section_display": true,
   "toc_window_display": false
  },
  "varInspector": {
   "cols": {
    "lenName": 16,
    "lenType": 16,
    "lenVar": 40
   },
   "kernels_config": {
    "python": {
     "delete_cmd_postfix": "",
     "delete_cmd_prefix": "del ",
     "library": "var_list.py",
     "varRefreshCmd": "print(var_dic_list())"
    },
    "r": {
     "delete_cmd_postfix": ") ",
     "delete_cmd_prefix": "rm(",
     "library": "var_list.r",
     "varRefreshCmd": "cat(var_dic_list()) "
    }
   },
   "types_to_exclude": [
    "module",
    "function",
    "builtin_function_or_method",
    "instance",
    "_Feature"
   ],
   "window_display": false
  }
 },
 "nbformat": 4,
 "nbformat_minor": 5
}
