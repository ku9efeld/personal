{
 "cells": [
  {
   "cell_type": "markdown",
   "id": "872ce981",
   "metadata": {
    "toc": true
   },
   "source": [
    "<h1>Table of Contents<span class=\"tocSkip\"></span></h1>\n",
    "<div class=\"toc\"><ul class=\"toc-item\"><li><span><a href=\"#Роуминговые-пользователи,-определение\" data-toc-modified-id=\"Роуминговые-пользователи,-определение-1\"><span class=\"toc-item-num\">1&nbsp;&nbsp;</span>Роуминговые пользователи, определение</a></span></li><li><span><a href=\"#Анализ-потока-роуминговых-пользователей-за-1-месяц\" data-toc-modified-id=\"Анализ-потока-роуминговых-пользователей-за-1-месяц-2\"><span class=\"toc-item-num\">2&nbsp;&nbsp;</span>Анализ потока роуминговых пользователей за 1 месяц</a></span><ul class=\"toc-item\"><li><span><a href=\"#Соотношение-числа-пользователей-и-средней-стоимости-1-Гб-за-интернет\" data-toc-modified-id=\"Соотношение-числа-пользователей-и-средней-стоимости-1-Гб-за-интернет-2.1\"><span class=\"toc-item-num\">2.1&nbsp;&nbsp;</span>Соотношение числа пользователей и средней стоимости 1 Гб за интернет</a></span></li></ul></li><li><span><a href=\"#Юнит-экономика\" data-toc-modified-id=\"Юнит-экономика-3\"><span class=\"toc-item-num\">3&nbsp;&nbsp;</span>Юнит-экономика</a></span></li><li><span><a href=\"#Моделирование-и-прогнозирование\" data-toc-modified-id=\"Моделирование-и-прогнозирование-4\"><span class=\"toc-item-num\">4&nbsp;&nbsp;</span>Моделирование и прогнозирование</a></span></li><li><span><a href=\"#Прогнозы\" data-toc-modified-id=\"Прогнозы-5\"><span class=\"toc-item-num\">5&nbsp;&nbsp;</span>Прогнозы</a></span></li><li><span><a href=\"#Ожидания-по-прибыли\" data-toc-modified-id=\"Ожидания-по-прибыли-6\"><span class=\"toc-item-num\">6&nbsp;&nbsp;</span>Ожидания по прибыли</a></span></li><li><span><a href=\"#Итоги\" data-toc-modified-id=\"Итоги-7\"><span class=\"toc-item-num\">7&nbsp;&nbsp;</span>Итоги</a></span></li></ul></div>"
   ]
  },
  {
   "cell_type": "code",
   "execution_count": 1,
   "id": "96540170",
   "metadata": {},
   "outputs": [],
   "source": [
    "import pandas as pd\n",
    "import matplotlib.pyplot as plt\n",
    "import plotly.graph_objects as go\n",
    "from plotly.subplots import make_subplots\n",
    "import numpy as np"
   ]
  },
  {
   "cell_type": "code",
   "execution_count": 2,
   "id": "d8bea8d5",
   "metadata": {},
   "outputs": [],
   "source": [
    "cogs=pd.read_csv('data/esim_pricing_network.csv')\n",
    "traffic=pd.read_csv('data/traffic_users.csv')\n",
    "is_roaming=pd.read_csv('data/roaming_coverage_p2p.csv')"
   ]
  },
  {
   "cell_type": "code",
   "execution_count": 3,
   "id": "022207af",
   "metadata": {},
   "outputs": [
    {
     "data": {
      "text/html": [
       "<div>\n",
       "<style scoped>\n",
       "    .dataframe tbody tr th:only-of-type {\n",
       "        vertical-align: middle;\n",
       "    }\n",
       "\n",
       "    .dataframe tbody tr th {\n",
       "        vertical-align: top;\n",
       "    }\n",
       "\n",
       "    .dataframe thead th {\n",
       "        text-align: right;\n",
       "    }\n",
       "</style>\n",
       "<table border=\"1\" class=\"dataframe\">\n",
       "  <thead>\n",
       "    <tr style=\"text-align: right;\">\n",
       "      <th></th>\n",
       "      <th>destination</th>\n",
       "      <th>origin</th>\n",
       "      <th>expected roaming need</th>\n",
       "    </tr>\n",
       "  </thead>\n",
       "  <tbody>\n",
       "    <tr>\n",
       "      <th>0</th>\n",
       "      <td>Kosovo</td>\n",
       "      <td>Albania</td>\n",
       "      <td>0</td>\n",
       "    </tr>\n",
       "    <tr>\n",
       "      <th>1</th>\n",
       "      <td>Thailand</td>\n",
       "      <td>Russia</td>\n",
       "      <td>1</td>\n",
       "    </tr>\n",
       "  </tbody>\n",
       "</table>\n",
       "</div>"
      ],
      "text/plain": [
       "  destination   origin  expected roaming need\n",
       "0      Kosovo  Albania                      0\n",
       "1    Thailand   Russia                      1"
      ]
     },
     "execution_count": 3,
     "metadata": {},
     "output_type": "execute_result"
    }
   ],
   "source": [
    "is_roaming.head(2)"
   ]
  },
  {
   "cell_type": "code",
   "execution_count": 4,
   "id": "d76b1c32",
   "metadata": {},
   "outputs": [
    {
     "data": {
      "text/html": [
       "<div>\n",
       "<style scoped>\n",
       "    .dataframe tbody tr th:only-of-type {\n",
       "        vertical-align: middle;\n",
       "    }\n",
       "\n",
       "    .dataframe tbody tr th {\n",
       "        vertical-align: top;\n",
       "    }\n",
       "\n",
       "    .dataframe thead th {\n",
       "        text-align: right;\n",
       "    }\n",
       "</style>\n",
       "<table border=\"1\" class=\"dataframe\">\n",
       "  <thead>\n",
       "    <tr style=\"text-align: right;\">\n",
       "      <th></th>\n",
       "      <th>country code</th>\n",
       "      <th>region</th>\n",
       "      <th>code</th>\n",
       "      <th>cogs per gb</th>\n",
       "    </tr>\n",
       "    <tr>\n",
       "      <th>country</th>\n",
       "      <th></th>\n",
       "      <th></th>\n",
       "      <th></th>\n",
       "      <th></th>\n",
       "    </tr>\n",
       "  </thead>\n",
       "  <tbody>\n",
       "    <tr>\n",
       "      <th>Algeria</th>\n",
       "      <td>DZA</td>\n",
       "      <td>Africa</td>\n",
       "      <td>DZAWT</td>\n",
       "      <td>5.31</td>\n",
       "    </tr>\n",
       "    <tr>\n",
       "      <th>Andorra</th>\n",
       "      <td>AND</td>\n",
       "      <td>Europe</td>\n",
       "      <td>ANDMA</td>\n",
       "      <td>22.41</td>\n",
       "    </tr>\n",
       "  </tbody>\n",
       "</table>\n",
       "</div>"
      ],
      "text/plain": [
       "        country code  region   code  cogs per gb\n",
       "country                                         \n",
       "Algeria          DZA  Africa  DZAWT         5.31\n",
       "Andorra          AND  Europe  ANDMA        22.41"
      ]
     },
     "execution_count": 4,
     "metadata": {},
     "output_type": "execute_result"
    }
   ],
   "source": [
    "cogs.set_index('country',inplace=True)\n",
    "cogs.rename(columns={'reg':'region'},inplace=True)\n",
    "cogs.head(2)"
   ]
  },
  {
   "cell_type": "markdown",
   "id": "d3d955a4",
   "metadata": {},
   "source": [
    "# Роуминговые пользователи, определение"
   ]
  },
  {
   "cell_type": "markdown",
   "id": "d05b0498",
   "metadata": {},
   "source": [
    "Важные опеределения\n",
    "\n",
    "**origin** - географическая привязка к месту, где было установлено приложение (стор код магазина установки приложения)  \n",
    "\n",
    "**destination** - фактическое местонахождение пользователя по данным из Google Analytics\n",
    "\n",
    "**is_roaming** - булевый признак, где 1 - пользователи в роуминге, 0 - нет роуминга (что определяется из страны пребывания и \"родной\" страны)\n",
    "\n",
    "- traffic.csv - логи пользователей по датам, у которых менялась геопозиция во времени по дням (за 5 дней пользователь мог оказаться быть в одном направлении 1 раз)\n",
    "\n",
    "Для решения интересен первый лог на пользователя в комбинации стран (destination, origin), где destination - страна фактического пребывания, а origin - страна, откуда пользователи (предположительно), origin определяется из стор кода пользователя  \n",
    "\n",
    "- roaming_coverage_p2p.csv - представление о том, где могли бы быть роуминговые страны для точек, если комбинации стран нет в списке, то считаем, что в них есть роуминг\n",
    "\n",
    "- esim_pricing_network.csv - стоимость 1 интернета Гб в стране"
   ]
  },
  {
   "cell_type": "code",
   "execution_count": 5,
   "id": "981dba0b",
   "metadata": {},
   "outputs": [],
   "source": [
    "traffic = pd.merge(traffic,\n",
    "                   is_roaming,\n",
    "                   how='left',\n",
    "                   left_on=['origin','destination'],\n",
    "                   right_on=['origin','destination'])\n",
    "traffic.rename(columns={'expected roaming need':'is_roaming'},inplace=True)\n",
    "#traffic = traffic.query('destination not in (\"Russia\",\"Iraq\")')\n",
    "traffic.fillna(value={'is_roaming':1},inplace=True)\n",
    "traffic['date'] = pd.to_datetime(traffic['event_date'],format='%Y%m%d')"
   ]
  },
  {
   "cell_type": "code",
   "execution_count": 6,
   "id": "ceeb19c2",
   "metadata": {},
   "outputs": [
    {
     "data": {
      "text/html": [
       "<div>\n",
       "<style scoped>\n",
       "    .dataframe tbody tr th:only-of-type {\n",
       "        vertical-align: middle;\n",
       "    }\n",
       "\n",
       "    .dataframe tbody tr th {\n",
       "        vertical-align: top;\n",
       "    }\n",
       "\n",
       "    .dataframe thead th {\n",
       "        text-align: right;\n",
       "    }\n",
       "</style>\n",
       "<table border=\"1\" class=\"dataframe\">\n",
       "  <thead>\n",
       "    <tr style=\"text-align: right;\">\n",
       "      <th></th>\n",
       "      <th>users</th>\n",
       "      <th>roaming_share</th>\n",
       "      <th>roaming_users</th>\n",
       "    </tr>\n",
       "    <tr>\n",
       "      <th>destination</th>\n",
       "      <th></th>\n",
       "      <th></th>\n",
       "      <th></th>\n",
       "    </tr>\n",
       "  </thead>\n",
       "  <tbody>\n",
       "    <tr>\n",
       "      <th>United States</th>\n",
       "      <td>11072</td>\n",
       "      <td>0.993407</td>\n",
       "      <td>10999.0</td>\n",
       "    </tr>\n",
       "    <tr>\n",
       "      <th>Thailand</th>\n",
       "      <td>9505</td>\n",
       "      <td>1.000000</td>\n",
       "      <td>9505.0</td>\n",
       "    </tr>\n",
       "    <tr>\n",
       "      <th>United Kingdom</th>\n",
       "      <td>7689</td>\n",
       "      <td>1.000000</td>\n",
       "      <td>7689.0</td>\n",
       "    </tr>\n",
       "    <tr>\n",
       "      <th>Germany</th>\n",
       "      <td>9974</td>\n",
       "      <td>0.703730</td>\n",
       "      <td>7019.0</td>\n",
       "    </tr>\n",
       "    <tr>\n",
       "      <th>France</th>\n",
       "      <td>8843</td>\n",
       "      <td>0.692186</td>\n",
       "      <td>6121.0</td>\n",
       "    </tr>\n",
       "    <tr>\n",
       "      <th>Türkiye</th>\n",
       "      <td>5512</td>\n",
       "      <td>1.000000</td>\n",
       "      <td>5512.0</td>\n",
       "    </tr>\n",
       "    <tr>\n",
       "      <th>United Arab Emirates</th>\n",
       "      <td>4939</td>\n",
       "      <td>1.000000</td>\n",
       "      <td>4939.0</td>\n",
       "    </tr>\n",
       "    <tr>\n",
       "      <th>Morocco</th>\n",
       "      <td>4822</td>\n",
       "      <td>1.000000</td>\n",
       "      <td>4822.0</td>\n",
       "    </tr>\n",
       "    <tr>\n",
       "      <th>Netherlands</th>\n",
       "      <td>5271</td>\n",
       "      <td>0.730222</td>\n",
       "      <td>3849.0</td>\n",
       "    </tr>\n",
       "    <tr>\n",
       "      <th>Indonesia</th>\n",
       "      <td>3604</td>\n",
       "      <td>0.951443</td>\n",
       "      <td>3429.0</td>\n",
       "    </tr>\n",
       "  </tbody>\n",
       "</table>\n",
       "</div>"
      ],
      "text/plain": [
       "                      users  roaming_share  roaming_users\n",
       "destination                                              \n",
       "United States         11072       0.993407        10999.0\n",
       "Thailand               9505       1.000000         9505.0\n",
       "United Kingdom         7689       1.000000         7689.0\n",
       "Germany                9974       0.703730         7019.0\n",
       "France                 8843       0.692186         6121.0\n",
       "Türkiye                5512       1.000000         5512.0\n",
       "United Arab Emirates   4939       1.000000         4939.0\n",
       "Morocco                4822       1.000000         4822.0\n",
       "Netherlands            5271       0.730222         3849.0\n",
       "Indonesia              3604       0.951443         3429.0"
      ]
     },
     "execution_count": 6,
     "metadata": {},
     "output_type": "execute_result"
    }
   ],
   "source": [
    "first_reference_dest_by_id = ['user_pseudo_id','destination','origin']\n",
    "#\n",
    "month_traffic = traffic.drop_duplicates(first_reference_dest_by_id,keep='first').sort_values(by='date',ascending=False)\\\n",
    "                                        .query('date >= \"2023-12-01\" and date <= \"2024-01-01\"')\\\n",
    "                                        .groupby('destination').agg(users=('user_pseudo_id', lambda x: x.nunique()),\n",
    "                                                                    roaming_share=('is_roaming',lambda x: x.mean()),\n",
    "                                                                   )\n",
    "#\n",
    "month_traffic['roaming_users'] = (month_traffic['users']*month_traffic['roaming_share']).apply(np.ceil)\n",
    "month_traffic.sort_values(by='roaming_users',ascending=False).head(10)"
   ]
  },
  {
   "cell_type": "markdown",
   "id": "ef09877b",
   "metadata": {},
   "source": [
    "# Анализ потока роуминговых пользователей за 1 месяц"
   ]
  },
  {
   "cell_type": "code",
   "execution_count": 10,
   "id": "109f0c82",
   "metadata": {},
   "outputs": [
    {
     "data": {
      "text/html": [
       "<div>\n",
       "<style scoped>\n",
       "    .dataframe tbody tr th:only-of-type {\n",
       "        vertical-align: middle;\n",
       "    }\n",
       "\n",
       "    .dataframe tbody tr th {\n",
       "        vertical-align: top;\n",
       "    }\n",
       "\n",
       "    .dataframe thead th {\n",
       "        text-align: right;\n",
       "    }\n",
       "</style>\n",
       "<table border=\"1\" class=\"dataframe\">\n",
       "  <thead>\n",
       "    <tr style=\"text-align: right;\">\n",
       "      <th></th>\n",
       "      <th>country</th>\n",
       "      <th>cogs per gb</th>\n",
       "      <th>region</th>\n",
       "      <th>users</th>\n",
       "      <th>roaming_share</th>\n",
       "      <th>roaming_users</th>\n",
       "    </tr>\n",
       "  </thead>\n",
       "  <tbody>\n",
       "    <tr>\n",
       "      <th>0</th>\n",
       "      <td>United States</td>\n",
       "      <td>4.49</td>\n",
       "      <td>Americas</td>\n",
       "      <td>11072</td>\n",
       "      <td>0.993407</td>\n",
       "      <td>10999.0</td>\n",
       "    </tr>\n",
       "    <tr>\n",
       "      <th>1</th>\n",
       "      <td>Thailand</td>\n",
       "      <td>3.98</td>\n",
       "      <td>Asia</td>\n",
       "      <td>9505</td>\n",
       "      <td>1.000000</td>\n",
       "      <td>9505.0</td>\n",
       "    </tr>\n",
       "    <tr>\n",
       "      <th>2</th>\n",
       "      <td>United Kingdom</td>\n",
       "      <td>3.06</td>\n",
       "      <td>Europe</td>\n",
       "      <td>7689</td>\n",
       "      <td>1.000000</td>\n",
       "      <td>7689.0</td>\n",
       "    </tr>\n",
       "    <tr>\n",
       "      <th>3</th>\n",
       "      <td>Germany</td>\n",
       "      <td>3.06</td>\n",
       "      <td>Europe</td>\n",
       "      <td>9974</td>\n",
       "      <td>0.703730</td>\n",
       "      <td>7019.0</td>\n",
       "    </tr>\n",
       "    <tr>\n",
       "      <th>4</th>\n",
       "      <td>France</td>\n",
       "      <td>2.44</td>\n",
       "      <td>Europe</td>\n",
       "      <td>8843</td>\n",
       "      <td>0.692186</td>\n",
       "      <td>6121.0</td>\n",
       "    </tr>\n",
       "    <tr>\n",
       "      <th>...</th>\n",
       "      <td>...</td>\n",
       "      <td>...</td>\n",
       "      <td>...</td>\n",
       "      <td>...</td>\n",
       "      <td>...</td>\n",
       "      <td>...</td>\n",
       "    </tr>\n",
       "    <tr>\n",
       "      <th>97</th>\n",
       "      <td>Ghana</td>\n",
       "      <td>5.82</td>\n",
       "      <td>Africa</td>\n",
       "      <td>65</td>\n",
       "      <td>1.000000</td>\n",
       "      <td>65.0</td>\n",
       "    </tr>\n",
       "    <tr>\n",
       "      <th>98</th>\n",
       "      <td>Tajikistan</td>\n",
       "      <td>20.88</td>\n",
       "      <td>Asia</td>\n",
       "      <td>64</td>\n",
       "      <td>1.000000</td>\n",
       "      <td>64.0</td>\n",
       "    </tr>\n",
       "    <tr>\n",
       "      <th>99</th>\n",
       "      <td>Bangladesh</td>\n",
       "      <td>9.10</td>\n",
       "      <td>Asia</td>\n",
       "      <td>34</td>\n",
       "      <td>1.000000</td>\n",
       "      <td>34.0</td>\n",
       "    </tr>\n",
       "    <tr>\n",
       "      <th>100</th>\n",
       "      <td>British Virgin Islands</td>\n",
       "      <td>25.59</td>\n",
       "      <td>Americas</td>\n",
       "      <td>26</td>\n",
       "      <td>1.000000</td>\n",
       "      <td>26.0</td>\n",
       "    </tr>\n",
       "    <tr>\n",
       "      <th>101</th>\n",
       "      <td>Bermuda</td>\n",
       "      <td>43.81</td>\n",
       "      <td>Americas</td>\n",
       "      <td>16</td>\n",
       "      <td>1.000000</td>\n",
       "      <td>16.0</td>\n",
       "    </tr>\n",
       "  </tbody>\n",
       "</table>\n",
       "<p>102 rows × 6 columns</p>\n",
       "</div>"
      ],
      "text/plain": [
       "                    country  cogs per gb    region  users  roaming_share  \\\n",
       "0             United States         4.49  Americas  11072       0.993407   \n",
       "1                  Thailand         3.98      Asia   9505       1.000000   \n",
       "2            United Kingdom         3.06    Europe   7689       1.000000   \n",
       "3                   Germany         3.06    Europe   9974       0.703730   \n",
       "4                    France         2.44    Europe   8843       0.692186   \n",
       "..                      ...          ...       ...    ...            ...   \n",
       "97                    Ghana         5.82    Africa     65       1.000000   \n",
       "98               Tajikistan        20.88      Asia     64       1.000000   \n",
       "99               Bangladesh         9.10      Asia     34       1.000000   \n",
       "100  British Virgin Islands        25.59  Americas     26       1.000000   \n",
       "101                 Bermuda        43.81  Americas     16       1.000000   \n",
       "\n",
       "     roaming_users  \n",
       "0          10999.0  \n",
       "1           9505.0  \n",
       "2           7689.0  \n",
       "3           7019.0  \n",
       "4           6121.0  \n",
       "..             ...  \n",
       "97            65.0  \n",
       "98            64.0  \n",
       "99            34.0  \n",
       "100           26.0  \n",
       "101           16.0  \n",
       "\n",
       "[102 rows x 6 columns]"
      ]
     },
     "execution_count": 10,
     "metadata": {},
     "output_type": "execute_result"
    }
   ],
   "source": [
    "market = pd.merge(cogs[['cogs per gb','region']],\n",
    "         month_traffic,\n",
    "         right_index=True,\n",
    "         left_index=True)\n",
    "market['region'] = market['region'].replace(r'^\\s*$', 'Other', regex=True)\n",
    "market['region'].fillna('Other',inplace=True)\n",
    "market.sort_values(by=['roaming_users','cogs per gb'],\n",
    "                  ascending=[False,True],inplace=True)\n",
    "market.rename_axis('country',inplace=True)\n",
    "market.reset_index(inplace=True)\n",
    "blacklist = ['Morocco','United Arab Emirates','Aruba','Mexico','Kosovo']\n",
    "market = market[~market['country'].isin(blacklist)].reset_index(drop=True)\n",
    "market"
   ]
  },
  {
   "cell_type": "markdown",
   "id": "f74144b8",
   "metadata": {},
   "source": [
    "## Соотношение числа пользователей и средней стоимости 1 Гб за интернет"
   ]
  },
  {
   "cell_type": "code",
   "execution_count": 12,
   "id": "54bcf653",
   "metadata": {
    "scrolled": false
   },
   "outputs": [
    {
     "data": {
      "image/png": "[encoded data removed]",
      "text/plain": [
       "<Figure size 800x700 with 6 Axes>"
      ]
     },
     "metadata": {},
     "output_type": "display_data"
    }
   ],
   "source": [
    "regions = market['region'].unique()\n",
    "fig, axes = plt.subplots(ncols=3,nrows=2,figsize=(8,7))\n",
    "axes=axes.flatten()\n",
    "# plt.legend(False)\n",
    "\n",
    "for ax,region in zip(axes,regions):\n",
    "    market.query('region == @region')[['country','cogs per gb','roaming_users']]\\\n",
    "            .reset_index(drop=True)\\\n",
    "            .plot(kind='line',ax=ax,logy=True,legend=False)\n",
    "    ax.set_title(region)\n",
    "    ax.grid(linestyle=':')\n",
    "plt.figlegend(plt.gca().get_lines(), ['Price per Gb,$','Roaming users'], \n",
    "              loc = 7, ncol=1, labelspacing=0.5,bbox_to_anchor=(1.2, 0.5))\n",
    "fig.suptitle('Сопоставление цен и количество роуминговых пользователей')\n",
    "fig.tight_layout()"
   ]
  },
  {
   "cell_type": "markdown",
   "id": "7a8d1bb2",
   "metadata": {},
   "source": [
    "**Хорошим показателем, является факт того, что с уменьшением роуминговых пользователей на страну уменьшается и цена за Гб (что означает увеличение рисков - продавать цену не по привлекательной цене.**  \n",
    "\n",
    "Кроме того - важным показателем - является в целом, **одинаковая цена внутри региона (с некоторыми отклонениями)**, что позволяет обощить наценку на регион и несмотря на цену в конкретной стране, устанавливать наценку относительно региона (что позволительно в рамках модели).\n"
   ]
  },
  {
   "cell_type": "markdown",
   "id": "6ee04c64",
   "metadata": {},
   "source": [
    "# Юнит-экономика\n",
    "\n",
    "##### Unit\n",
    "В качестве юнита рассматриваем пакет Gb внутри страны. Допустим в USA суммарно существует 4 пакета: 1GB, 2GB, 3GB, 5GB.\n",
    "Итого получается на 1 страну приходится 4 юнита. Суммарно мы управляем 95 (потенциальных стран, с рынками сбыта) => 95 x 4 = 380 юнитов.\n",
    "\n",
    "- Цена юнита складывается из стоимости 1 симки  + себестоимость Гб (cogs) + наша наценка, гарантирующая нам Profit.\n",
    "- Мы управляем только наценкой. Для упрощения была выбрана наценка только **по регионам**, тк там несильно разнится цена.\n",
    "\n",
    "$\\text{Price unit} = \\text{eSim}+\\text{gb}_{cost}+\\text{%,markup}+\\text{const cost}$\n",
    "\n",
    "$\\text{eSim}$ - стоимость электронной симкарты,  \n",
    "$\\text{gb}_{cost}$ - себестоимость интернета-трафика ($\\frac{$}{Gb} \\times Gb)$,  \n",
    "$\\text{%,markup}$ - наценка,  \n",
    "$\\text{const cost}$ - const растраты (транкзационные удержки + прочее)\n",
    "\n",
    "$\\text{Country gross profit}=eSim + \\sum_{i=4}^k \\text{gb}_{cost}^i \\cdot markup_i$  \n",
    "\n",
    "$\\text{Gross profit app}=\\sum_{i=1}^n\\text{Country gross profit}$\n",
    "\n",
    "$\\text{Operation profit} = \\text{Gross profit app} - \\text{API supplier cost} - \\text{Transaction cost} $\n",
    "\n",
    "\n",
    "##### Model\n",
    "\n",
    "Итого \n",
    "\n",
    "$\\text{Price per unit}= 1 + Price_{1 Gb} \\times Package + Markup(package)$\n",
    "\n",
    "Для того, чтобы мы отбивали регулярно операционку должно выполняться условие\n",
    "\n",
    "$\\text{Markup(package)} \\cdot \\text{Users per package}$ $\\geq$ $\\text{API supplier cost} + \\text{Transaction cost}$ $ (*)\n",
    "\n",
    "Если (*) представляет равенство, то прибыли никакой нет. Все наценные юниты окупают строго операционные расходы.\n",
    "\n",
    "$Markup=  Price_{1 Gb} \\cdot Package\\times \\alpha, \\alpha \\in [0,1]$\n",
    "\n",
    "Запись - Markup(package), означает, что наценку мы выбираем в зависимости от типа пакета.  \n",
    "\n",
    "$\\alpha = \\text{Markup per package unit}  = \\left\\{\\begin{split}\n",
    "      a, Package = 1 \\\\\n",
    "      b, Package = 2\\\\\n",
    "      c, Package = 3\\\\\n",
    "      d, Package = 5\\\\\n",
    "\\end{split}\\right.$  \n",
    "  \n",
    "Итоговый Price за какой-то пакет:\n",
    "\n",
    "$\\text{Price per unit}= 1 + Price_{1 Gb} \\cdot Package +  Price_{1 Gb} \\cdot Package\\cdot \\alpha =  1 + Price_{1 Gb} \\cdot Package \\cdot (1+\\alpha)$\n",
    "\n",
    "Если мы хотим расчитать цену для Package = 3_Gb в Тайланде (1 Гб = 3 $ и наценка за 3 Гб пакет (параметр с) пусть будет 0.01)\n",
    "\n",
    "$\\text{Price per unit}= 1 + 3\\times 3\\times (1+0.01)$\n",
    "\n"
   ]
  },
  {
   "cell_type": "markdown",
   "id": "953d0caa",
   "metadata": {},
   "source": [
    "# Моделирование и прогнозирование \n",
    "\n",
    "- Вся модель зависит от распределения покупок по unit'ам внутри каждой страны, с помощью создания разного соотношения пакетов пакетов по стране можно наблюдать разные итоговые выручки.\n",
    "- Пусть 3 пакета - из конкретного распределения, когда 4ый пакет - это зависимая случайная величина, которая выражается из остальных сгенерированных случайных величин."
   ]
  },
  {
   "cell_type": "code",
   "execution_count": 13,
   "id": "86f73ca1",
   "metadata": {},
   "outputs": [
    {
     "name": "stdout",
     "output_type": "stream",
     "text": [
      "\n",
      "Logic check - True\n",
      "Средний процент суммарного процента во всех странах 100.50491654032963 %\n",
      "Мат. ожидание суммы случ. величин 1.0050491654032963\n",
      "\n"
     ]
    },
    {
     "data": {
      "image/png": "[encoded data removed]",
      "text/plain": [
       "<Figure size 1400x400 with 4 Axes>"
      ]
     },
     "metadata": {},
     "output_type": "display_data"
    }
   ],
   "source": [
    "# 1 ~N(mu,sigma,N) N - quantity countries for each package unit\n",
    "N,_ = market.shape\n",
    "mu = (0.8,0.15,0.03)\n",
    "sigma = (0.03,0.003,0.03/3)\n",
    "_1gb_percent,_2gb_percent,_3gb_percent = [np.random.normal(m,s,n) for m,s,n in  zip(mu,sigma,[N]*len(mu))] # N = 90\n",
    "_5gb_percent = 1 - (_1gb_percent+_2gb_percent+_3gb_percent)\n",
    "_5gb_percent = np.where(_5gb_percent < 0, 0, _5gb_percent )\n",
    "\n",
    "# 2 Result metrics\n",
    "print(f'''\n",
    "Logic check - {sum(_5gb_percent  < 0) == 0}\n",
    "Средний процент суммарного процента во всех странах {np.mean(_5gb_percent+_3gb_percent+_2gb_percent+_1gb_percent)*100} %\n",
    "Мат. ожидание суммы случ. величин {np.mean(_1gb_percent)+np.mean(_2gb_percent)+np.mean(_3gb_percent)+np.mean(_5gb_percent)}\n",
    "''')\n",
    "# 3 Matrix of percentage\n",
    "packages_precentage = pd.DataFrame(np.vstack([_1gb_percent,\n",
    "                                  _2gb_percent,\n",
    "                                  _3gb_percent,\n",
    "                                  _5gb_percent]).T,\n",
    "                       columns=['1_gb','2_gb','3_gb','5_gb']).apply(np.around,decimals=2)\n",
    "# 4 Visualization\n",
    "fig,axes = plt.subplots(ncols=4,figsize=(14,4))\n",
    "color = ['g','b','r','y']\n",
    "for ax,(column,package),color in zip(axes,packages_precentage.items(),color):\n",
    "    (package*100).hist(ax=ax,bins=30,color=color)\n",
    "    column_package = column.replace('_',' ').replace('g','G')\n",
    "    ax.set_title(column_package+' percent\\nof purchase in countries')\n",
    "    ax.xaxis.set_major_formatter('{x:1.1f}%')"
   ]
  },
  {
   "cell_type": "code",
   "execution_count": 14,
   "id": "af9511f1",
   "metadata": {},
   "outputs": [
    {
     "data": {
      "text/html": [
       "<div>\n",
       "<style scoped>\n",
       "    .dataframe tbody tr th:only-of-type {\n",
       "        vertical-align: middle;\n",
       "    }\n",
       "\n",
       "    .dataframe tbody tr th {\n",
       "        vertical-align: top;\n",
       "    }\n",
       "\n",
       "    .dataframe thead th {\n",
       "        text-align: right;\n",
       "    }\n",
       "</style>\n",
       "<table border=\"1\" class=\"dataframe\">\n",
       "  <thead>\n",
       "    <tr style=\"text-align: right;\">\n",
       "      <th></th>\n",
       "      <th>1_gb,m</th>\n",
       "      <th>2_gb,m</th>\n",
       "      <th>3_gb,m</th>\n",
       "      <th>5_gb,m</th>\n",
       "    </tr>\n",
       "  </thead>\n",
       "  <tbody>\n",
       "    <tr>\n",
       "      <th>Asia</th>\n",
       "      <td>0.28</td>\n",
       "      <td>0.10</td>\n",
       "      <td>0.07</td>\n",
       "      <td>0.05</td>\n",
       "    </tr>\n",
       "    <tr>\n",
       "      <th>Americas</th>\n",
       "      <td>0.01</td>\n",
       "      <td>0.01</td>\n",
       "      <td>0.01</td>\n",
       "      <td>0.01</td>\n",
       "    </tr>\n",
       "    <tr>\n",
       "      <th>Europe</th>\n",
       "      <td>0.48</td>\n",
       "      <td>0.32</td>\n",
       "      <td>0.35</td>\n",
       "      <td>0.30</td>\n",
       "    </tr>\n",
       "    <tr>\n",
       "      <th>Africa</th>\n",
       "      <td>0.10</td>\n",
       "      <td>0.07</td>\n",
       "      <td>0.05</td>\n",
       "      <td>0.02</td>\n",
       "    </tr>\n",
       "    <tr>\n",
       "      <th>Oceania</th>\n",
       "      <td>0.10</td>\n",
       "      <td>0.05</td>\n",
       "      <td>0.06</td>\n",
       "      <td>0.01</td>\n",
       "    </tr>\n",
       "    <tr>\n",
       "      <th>Other</th>\n",
       "      <td>0.10</td>\n",
       "      <td>0.05</td>\n",
       "      <td>0.06</td>\n",
       "      <td>0.02</td>\n",
       "    </tr>\n",
       "  </tbody>\n",
       "</table>\n",
       "</div>"
      ],
      "text/plain": [
       "          1_gb,m  2_gb,m  3_gb,m  5_gb,m\n",
       "Asia        0.28    0.10    0.07    0.05\n",
       "Americas    0.01    0.01    0.01    0.01\n",
       "Europe      0.48    0.32    0.35    0.30\n",
       "Africa      0.10    0.07    0.05    0.02\n",
       "Oceania     0.10    0.05    0.06    0.01\n",
       "Other       0.10    0.05    0.06    0.02"
      ]
     },
     "execution_count": 14,
     "metadata": {},
     "output_type": "execute_result"
    }
   ],
   "source": [
    "markup_Asia = [0.1, 0.05, 0.06, 0.01]\n",
    "markup_Americas = [0.01, 0.01, 0.01,0.01]\n",
    "markup_Africa  = [0.1, 0.07, 0.05, 0.02]\n",
    "markup_Europe = [0.48, 0.32, 0.35, 0.3]\n",
    "markup_Asia = [0.28, 0.1, 0.07, 0.05]\n",
    "markup_Oceania = [0.1, 0.05, 0.06,0.01]\n",
    "markup_Other = [0.1, 0.05, 0.06, 0.02]\n",
    "# Все названия колонок, которые нам понадобятся в будущем\n",
    "markup_columns = ['1_gb,m','2_gb,m','3_gb,m','5_gb,m']\n",
    "price_columns = ['1_gb_$','2_gb_$','3_gb_$','5_gb_$']\n",
    "package_columns = ['1_gb,%','2_gb,%','3_gb,%','5_gb,%']\n",
    "#\n",
    "markup = pd.DataFrame(np.matrix([markup_Asia,\n",
    "                                 markup_Americas,\n",
    "                                 markup_Europe,\n",
    "                                 markup_Africa,\n",
    "                                 markup_Oceania,\n",
    "                                 markup_Other]),\n",
    "            index=['Asia','Americas','Europe','Africa','Oceania','Other'],\n",
    "            columns=markup_columns)\n",
    "\n",
    "markup"
   ]
  },
  {
   "cell_type": "code",
   "execution_count": 16,
   "id": "f9417318",
   "metadata": {},
   "outputs": [
    {
     "data": {
      "text/html": [
       "<div>\n",
       "<style scoped>\n",
       "    .dataframe tbody tr th:only-of-type {\n",
       "        vertical-align: middle;\n",
       "    }\n",
       "\n",
       "    .dataframe tbody tr th {\n",
       "        vertical-align: top;\n",
       "    }\n",
       "\n",
       "    .dataframe thead th {\n",
       "        text-align: right;\n",
       "    }\n",
       "</style>\n",
       "<table border=\"1\" class=\"dataframe\">\n",
       "  <thead>\n",
       "    <tr style=\"text-align: right;\">\n",
       "      <th></th>\n",
       "      <th>country</th>\n",
       "      <th>cogs per gb</th>\n",
       "      <th>region</th>\n",
       "      <th>users</th>\n",
       "      <th>roaming_share</th>\n",
       "      <th>roaming_users</th>\n",
       "      <th>1_gb_$</th>\n",
       "      <th>2_gb_$</th>\n",
       "      <th>3_gb_$</th>\n",
       "      <th>5_gb_$</th>\n",
       "      <th>1_gb</th>\n",
       "      <th>2_gb</th>\n",
       "      <th>3_gb</th>\n",
       "      <th>5_gb</th>\n",
       "    </tr>\n",
       "  </thead>\n",
       "  <tbody>\n",
       "    <tr>\n",
       "      <th>0</th>\n",
       "      <td>United States</td>\n",
       "      <td>4.49</td>\n",
       "      <td>Americas</td>\n",
       "      <td>11072</td>\n",
       "      <td>0.993407</td>\n",
       "      <td>10999.0</td>\n",
       "      <td>6.5849</td>\n",
       "      <td>11.1198</td>\n",
       "      <td>15.6547</td>\n",
       "      <td>24.7245</td>\n",
       "      <td>0.77</td>\n",
       "      <td>0.15</td>\n",
       "      <td>0.04</td>\n",
       "      <td>0.03</td>\n",
       "    </tr>\n",
       "    <tr>\n",
       "      <th>1</th>\n",
       "      <td>Thailand</td>\n",
       "      <td>3.98</td>\n",
       "      <td>Asia</td>\n",
       "      <td>9505</td>\n",
       "      <td>1.000000</td>\n",
       "      <td>9505.0</td>\n",
       "      <td>7.1444</td>\n",
       "      <td>10.8060</td>\n",
       "      <td>14.8258</td>\n",
       "      <td>22.9450</td>\n",
       "      <td>0.75</td>\n",
       "      <td>0.15</td>\n",
       "      <td>0.02</td>\n",
       "      <td>0.08</td>\n",
       "    </tr>\n",
       "    <tr>\n",
       "      <th>2</th>\n",
       "      <td>United Kingdom</td>\n",
       "      <td>3.06</td>\n",
       "      <td>Europe</td>\n",
       "      <td>7689</td>\n",
       "      <td>1.000000</td>\n",
       "      <td>7689.0</td>\n",
       "      <td>6.5788</td>\n",
       "      <td>10.1284</td>\n",
       "      <td>14.4430</td>\n",
       "      <td>21.9400</td>\n",
       "      <td>0.81</td>\n",
       "      <td>0.15</td>\n",
       "      <td>0.03</td>\n",
       "      <td>0.01</td>\n",
       "    </tr>\n",
       "    <tr>\n",
       "      <th>3</th>\n",
       "      <td>Germany</td>\n",
       "      <td>3.06</td>\n",
       "      <td>Europe</td>\n",
       "      <td>9974</td>\n",
       "      <td>0.703730</td>\n",
       "      <td>7019.0</td>\n",
       "      <td>6.5788</td>\n",
       "      <td>10.1284</td>\n",
       "      <td>14.4430</td>\n",
       "      <td>21.9400</td>\n",
       "      <td>0.84</td>\n",
       "      <td>0.15</td>\n",
       "      <td>0.02</td>\n",
       "      <td>0.00</td>\n",
       "    </tr>\n",
       "    <tr>\n",
       "      <th>4</th>\n",
       "      <td>France</td>\n",
       "      <td>2.44</td>\n",
       "      <td>Europe</td>\n",
       "      <td>8843</td>\n",
       "      <td>0.692186</td>\n",
       "      <td>6121.0</td>\n",
       "      <td>5.6612</td>\n",
       "      <td>8.4916</td>\n",
       "      <td>11.9320</td>\n",
       "      <td>17.9100</td>\n",
       "      <td>0.81</td>\n",
       "      <td>0.15</td>\n",
       "      <td>0.02</td>\n",
       "      <td>0.02</td>\n",
       "    </tr>\n",
       "    <tr>\n",
       "      <th>...</th>\n",
       "      <td>...</td>\n",
       "      <td>...</td>\n",
       "      <td>...</td>\n",
       "      <td>...</td>\n",
       "      <td>...</td>\n",
       "      <td>...</td>\n",
       "      <td>...</td>\n",
       "      <td>...</td>\n",
       "      <td>...</td>\n",
       "      <td>...</td>\n",
       "      <td>...</td>\n",
       "      <td>...</td>\n",
       "      <td>...</td>\n",
       "      <td>...</td>\n",
       "    </tr>\n",
       "    <tr>\n",
       "      <th>97</th>\n",
       "      <td>Ghana</td>\n",
       "      <td>5.82</td>\n",
       "      <td>Africa</td>\n",
       "      <td>65</td>\n",
       "      <td>1.000000</td>\n",
       "      <td>65.0</td>\n",
       "      <td>8.4520</td>\n",
       "      <td>14.5048</td>\n",
       "      <td>20.3830</td>\n",
       "      <td>31.7320</td>\n",
       "      <td>0.79</td>\n",
       "      <td>0.15</td>\n",
       "      <td>0.04</td>\n",
       "      <td>0.02</td>\n",
       "    </tr>\n",
       "    <tr>\n",
       "      <th>98</th>\n",
       "      <td>Tajikistan</td>\n",
       "      <td>20.88</td>\n",
       "      <td>Asia</td>\n",
       "      <td>64</td>\n",
       "      <td>1.000000</td>\n",
       "      <td>64.0</td>\n",
       "      <td>28.7764</td>\n",
       "      <td>47.9860</td>\n",
       "      <td>69.0748</td>\n",
       "      <td>111.6700</td>\n",
       "      <td>0.82</td>\n",
       "      <td>0.15</td>\n",
       "      <td>0.02</td>\n",
       "      <td>0.01</td>\n",
       "    </tr>\n",
       "    <tr>\n",
       "      <th>99</th>\n",
       "      <td>Bangladesh</td>\n",
       "      <td>9.10</td>\n",
       "      <td>Asia</td>\n",
       "      <td>34</td>\n",
       "      <td>1.000000</td>\n",
       "      <td>34.0</td>\n",
       "      <td>13.6980</td>\n",
       "      <td>22.0700</td>\n",
       "      <td>31.2610</td>\n",
       "      <td>49.8250</td>\n",
       "      <td>0.78</td>\n",
       "      <td>0.15</td>\n",
       "      <td>0.04</td>\n",
       "      <td>0.03</td>\n",
       "    </tr>\n",
       "    <tr>\n",
       "      <th>100</th>\n",
       "      <td>British Virgin Islands</td>\n",
       "      <td>25.59</td>\n",
       "      <td>Americas</td>\n",
       "      <td>26</td>\n",
       "      <td>1.000000</td>\n",
       "      <td>26.0</td>\n",
       "      <td>27.8959</td>\n",
       "      <td>53.7418</td>\n",
       "      <td>79.5877</td>\n",
       "      <td>131.2795</td>\n",
       "      <td>0.79</td>\n",
       "      <td>0.15</td>\n",
       "      <td>0.04</td>\n",
       "      <td>0.03</td>\n",
       "    </tr>\n",
       "    <tr>\n",
       "      <th>101</th>\n",
       "      <td>Bermuda</td>\n",
       "      <td>43.81</td>\n",
       "      <td>Americas</td>\n",
       "      <td>16</td>\n",
       "      <td>1.000000</td>\n",
       "      <td>16.0</td>\n",
       "      <td>46.2981</td>\n",
       "      <td>90.5462</td>\n",
       "      <td>134.7943</td>\n",
       "      <td>223.2905</td>\n",
       "      <td>0.73</td>\n",
       "      <td>0.15</td>\n",
       "      <td>0.04</td>\n",
       "      <td>0.08</td>\n",
       "    </tr>\n",
       "  </tbody>\n",
       "</table>\n",
       "<p>102 rows × 14 columns</p>\n",
       "</div>"
      ],
      "text/plain": [
       "                    country  cogs per gb    region  users  roaming_share  \\\n",
       "0             United States         4.49  Americas  11072       0.993407   \n",
       "1                  Thailand         3.98      Asia   9505       1.000000   \n",
       "2            United Kingdom         3.06    Europe   7689       1.000000   \n",
       "3                   Germany         3.06    Europe   9974       0.703730   \n",
       "4                    France         2.44    Europe   8843       0.692186   \n",
       "..                      ...          ...       ...    ...            ...   \n",
       "97                    Ghana         5.82    Africa     65       1.000000   \n",
       "98               Tajikistan        20.88      Asia     64       1.000000   \n",
       "99               Bangladesh         9.10      Asia     34       1.000000   \n",
       "100  British Virgin Islands        25.59  Americas     26       1.000000   \n",
       "101                 Bermuda        43.81  Americas     16       1.000000   \n",
       "\n",
       "     roaming_users   1_gb_$   2_gb_$    3_gb_$    5_gb_$  1_gb  2_gb  3_gb  \\\n",
       "0          10999.0   6.5849  11.1198   15.6547   24.7245  0.77  0.15  0.04   \n",
       "1           9505.0   7.1444  10.8060   14.8258   22.9450  0.75  0.15  0.02   \n",
       "2           7689.0   6.5788  10.1284   14.4430   21.9400  0.81  0.15  0.03   \n",
       "3           7019.0   6.5788  10.1284   14.4430   21.9400  0.84  0.15  0.02   \n",
       "4           6121.0   5.6612   8.4916   11.9320   17.9100  0.81  0.15  0.02   \n",
       "..             ...      ...      ...       ...       ...   ...   ...   ...   \n",
       "97            65.0   8.4520  14.5048   20.3830   31.7320  0.79  0.15  0.04   \n",
       "98            64.0  28.7764  47.9860   69.0748  111.6700  0.82  0.15  0.02   \n",
       "99            34.0  13.6980  22.0700   31.2610   49.8250  0.78  0.15  0.04   \n",
       "100           26.0  27.8959  53.7418   79.5877  131.2795  0.79  0.15  0.04   \n",
       "101           16.0  46.2981  90.5462  134.7943  223.2905  0.73  0.15  0.04   \n",
       "\n",
       "     5_gb  \n",
       "0    0.03  \n",
       "1    0.08  \n",
       "2    0.01  \n",
       "3    0.00  \n",
       "4    0.02  \n",
       "..    ...  \n",
       "97   0.02  \n",
       "98   0.01  \n",
       "99   0.03  \n",
       "100  0.03  \n",
       "101  0.08  \n",
       "\n",
       "[102 rows x 14 columns]"
      ]
     },
     "execution_count": 16,
     "metadata": {},
     "output_type": "execute_result"
    }
   ],
   "source": [
    "def price_calc(row):\n",
    "    '''\n",
    "    Расчет стоимости пакета по формуле из модели (наценка на регион, себестоимость + const cost)\n",
    "    '''\n",
    "    cogs,m1,m2,m3,m5 = row\n",
    "    return [cogs*(m1+1)+2.05,\n",
    "            cogs*2*(m2+1)+2.05,\n",
    "            cogs*3*(m3+1)+2.05,\n",
    "            cogs*5*(m5+1)+2.05]\n",
    "market[price_columns] = pd.concat([\n",
    "                                   market['cogs per gb'], \n",
    "                                   market.region.apply(lambda region: markup.loc[region])\n",
    "                                  ],axis=1)\\\n",
    "                        .apply(price_calc,axis=1,result_type='expand')\n",
    "\n",
    "market = pd.merge(market,packages_precentage,left_index=True,right_index=True)\n",
    "\n",
    "market"
   ]
  },
  {
   "cell_type": "markdown",
   "id": "719b34f2",
   "metadata": {},
   "source": [
    "В качестве наценок - было определено, что они устанавливаются в зависимости от региона, к которому относится страна (из предыдущего пункта). В конечном фрейме market - у нас есть общие сведения, о том, сколько стоит каждый юнит с учетом региональной наценки и соотношением того, сколько пользователей, купило тот или иной пакет.\n",
    "\n",
    "# Прогнозы\n",
    "\n",
    "Дальнейшие прогнозы строятся по следующей логике, у нас есть общее представление ежемесячных пользователей (на основании данных за декабрь), дальше у нас есть 2 ratio метрики.\n",
    "- Во-первых, мы считаем, что пользователи независимо от страны конвертируются одинаково в покупку\n",
    "- Во-вторых, мы считаем, что распределения по пакетам одинаковое из месяца в месяц\n",
    "**Пример вычислений**\n",
    "     Пусть мы считаем, что у нас есть 1000 пользователей в стране N и 2 юнита (Price 1, Price 2)  \n",
    "     - Обозначим `Unit 1, %` и `Unit 2, %` доля покупок по пакетам среди покупателей eSim в стране N  \n",
    "     - У нас есть представления, что во всем приложении из каждой страны мы конвертируем `% month cr` роуминговых пользователей\n",
    "     \n",
    "     - Чтобы сосчитать число проданных Units, выберем следующую логику    \n",
    "     \n",
    "     1000*`% month cr` = `units sold`, т.е. например  `% month cr` = 5%\n",
    "     \n",
    "     `unit sold` = 50\n",
    "     \n",
    "     В таком случае, выручка (Revenue) будет определяться следующей формулой  \n",
    "     `Revenue` = `units sold` * `Unit 1, %` * `Price 1` + `units sold`* `Unit 2, %` * `Price 2`  \n",
    "     \n",
    "     Пусть 20 % проданы по Price 1 = 5\\\\$ и оставшиеся 80% по Price 2 = 7$\n",
    "      \n",
    "     Таким образом\n",
    "     Revenue = 50 * 0.2 * 5 + 50 * 0.8 * 7 = 330$\n",
    " И тд мы можем обощить это на большее число юнитов (и очистить все до прибыли, тк знаем всю структуру установки Unit price)"
   ]
  },
  {
   "cell_type": "code",
   "execution_count": 30,
   "id": "505f5cfd",
   "metadata": {},
   "outputs": [],
   "source": [
    "class Forecast_Model():\n",
    "    package_columns = ['1_gb,u','2_gb,u','3_gb,u','5_gb,u']\n",
    "    price_columns = ['1_gb_$','2_gb_$','3_gb_$','5_gb_$']\n",
    "    markup_columns = ['1_gb,m','2_gb,m','3_gb,m','5_gb,m']\n",
    "    titles = ('Conversion rate','Gross profit','Operating profit','Volume gross income')\n",
    "    def __init__(self,market,time=0,cr_rates=(0.,0.),transaction_cost=0):\n",
    "        # Рандомизация конверсии в заданных пределах\n",
    "        self.cr_rates = self.cr_rate_rand_size(cr_rates[0],cr_rates[1],time).squeeze()\n",
    "        # Основание для таблицы (Число сконвертированных пользователей по месяцам)\n",
    "        self.market=market\n",
    "        self.time=time  \n",
    "        self.Transaction_cost=transaction_cost\n",
    "        self.forecast()\n",
    "        self.update()\n",
    "    def cr_rate_rand_size(self,min,max,time):\n",
    "        low_ctr = min # 0.01% - минимально ожидаемая конверсия\n",
    "        high_ctr = max # 0.1% - максимально закладываемая конверсия\n",
    "        return np.random.uniform(low_ctr,high_ctr,[1,time])\n",
    "                                    \n",
    "    def expected_packages(self,row,cr_rate):\n",
    "        s1,s2,s3,total = row\n",
    "        total = np.ceil(total*cr_rate)\n",
    "        packages = [np.ceil(total*share) for share in (s1,s2,s3)]\n",
    "        packages.append(total-sum(packages) if total-sum(packages) > 0 else 0)\n",
    "        return packages\n",
    "#\n",
    "    def profit_calculate(self,row):\n",
    "        cogs = row['cogs per gb']\n",
    "        return [row[buyers]*(row[price] - package*cogs - 2.05) for package, buyers, price in zip([1,2,3,5],self.package_columns,self.price_columns)]\n",
    "                                    \n",
    "    def monthly_forecast_revenue(self,month_cr_rate):\n",
    "        '''\n",
    "        Развернутое предсказание на месяц с учетом рандомной конверсии на месяц\n",
    "        Output:  Страна, \n",
    "                 Регион, \n",
    "                 Прайсинг на пакеты (с учетом наценки),\n",
    "                 Кол-во проданных юнитов по пакетам в стране, \n",
    "                 Прибыль на каждый пакет в стране, \n",
    "                 Суммарная выручка,\n",
    "                 Сумарная прибыль\n",
    "        '''\n",
    "        # Создаем промежуточный Market, на котором все обсчитываем\n",
    "        buf_market = self.market.copy()\n",
    "        # Пересчет количества продаж на каждый новый месяц (из-за изменяющейся конверсии - параметр cr_rate)\n",
    "        buf_market[self.package_columns] = buf_market[['1_gb','2_gb','3_gb','roaming_users']].apply(self.expected_packages,\n",
    "                                                                                            cr_rate=month_cr_rate,\n",
    "                                                                                            axis=1,\n",
    "                                                                                            result_type='expand')\n",
    "        # Суммарная выручка \n",
    "        buf_market['Revenue'] = buf_market.apply(lambda row: \n",
    "                         sum([(row[price]*row[n]) for price,n in zip(self.price_columns,self.package_columns)]),\n",
    "                         axis=1)\n",
    "        # Gross Profit на страну\n",
    "        package_gp_columns = ['GP_1','GP_2','GP_3','GP_5']\n",
    "        buf_market[package_gp_columns]=buf_market[['cogs per gb'] + self.price_columns+self.package_columns].apply(self.profit_calculate,axis=1,result_type='expand')\n",
    "        buf_market['Gross profit'] = buf_market[package_gp_columns].sum(axis=1)\n",
    "        return buf_market\n",
    "    def forecast_revenue_app(self,month_cr_rate):\n",
    "        '''\n",
    "        Input month rate -> Calculate monthly revenue -> Result month metrics \n",
    "        '''\n",
    "        forecast_per_month = self.monthly_forecast_revenue(month_cr_rate)\n",
    "        return (forecast_per_month[self.package_columns].sum().sum(),\n",
    "                np.round(forecast_per_month['Revenue'].sum(),1),\n",
    "                np.round(forecast_per_month['Gross profit'].sum(),1)\n",
    "               )\n",
    "    def forecast(self):\n",
    "        forecast_array = []\n",
    "        for cr in self.cr_rates:\n",
    "            forecast_array.append(self.forecast_revenue_app(cr))\n",
    "        self.resultTab=pd.DataFrame(forecast_array,  index=pd.date_range(start='2023/12/31', \n",
    "                        periods=self.time, \n",
    "                        freq='M'),columns=['Units sold','Revenue, $','Gross profit, $'])\n",
    "    def update(self):\n",
    "        self.resultTab['Debitors'] = self.resultTab['Units sold'].cumsum().fillna(0)\n",
    "        self.resultTab['Pay for activated eSim, $'] =  self.resultTab['Debitors']*0.25\n",
    "        self.resultTab['Operating profit, $'] = self.resultTab['Gross profit, $'] - (self.Transaction_cost)\n",
    "        self.resultTab['Volume gross income'] = self.resultTab['Operating profit, $'].cumsum()\n",
    "        \n",
    "    def show(self):\n",
    "        fig = make_subplots(2,2,subplot_titles=self.titles)\n",
    "        profit = round(self.resultTab['Volume gross income'][-1] ,2)\n",
    "        dates = self.resultTab.index\n",
    "        fig.update_layout(dict(title_text=f\"Title - Finance model of eSim <br> All time profit - {profit} &#36;\",\n",
    "                           font=dict(size=12)))\n",
    "        # CR, %\n",
    "        fig.add_trace(\n",
    "        go.Scatter(x=dates,\n",
    "                   y=self.cr_rates,name='CR, %',line_shape='spline'),\n",
    "        row=1,\n",
    "        col=1)\n",
    "        # Gross Profit, $\n",
    "        fig.add_trace(\n",
    "        go.Scatter(x=dates,\n",
    "                   y=self.resultTab['Gross profit, $'],name='Gross profit, $',line_shape='spline'),\n",
    "        row=1,\n",
    "        col=2)\n",
    "        fig.add_hline(y=self.Transaction_cost,row=1,col=2,line_width=2,line_dash=\"dot\",opacity=0.8)\n",
    "        # Operating Profit, $\n",
    "        fig.add_trace(\n",
    "        go.Scatter(x=dates,\n",
    "               y=self.resultTab['Operating profit, $'],name='Operating profit',line_shape='spline'),\n",
    "        row=2,\n",
    "        col=1\n",
    "        )\n",
    "        fig.add_trace(\n",
    "        go.Scatter(\n",
    "        x=dates,\n",
    "        y=(self.resultTab['Volume gross income']),\n",
    "        name='Volume gross income with Activated eSim',\n",
    "        line_shape='spline'\n",
    "        ),\n",
    "        row=2, col=2\n",
    "        )\n",
    "        fig.update_yaxes(tickformat=\",.2f\",\n",
    "                     automargin=True,\n",
    "                     ticksuffix=\"$\",row=1,col=2)\n",
    "\n",
    "        fig.update_yaxes(tickformat=\",.2f\",\n",
    "                             automargin=True,\n",
    "                             ticksuffix=\"$\",row=2,col=1)\n",
    "\n",
    "\n",
    "        fig.update_yaxes(tickformat=\",.2%\",\n",
    "                             automargin=True,\n",
    "                             row=1,\n",
    "                             col=1)\n",
    "        fig.update_yaxes(tickformat=\",.2f\",\n",
    "                             automargin=True,\n",
    "                             ticksuffix=\"$\",row=2,col=2)\n",
    "        return fig\n",
    "#"
   ]
  },
  {
   "cell_type": "code",
   "execution_count": 31,
   "id": "303e1a03",
   "metadata": {},
   "outputs": [
    {
     "data": {
      "text/html": [
       "<div>\n",
       "<style scoped>\n",
       "    .dataframe tbody tr th:only-of-type {\n",
       "        vertical-align: middle;\n",
       "    }\n",
       "\n",
       "    .dataframe tbody tr th {\n",
       "        vertical-align: top;\n",
       "    }\n",
       "\n",
       "    .dataframe thead th {\n",
       "        text-align: right;\n",
       "    }\n",
       "</style>\n",
       "<table border=\"1\" class=\"dataframe\">\n",
       "  <thead>\n",
       "    <tr style=\"text-align: right;\">\n",
       "      <th></th>\n",
       "      <th>country</th>\n",
       "      <th>cogs per gb</th>\n",
       "      <th>region</th>\n",
       "      <th>users</th>\n",
       "      <th>roaming_share</th>\n",
       "      <th>roaming_users</th>\n",
       "      <th>1_gb_$</th>\n",
       "      <th>2_gb_$</th>\n",
       "      <th>3_gb_$</th>\n",
       "      <th>5_gb_$</th>\n",
       "      <th>...</th>\n",
       "      <th>1_gb,u</th>\n",
       "      <th>2_gb,u</th>\n",
       "      <th>3_gb,u</th>\n",
       "      <th>5_gb,u</th>\n",
       "      <th>Revenue</th>\n",
       "      <th>GP_1</th>\n",
       "      <th>GP_2</th>\n",
       "      <th>GP_3</th>\n",
       "      <th>GP_5</th>\n",
       "      <th>Gross profit</th>\n",
       "    </tr>\n",
       "  </thead>\n",
       "  <tbody>\n",
       "    <tr>\n",
       "      <th>0</th>\n",
       "      <td>United States</td>\n",
       "      <td>4.49</td>\n",
       "      <td>Americas</td>\n",
       "      <td>11072</td>\n",
       "      <td>0.993407</td>\n",
       "      <td>10999.0</td>\n",
       "      <td>6.5849</td>\n",
       "      <td>11.1198</td>\n",
       "      <td>15.6547</td>\n",
       "      <td>24.7245</td>\n",
       "      <td>...</td>\n",
       "      <td>255.0</td>\n",
       "      <td>50.0</td>\n",
       "      <td>14.0</td>\n",
       "      <td>11.0</td>\n",
       "      <td>2726.2748</td>\n",
       "      <td>11.4495</td>\n",
       "      <td>4.4900</td>\n",
       "      <td>1.8858</td>\n",
       "      <td>2.4695</td>\n",
       "      <td>20.2948</td>\n",
       "    </tr>\n",
       "    <tr>\n",
       "      <th>1</th>\n",
       "      <td>Thailand</td>\n",
       "      <td>3.98</td>\n",
       "      <td>Asia</td>\n",
       "      <td>9505</td>\n",
       "      <td>1.000000</td>\n",
       "      <td>9505.0</td>\n",
       "      <td>7.1444</td>\n",
       "      <td>10.8060</td>\n",
       "      <td>14.8258</td>\n",
       "      <td>22.9450</td>\n",
       "      <td>...</td>\n",
       "      <td>215.0</td>\n",
       "      <td>43.0</td>\n",
       "      <td>6.0</td>\n",
       "      <td>22.0</td>\n",
       "      <td>2594.4488</td>\n",
       "      <td>239.5960</td>\n",
       "      <td>34.2280</td>\n",
       "      <td>5.0148</td>\n",
       "      <td>21.8900</td>\n",
       "      <td>300.7288</td>\n",
       "    </tr>\n",
       "    <tr>\n",
       "      <th>2</th>\n",
       "      <td>United Kingdom</td>\n",
       "      <td>3.06</td>\n",
       "      <td>Europe</td>\n",
       "      <td>7689</td>\n",
       "      <td>1.000000</td>\n",
       "      <td>7689.0</td>\n",
       "      <td>6.5788</td>\n",
       "      <td>10.1284</td>\n",
       "      <td>14.4430</td>\n",
       "      <td>21.9400</td>\n",
       "      <td>...</td>\n",
       "      <td>188.0</td>\n",
       "      <td>35.0</td>\n",
       "      <td>7.0</td>\n",
       "      <td>1.0</td>\n",
       "      <td>1714.3494</td>\n",
       "      <td>276.1344</td>\n",
       "      <td>68.5440</td>\n",
       "      <td>22.4910</td>\n",
       "      <td>4.5900</td>\n",
       "      <td>371.7594</td>\n",
       "    </tr>\n",
       "    <tr>\n",
       "      <th>3</th>\n",
       "      <td>Germany</td>\n",
       "      <td>3.06</td>\n",
       "      <td>Europe</td>\n",
       "      <td>9974</td>\n",
       "      <td>0.703730</td>\n",
       "      <td>7019.0</td>\n",
       "      <td>6.5788</td>\n",
       "      <td>10.1284</td>\n",
       "      <td>14.4430</td>\n",
       "      <td>21.9400</td>\n",
       "      <td>...</td>\n",
       "      <td>178.0</td>\n",
       "      <td>32.0</td>\n",
       "      <td>5.0</td>\n",
       "      <td>0.0</td>\n",
       "      <td>1567.3502</td>\n",
       "      <td>261.4464</td>\n",
       "      <td>62.6688</td>\n",
       "      <td>16.0650</td>\n",
       "      <td>0.0000</td>\n",
       "      <td>340.1802</td>\n",
       "    </tr>\n",
       "    <tr>\n",
       "      <th>4</th>\n",
       "      <td>France</td>\n",
       "      <td>2.44</td>\n",
       "      <td>Europe</td>\n",
       "      <td>8843</td>\n",
       "      <td>0.692186</td>\n",
       "      <td>6121.0</td>\n",
       "      <td>5.6612</td>\n",
       "      <td>8.4916</td>\n",
       "      <td>11.9320</td>\n",
       "      <td>17.9100</td>\n",
       "      <td>...</td>\n",
       "      <td>150.0</td>\n",
       "      <td>28.0</td>\n",
       "      <td>4.0</td>\n",
       "      <td>2.0</td>\n",
       "      <td>1170.4928</td>\n",
       "      <td>175.6800</td>\n",
       "      <td>43.7248</td>\n",
       "      <td>10.2480</td>\n",
       "      <td>7.3200</td>\n",
       "      <td>236.9728</td>\n",
       "    </tr>\n",
       "    <tr>\n",
       "      <th>...</th>\n",
       "      <td>...</td>\n",
       "      <td>...</td>\n",
       "      <td>...</td>\n",
       "      <td>...</td>\n",
       "      <td>...</td>\n",
       "      <td>...</td>\n",
       "      <td>...</td>\n",
       "      <td>...</td>\n",
       "      <td>...</td>\n",
       "      <td>...</td>\n",
       "      <td>...</td>\n",
       "      <td>...</td>\n",
       "      <td>...</td>\n",
       "      <td>...</td>\n",
       "      <td>...</td>\n",
       "      <td>...</td>\n",
       "      <td>...</td>\n",
       "      <td>...</td>\n",
       "      <td>...</td>\n",
       "      <td>...</td>\n",
       "      <td>...</td>\n",
       "    </tr>\n",
       "    <tr>\n",
       "      <th>97</th>\n",
       "      <td>Ghana</td>\n",
       "      <td>5.82</td>\n",
       "      <td>Africa</td>\n",
       "      <td>65</td>\n",
       "      <td>1.000000</td>\n",
       "      <td>65.0</td>\n",
       "      <td>8.4520</td>\n",
       "      <td>14.5048</td>\n",
       "      <td>20.3830</td>\n",
       "      <td>31.7320</td>\n",
       "      <td>...</td>\n",
       "      <td>2.0</td>\n",
       "      <td>1.0</td>\n",
       "      <td>1.0</td>\n",
       "      <td>0.0</td>\n",
       "      <td>51.7918</td>\n",
       "      <td>1.1640</td>\n",
       "      <td>0.8148</td>\n",
       "      <td>0.8730</td>\n",
       "      <td>0.0000</td>\n",
       "      <td>2.8518</td>\n",
       "    </tr>\n",
       "    <tr>\n",
       "      <th>98</th>\n",
       "      <td>Tajikistan</td>\n",
       "      <td>20.88</td>\n",
       "      <td>Asia</td>\n",
       "      <td>64</td>\n",
       "      <td>1.000000</td>\n",
       "      <td>64.0</td>\n",
       "      <td>28.7764</td>\n",
       "      <td>47.9860</td>\n",
       "      <td>69.0748</td>\n",
       "      <td>111.6700</td>\n",
       "      <td>...</td>\n",
       "      <td>2.0</td>\n",
       "      <td>1.0</td>\n",
       "      <td>1.0</td>\n",
       "      <td>0.0</td>\n",
       "      <td>174.6136</td>\n",
       "      <td>11.6928</td>\n",
       "      <td>4.1760</td>\n",
       "      <td>4.3848</td>\n",
       "      <td>0.0000</td>\n",
       "      <td>20.2536</td>\n",
       "    </tr>\n",
       "    <tr>\n",
       "      <th>99</th>\n",
       "      <td>Bangladesh</td>\n",
       "      <td>9.10</td>\n",
       "      <td>Asia</td>\n",
       "      <td>34</td>\n",
       "      <td>1.000000</td>\n",
       "      <td>34.0</td>\n",
       "      <td>13.6980</td>\n",
       "      <td>22.0700</td>\n",
       "      <td>31.2610</td>\n",
       "      <td>49.8250</td>\n",
       "      <td>...</td>\n",
       "      <td>2.0</td>\n",
       "      <td>1.0</td>\n",
       "      <td>1.0</td>\n",
       "      <td>0.0</td>\n",
       "      <td>80.7270</td>\n",
       "      <td>5.0960</td>\n",
       "      <td>1.8200</td>\n",
       "      <td>1.9110</td>\n",
       "      <td>0.0000</td>\n",
       "      <td>8.8270</td>\n",
       "    </tr>\n",
       "    <tr>\n",
       "      <th>100</th>\n",
       "      <td>British Virgin Islands</td>\n",
       "      <td>25.59</td>\n",
       "      <td>Americas</td>\n",
       "      <td>26</td>\n",
       "      <td>1.000000</td>\n",
       "      <td>26.0</td>\n",
       "      <td>27.8959</td>\n",
       "      <td>53.7418</td>\n",
       "      <td>79.5877</td>\n",
       "      <td>131.2795</td>\n",
       "      <td>...</td>\n",
       "      <td>1.0</td>\n",
       "      <td>1.0</td>\n",
       "      <td>1.0</td>\n",
       "      <td>0.0</td>\n",
       "      <td>161.2254</td>\n",
       "      <td>0.2559</td>\n",
       "      <td>0.5118</td>\n",
       "      <td>0.7677</td>\n",
       "      <td>0.0000</td>\n",
       "      <td>1.5354</td>\n",
       "    </tr>\n",
       "    <tr>\n",
       "      <th>101</th>\n",
       "      <td>Bermuda</td>\n",
       "      <td>43.81</td>\n",
       "      <td>Americas</td>\n",
       "      <td>16</td>\n",
       "      <td>1.000000</td>\n",
       "      <td>16.0</td>\n",
       "      <td>46.2981</td>\n",
       "      <td>90.5462</td>\n",
       "      <td>134.7943</td>\n",
       "      <td>223.2905</td>\n",
       "      <td>...</td>\n",
       "      <td>1.0</td>\n",
       "      <td>1.0</td>\n",
       "      <td>1.0</td>\n",
       "      <td>0.0</td>\n",
       "      <td>271.6386</td>\n",
       "      <td>0.4381</td>\n",
       "      <td>0.8762</td>\n",
       "      <td>1.3143</td>\n",
       "      <td>0.0000</td>\n",
       "      <td>2.6286</td>\n",
       "    </tr>\n",
       "  </tbody>\n",
       "</table>\n",
       "<p>102 rows × 24 columns</p>\n",
       "</div>"
      ],
      "text/plain": [
       "                    country  cogs per gb    region  users  roaming_share  \\\n",
       "0             United States         4.49  Americas  11072       0.993407   \n",
       "1                  Thailand         3.98      Asia   9505       1.000000   \n",
       "2            United Kingdom         3.06    Europe   7689       1.000000   \n",
       "3                   Germany         3.06    Europe   9974       0.703730   \n",
       "4                    France         2.44    Europe   8843       0.692186   \n",
       "..                      ...          ...       ...    ...            ...   \n",
       "97                    Ghana         5.82    Africa     65       1.000000   \n",
       "98               Tajikistan        20.88      Asia     64       1.000000   \n",
       "99               Bangladesh         9.10      Asia     34       1.000000   \n",
       "100  British Virgin Islands        25.59  Americas     26       1.000000   \n",
       "101                 Bermuda        43.81  Americas     16       1.000000   \n",
       "\n",
       "     roaming_users   1_gb_$   2_gb_$    3_gb_$    5_gb_$  ...  1_gb,u  2_gb,u  \\\n",
       "0          10999.0   6.5849  11.1198   15.6547   24.7245  ...   255.0    50.0   \n",
       "1           9505.0   7.1444  10.8060   14.8258   22.9450  ...   215.0    43.0   \n",
       "2           7689.0   6.5788  10.1284   14.4430   21.9400  ...   188.0    35.0   \n",
       "3           7019.0   6.5788  10.1284   14.4430   21.9400  ...   178.0    32.0   \n",
       "4           6121.0   5.6612   8.4916   11.9320   17.9100  ...   150.0    28.0   \n",
       "..             ...      ...      ...       ...       ...  ...     ...     ...   \n",
       "97            65.0   8.4520  14.5048   20.3830   31.7320  ...     2.0     1.0   \n",
       "98            64.0  28.7764  47.9860   69.0748  111.6700  ...     2.0     1.0   \n",
       "99            34.0  13.6980  22.0700   31.2610   49.8250  ...     2.0     1.0   \n",
       "100           26.0  27.8959  53.7418   79.5877  131.2795  ...     1.0     1.0   \n",
       "101           16.0  46.2981  90.5462  134.7943  223.2905  ...     1.0     1.0   \n",
       "\n",
       "     3_gb,u  5_gb,u    Revenue      GP_1     GP_2     GP_3     GP_5  \\\n",
       "0      14.0    11.0  2726.2748   11.4495   4.4900   1.8858   2.4695   \n",
       "1       6.0    22.0  2594.4488  239.5960  34.2280   5.0148  21.8900   \n",
       "2       7.0     1.0  1714.3494  276.1344  68.5440  22.4910   4.5900   \n",
       "3       5.0     0.0  1567.3502  261.4464  62.6688  16.0650   0.0000   \n",
       "4       4.0     2.0  1170.4928  175.6800  43.7248  10.2480   7.3200   \n",
       "..      ...     ...        ...       ...      ...      ...      ...   \n",
       "97      1.0     0.0    51.7918    1.1640   0.8148   0.8730   0.0000   \n",
       "98      1.0     0.0   174.6136   11.6928   4.1760   4.3848   0.0000   \n",
       "99      1.0     0.0    80.7270    5.0960   1.8200   1.9110   0.0000   \n",
       "100     1.0     0.0   161.2254    0.2559   0.5118   0.7677   0.0000   \n",
       "101     1.0     0.0   271.6386    0.4381   0.8762   1.3143   0.0000   \n",
       "\n",
       "     Gross profit  \n",
       "0         20.2948  \n",
       "1        300.7288  \n",
       "2        371.7594  \n",
       "3        340.1802  \n",
       "4        236.9728  \n",
       "..            ...  \n",
       "97         2.8518  \n",
       "98        20.2536  \n",
       "99         8.8270  \n",
       "100        1.5354  \n",
       "101        2.6286  \n",
       "\n",
       "[102 rows x 24 columns]"
      ]
     },
     "execution_count": 31,
     "metadata": {},
     "output_type": "execute_result"
    }
   ],
   "source": [
    "Forecast_Model(market).monthly_forecast_revenue(0.03)"
   ]
  },
  {
   "cell_type": "markdown",
   "id": "cfa13202",
   "metadata": {},
   "source": [
    "Демонстрация, как модель считает по месячную выручку"
   ]
  },
  {
   "cell_type": "code",
   "execution_count": 32,
   "id": "b3cd63dd",
   "metadata": {},
   "outputs": [
    {
     "data": {
      "text/plain": [
       "(4007.0, 41923.1, 4989.7)"
      ]
     },
     "execution_count": 32,
     "metadata": {},
     "output_type": "execute_result"
    }
   ],
   "source": [
    "Forecast_Model(market).forecast_revenue_app(0.03)"
   ]
  },
  {
   "cell_type": "markdown",
   "id": "2d45666e",
   "metadata": {},
   "source": [
    "Тоже самое только сагреригорованные по всем странам, где юниты продаются"
   ]
  },
  {
   "cell_type": "code",
   "execution_count": 33,
   "id": "d0ebe8b3",
   "metadata": {},
   "outputs": [],
   "source": [
    "case = Forecast_Model(market,5,(0.022,0.029))"
   ]
  },
  {
   "cell_type": "markdown",
   "id": "9f462329",
   "metadata": {},
   "source": [
    "# Ожидания по прибыли"
   ]
  },
  {
   "cell_type": "code",
   "execution_count": 34,
   "id": "92991054",
   "metadata": {},
   "outputs": [
    {
     "data": {
      "text/html": [
       "<div>\n",
       "<style scoped>\n",
       "    .dataframe tbody tr th:only-of-type {\n",
       "        vertical-align: middle;\n",
       "    }\n",
       "\n",
       "    .dataframe tbody tr th {\n",
       "        vertical-align: top;\n",
       "    }\n",
       "\n",
       "    .dataframe thead th {\n",
       "        text-align: right;\n",
       "    }\n",
       "</style>\n",
       "<table border=\"1\" class=\"dataframe\">\n",
       "  <thead>\n",
       "    <tr style=\"text-align: right;\">\n",
       "      <th></th>\n",
       "      <th>Units sold</th>\n",
       "      <th>Revenue, $</th>\n",
       "      <th>Gross profit, $</th>\n",
       "      <th>Debitors</th>\n",
       "      <th>Pay for activated eSim, $</th>\n",
       "      <th>Operating profit, $</th>\n",
       "      <th>Volume gross income</th>\n",
       "    </tr>\n",
       "  </thead>\n",
       "  <tbody>\n",
       "    <tr>\n",
       "      <th>2023-12-31</th>\n",
       "      <td>3575.0</td>\n",
       "      <td>37670.2</td>\n",
       "      <td>4484.6</td>\n",
       "      <td>3575.0</td>\n",
       "      <td>893.75</td>\n",
       "      <td>484.6</td>\n",
       "      <td>484.6</td>\n",
       "    </tr>\n",
       "    <tr>\n",
       "      <th>2024-01-31</th>\n",
       "      <td>3012.0</td>\n",
       "      <td>32107.9</td>\n",
       "      <td>3788.5</td>\n",
       "      <td>6587.0</td>\n",
       "      <td>1646.75</td>\n",
       "      <td>-211.5</td>\n",
       "      <td>273.1</td>\n",
       "    </tr>\n",
       "    <tr>\n",
       "      <th>2024-02-29</th>\n",
       "      <td>3215.0</td>\n",
       "      <td>34100.9</td>\n",
       "      <td>4045.6</td>\n",
       "      <td>9802.0</td>\n",
       "      <td>2450.50</td>\n",
       "      <td>45.6</td>\n",
       "      <td>318.7</td>\n",
       "    </tr>\n",
       "    <tr>\n",
       "      <th>2024-03-31</th>\n",
       "      <td>3482.0</td>\n",
       "      <td>36700.9</td>\n",
       "      <td>4368.9</td>\n",
       "      <td>13284.0</td>\n",
       "      <td>3321.00</td>\n",
       "      <td>368.9</td>\n",
       "      <td>687.6</td>\n",
       "    </tr>\n",
       "    <tr>\n",
       "      <th>2024-04-30</th>\n",
       "      <td>3389.0</td>\n",
       "      <td>35765.0</td>\n",
       "      <td>4238.6</td>\n",
       "      <td>16673.0</td>\n",
       "      <td>4168.25</td>\n",
       "      <td>238.6</td>\n",
       "      <td>926.2</td>\n",
       "    </tr>\n",
       "    <tr>\n",
       "      <th>2024-05-31</th>\n",
       "      <td>3767.0</td>\n",
       "      <td>39651.8</td>\n",
       "      <td>4702.2</td>\n",
       "      <td>20440.0</td>\n",
       "      <td>5110.00</td>\n",
       "      <td>702.2</td>\n",
       "      <td>1628.4</td>\n",
       "    </tr>\n",
       "    <tr>\n",
       "      <th>2024-06-30</th>\n",
       "      <td>3850.0</td>\n",
       "      <td>40486.0</td>\n",
       "      <td>4803.0</td>\n",
       "      <td>24290.0</td>\n",
       "      <td>6072.50</td>\n",
       "      <td>803.0</td>\n",
       "      <td>2431.4</td>\n",
       "    </tr>\n",
       "    <tr>\n",
       "      <th>2024-07-31</th>\n",
       "      <td>3630.0</td>\n",
       "      <td>38345.4</td>\n",
       "      <td>4547.4</td>\n",
       "      <td>27920.0</td>\n",
       "      <td>6980.00</td>\n",
       "      <td>547.4</td>\n",
       "      <td>2978.8</td>\n",
       "    </tr>\n",
       "    <tr>\n",
       "      <th>2024-08-31</th>\n",
       "      <td>3713.0</td>\n",
       "      <td>39066.9</td>\n",
       "      <td>4639.6</td>\n",
       "      <td>31633.0</td>\n",
       "      <td>7908.25</td>\n",
       "      <td>639.6</td>\n",
       "      <td>3618.4</td>\n",
       "    </tr>\n",
       "    <tr>\n",
       "      <th>2024-09-30</th>\n",
       "      <td>3763.0</td>\n",
       "      <td>39624.6</td>\n",
       "      <td>4697.3</td>\n",
       "      <td>35396.0</td>\n",
       "      <td>8849.00</td>\n",
       "      <td>697.3</td>\n",
       "      <td>4315.7</td>\n",
       "    </tr>\n",
       "  </tbody>\n",
       "</table>\n",
       "</div>"
      ],
      "text/plain": [
       "            Units sold  Revenue, $  Gross profit, $  Debitors  \\\n",
       "2023-12-31      3575.0     37670.2           4484.6    3575.0   \n",
       "2024-01-31      3012.0     32107.9           3788.5    6587.0   \n",
       "2024-02-29      3215.0     34100.9           4045.6    9802.0   \n",
       "2024-03-31      3482.0     36700.9           4368.9   13284.0   \n",
       "2024-04-30      3389.0     35765.0           4238.6   16673.0   \n",
       "2024-05-31      3767.0     39651.8           4702.2   20440.0   \n",
       "2024-06-30      3850.0     40486.0           4803.0   24290.0   \n",
       "2024-07-31      3630.0     38345.4           4547.4   27920.0   \n",
       "2024-08-31      3713.0     39066.9           4639.6   31633.0   \n",
       "2024-09-30      3763.0     39624.6           4697.3   35396.0   \n",
       "\n",
       "            Pay for activated eSim, $  Operating profit, $  \\\n",
       "2023-12-31                     893.75                484.6   \n",
       "2024-01-31                    1646.75               -211.5   \n",
       "2024-02-29                    2450.50                 45.6   \n",
       "2024-03-31                    3321.00                368.9   \n",
       "2024-04-30                    4168.25                238.6   \n",
       "2024-05-31                    5110.00                702.2   \n",
       "2024-06-30                    6072.50                803.0   \n",
       "2024-07-31                    6980.00                547.4   \n",
       "2024-08-31                    7908.25                639.6   \n",
       "2024-09-30                    8849.00                697.3   \n",
       "\n",
       "            Volume gross income  \n",
       "2023-12-31                484.6  \n",
       "2024-01-31                273.1  \n",
       "2024-02-29                318.7  \n",
       "2024-03-31                687.6  \n",
       "2024-04-30                926.2  \n",
       "2024-05-31               1628.4  \n",
       "2024-06-30               2431.4  \n",
       "2024-07-31               2978.8  \n",
       "2024-08-31               3618.4  \n",
       "2024-09-30               4315.7  "
      ]
     },
     "execution_count": 34,
     "metadata": {},
     "output_type": "execute_result"
    }
   ],
   "source": [
    "case = Forecast_Model(market,10,(0.022,0.029),4_000)\n",
    "case.resultTab"
   ]
  },
  {
   "cell_type": "code",
   "execution_count": 35,
   "id": "51450f14",
   "metadata": {},
   "outputs": [
    {
     "data": {
      "application/vnd.plotly.v1+json": {
       "config": {
        "plotlyServerURL": "https://plot.ly"
       },
       "data": [
        {
         "line": {
          "shape": "spline"
         },
         "name": "CR, %",
         "type": "scatter",
         "x": [
          "2023-12-31T00:00:00",
          "2024-01-31T00:00:00",
          "2024-02-29T00:00:00",
          "2024-03-31T00:00:00",
          "2024-04-30T00:00:00",
          "2024-05-31T00:00:00",
          "2024-06-30T00:00:00",
          "2024-07-31T00:00:00",
          "2024-08-31T00:00:00",
          "2024-09-30T00:00:00"
         ],
         "xaxis": "x",
         "y": [
          0.026628536259425087,
          0.02217073509165143,
          0.023806548962850595,
          0.025956203648567107,
          0.025130648238819962,
          0.028146681878659433,
          0.028842957446257474,
          0.027083436558478183,
          0.027732760350221153,
          0.028116725643164104
         ],
         "yaxis": "y"
        },
        {
         "line": {
          "shape": "spline"
         },
         "name": "Gross profit, $",
         "type": "scatter",
         "x": [
          "2023-12-31T00:00:00",
          "2024-01-31T00:00:00",
          "2024-02-29T00:00:00",
          "2024-03-31T00:00:00",
          "2024-04-30T00:00:00",
          "2024-05-31T00:00:00",
          "2024-06-30T00:00:00",
          "2024-07-31T00:00:00",
          "2024-08-31T00:00:00",
          "2024-09-30T00:00:00"
         ],
         "xaxis": "x2",
         "y": [
          4484.6,
          3788.5,
          4045.6,
          4368.9,
          4238.6,
          4702.2,
          4803,
          4547.4,
          4639.6,
          4697.3
         ],
         "yaxis": "y2"
        },
        {
         "line": {
          "shape": "spline"
         },
         "name": "Operating profit",
         "type": "scatter",
         "x": [
          "2023-12-31T00:00:00",
          "2024-01-31T00:00:00",
          "2024-02-29T00:00:00",
          "2024-03-31T00:00:00",
          "2024-04-30T00:00:00",
          "2024-05-31T00:00:00",
          "2024-06-30T00:00:00",
          "2024-07-31T00:00:00",
          "2024-08-31T00:00:00",
          "2024-09-30T00:00:00"
         ],
         "xaxis": "x3",
         "y": [
          484.60000000000036,
          -211.5,
          45.59999999999991,
          368.89999999999964,
          238.60000000000036,
          702.1999999999998,
          803,
          547.3999999999996,
          639.6000000000004,
          697.3000000000002
         ],
         "yaxis": "y3"
        },
        {
         "line": {
          "shape": "spline"
         },
         "name": "Volume gross income with Activated eSim",
         "type": "scatter",
         "x": [
          "2023-12-31T00:00:00",
          "2024-01-31T00:00:00",
          "2024-02-29T00:00:00",
          "2024-03-31T00:00:00",
          "2024-04-30T00:00:00",
          "2024-05-31T00:00:00",
          "2024-06-30T00:00:00",
          "2024-07-31T00:00:00",
          "2024-08-31T00:00:00",
          "2024-09-30T00:00:00"
         ],
         "xaxis": "x4",
         "y": [
          484.60000000000036,
          273.10000000000036,
          318.7000000000003,
          687.5999999999999,
          926.2000000000003,
          1628.4,
          2431.4,
          2978.7999999999997,
          3618.4,
          4315.700000000001
         ],
         "yaxis": "y4"
        }
       ],
       "layout": {
        "annotations": [
         {
          "font": {
           "size": 16
          },
          "showarrow": false,
          "text": "Conversion rate",
          "x": 0.225,
          "xanchor": "center",
          "xref": "paper",
          "y": 1,
          "yanchor": "bottom",
          "yref": "paper"
         },
         {
          "font": {
           "size": 16
          },
          "showarrow": false,
          "text": "Gross profit",
          "x": 0.775,
          "xanchor": "center",
          "xref": "paper",
          "y": 1,
          "yanchor": "bottom",
          "yref": "paper"
         },
         {
          "font": {
           "size": 16
          },
          "showarrow": false,
          "text": "Operating profit",
          "x": 0.225,
          "xanchor": "center",
          "xref": "paper",
          "y": 0.375,
          "yanchor": "bottom",
          "yref": "paper"
         },
         {
          "font": {
           "size": 16
          },
          "showarrow": false,
          "text": "Volume gross income",
          "x": 0.775,
          "xanchor": "center",
          "xref": "paper",
          "y": 0.375,
          "yanchor": "bottom",
          "yref": "paper"
         }
        ],
        "font": {
         "size": 12
        },
        "shapes": [
         {
          "line": {
           "dash": "dot",
           "width": 2
          },
          "opacity": 0.8,
          "type": "line",
          "x0": 0,
          "x1": 1,
          "xref": "x2 domain",
          "y0": 4000,
          "y1": 4000,
          "yref": "y2"
         }
        ],
        "template": {
         "data": {
          "bar": [
           {
            "error_x": {
             "color": "#2a3f5f"
            },
            "error_y": {
             "color": "#2a3f5f"
            },
            "marker": {
             "line": {
              "color": "#E5ECF6",
              "width": 0.5
             },
             "pattern": {
              "fillmode": "overlay",
              "size": 10,
              "solidity": 0.2
             }
            },
            "type": "bar"
           }
          ],
          "barpolar": [
           {
            "marker": {
             "line": {
              "color": "#E5ECF6",
              "width": 0.5
             },
             "pattern": {
              "fillmode": "overlay",
              "size": 10,
              "solidity": 0.2
             }
            },
            "type": "barpolar"
           }
          ],
          "carpet": [
           {
            "aaxis": {
             "endlinecolor": "#2a3f5f",
             "gridcolor": "white",
             "linecolor": "white",
             "minorgridcolor": "white",
             "startlinecolor": "#2a3f5f"
            },
            "baxis": {
             "endlinecolor": "#2a3f5f",
             "gridcolor": "white",
             "linecolor": "white",
             "minorgridcolor": "white",
             "startlinecolor": "#2a3f5f"
            },
            "type": "carpet"
           }
          ],
          "choropleth": [
           {
            "colorbar": {
             "outlinewidth": 0,
             "ticks": ""
            },
            "type": "choropleth"
           }
          ],
          "contour": [
           {
            "colorbar": {
             "outlinewidth": 0,
             "ticks": ""
            },
            "colorscale": [
             [
              0,
              "#0d0887"
             ],
             [
              0.1111111111111111,
              "#46039f"
             ],
             [
              0.2222222222222222,
              "#7201a8"
             ],
             [
              0.3333333333333333,
              "#9c179e"
             ],
             [
              0.4444444444444444,
              "#bd3786"
             ],
             [
              0.5555555555555556,
              "#d8576b"
             ],
             [
              0.6666666666666666,
              "#ed7953"
             ],
             [
              0.7777777777777778,
              "#fb9f3a"
             ],
             [
              0.8888888888888888,
              "#fdca26"
             ],
             [
              1,
              "#f0f921"
             ]
            ],
            "type": "contour"
           }
          ],
          "contourcarpet": [
           {
            "colorbar": {
             "outlinewidth": 0,
             "ticks": ""
            },
            "type": "contourcarpet"
           }
          ],
          "heatmap": [
           {
            "colorbar": {
             "outlinewidth": 0,
             "ticks": ""
            },
            "colorscale": [
             [
              0,
              "#0d0887"
             ],
             [
              0.1111111111111111,
              "#46039f"
             ],
             [
              0.2222222222222222,
              "#7201a8"
             ],
             [
              0.3333333333333333,
              "#9c179e"
             ],
             [
              0.4444444444444444,
              "#bd3786"
             ],
             [
              0.5555555555555556,
              "#d8576b"
             ],
             [
              0.6666666666666666,
              "#ed7953"
             ],
             [
              0.7777777777777778,
              "#fb9f3a"
             ],
             [
              0.8888888888888888,
              "#fdca26"
             ],
             [
              1,
              "#f0f921"
             ]
            ],
            "type": "heatmap"
           }
          ],
          "heatmapgl": [
           {
            "colorbar": {
             "outlinewidth": 0,
             "ticks": ""
            },
            "colorscale": [
             [
              0,
              "#0d0887"
             ],
             [
              0.1111111111111111,
              "#46039f"
             ],
             [
              0.2222222222222222,
              "#7201a8"
             ],
             [
              0.3333333333333333,
              "#9c179e"
             ],
             [
              0.4444444444444444,
              "#bd3786"
             ],
             [
              0.5555555555555556,
              "#d8576b"
             ],
             [
              0.6666666666666666,
              "#ed7953"
             ],
             [
              0.7777777777777778,
              "#fb9f3a"
             ],
             [
              0.8888888888888888,
              "#fdca26"
             ],
             [
              1,
              "#f0f921"
             ]
            ],
            "type": "heatmapgl"
           }
          ],
          "histogram": [
           {
            "marker": {
             "pattern": {
              "fillmode": "overlay",
              "size": 10,
              "solidity": 0.2
             }
            },
            "type": "histogram"
           }
          ],
          "histogram2d": [
           {
            "colorbar": {
             "outlinewidth": 0,
             "ticks": ""
            },
            "colorscale": [
             [
              0,
              "#0d0887"
             ],
             [
              0.1111111111111111,
              "#46039f"
             ],
             [
              0.2222222222222222,
              "#7201a8"
             ],
             [
              0.3333333333333333,
              "#9c179e"
             ],
             [
              0.4444444444444444,
              "#bd3786"
             ],
             [
              0.5555555555555556,
              "#d8576b"
             ],
             [
              0.6666666666666666,
              "#ed7953"
             ],
             [
              0.7777777777777778,
              "#fb9f3a"
             ],
             [
              0.8888888888888888,
              "#fdca26"
             ],
             [
              1,
              "#f0f921"
             ]
            ],
            "type": "histogram2d"
           }
          ],
          "histogram2dcontour": [
           {
            "colorbar": {
             "outlinewidth": 0,
             "ticks": ""
            },
            "colorscale": [
             [
              0,
              "#0d0887"
             ],
             [
              0.1111111111111111,
              "#46039f"
             ],
             [
              0.2222222222222222,
              "#7201a8"
             ],
             [
              0.3333333333333333,
              "#9c179e"
             ],
             [
              0.4444444444444444,
              "#bd3786"
             ],
             [
              0.5555555555555556,
              "#d8576b"
             ],
             [
              0.6666666666666666,
              "#ed7953"
             ],
             [
              0.7777777777777778,
              "#fb9f3a"
             ],
             [
              0.8888888888888888,
              "#fdca26"
             ],
             [
              1,
              "#f0f921"
             ]
            ],
            "type": "histogram2dcontour"
           }
          ],
          "mesh3d": [
           {
            "colorbar": {
             "outlinewidth": 0,
             "ticks": ""
            },
            "type": "mesh3d"
           }
          ],
          "parcoords": [
           {
            "line": {
             "colorbar": {
              "outlinewidth": 0,
              "ticks": ""
             }
            },
            "type": "parcoords"
           }
          ],
          "pie": [
           {
            "automargin": true,
            "type": "pie"
           }
          ],
          "scatter": [
           {
            "fillpattern": {
             "fillmode": "overlay",
             "size": 10,
             "solidity": 0.2
            },
            "type": "scatter"
           }
          ],
          "scatter3d": [
           {
            "line": {
             "colorbar": {
              "outlinewidth": 0,
              "ticks": ""
             }
            },
            "marker": {
             "colorbar": {
              "outlinewidth": 0,
              "ticks": ""
             }
            },
            "type": "scatter3d"
           }
          ],
          "scattercarpet": [
           {
            "marker": {
             "colorbar": {
              "outlinewidth": 0,
              "ticks": ""
             }
            },
            "type": "scattercarpet"
           }
          ],
          "scattergeo": [
           {
            "marker": {
             "colorbar": {
              "outlinewidth": 0,
              "ticks": ""
             }
            },
            "type": "scattergeo"
           }
          ],
          "scattergl": [
           {
            "marker": {
             "colorbar": {
              "outlinewidth": 0,
              "ticks": ""
             }
            },
            "type": "scattergl"
           }
          ],
          "scattermapbox": [
           {
            "marker": {
             "colorbar": {
              "outlinewidth": 0,
              "ticks": ""
             }
            },
            "type": "scattermapbox"
           }
          ],
          "scatterpolar": [
           {
            "marker": {
             "colorbar": {
              "outlinewidth": 0,
              "ticks": ""
             }
            },
            "type": "scatterpolar"
           }
          ],
          "scatterpolargl": [
           {
            "marker": {
             "colorbar": {
              "outlinewidth": 0,
              "ticks": ""
             }
            },
            "type": "scatterpolargl"
           }
          ],
          "scatterternary": [
           {
            "marker": {
             "colorbar": {
              "outlinewidth": 0,
              "ticks": ""
             }
            },
            "type": "scatterternary"
           }
          ],
          "surface": [
           {
            "colorbar": {
             "outlinewidth": 0,
             "ticks": ""
            },
            "colorscale": [
             [
              0,
              "#0d0887"
             ],
             [
              0.1111111111111111,
              "#46039f"
             ],
             [
              0.2222222222222222,
              "#7201a8"
             ],
             [
              0.3333333333333333,
              "#9c179e"
             ],
             [
              0.4444444444444444,
              "#bd3786"
             ],
             [
              0.5555555555555556,
              "#d8576b"
             ],
             [
              0.6666666666666666,
              "#ed7953"
             ],
             [
              0.7777777777777778,
              "#fb9f3a"
             ],
             [
              0.8888888888888888,
              "#fdca26"
             ],
             [
              1,
              "#f0f921"
             ]
            ],
            "type": "surface"
           }
          ],
          "table": [
           {
            "cells": {
             "fill": {
              "color": "#EBF0F8"
             },
             "line": {
              "color": "white"
             }
            },
            "header": {
             "fill": {
              "color": "#C8D4E3"
             },
             "line": {
              "color": "white"
             }
            },
            "type": "table"
           }
          ]
         },
         "layout": {
          "annotationdefaults": {
           "arrowcolor": "#2a3f5f",
           "arrowhead": 0,
           "arrowwidth": 1
          },
          "autotypenumbers": "strict",
          "coloraxis": {
           "colorbar": {
            "outlinewidth": 0,
            "ticks": ""
           }
          },
          "colorscale": {
           "diverging": [
            [
             0,
             "#8e0152"
            ],
            [
             0.1,
             "#c51b7d"
            ],
            [
             0.2,
             "#de77ae"
            ],
            [
             0.3,
             "#f1b6da"
            ],
            [
             0.4,
             "#fde0ef"
            ],
            [
             0.5,
             "#f7f7f7"
            ],
            [
             0.6,
             "#e6f5d0"
            ],
            [
             0.7,
             "#b8e186"
            ],
            [
             0.8,
             "#7fbc41"
            ],
            [
             0.9,
             "#4d9221"
            ],
            [
             1,
             "#276419"
            ]
           ],
           "sequential": [
            [
             0,
             "#0d0887"
            ],
            [
             0.1111111111111111,
             "#46039f"
            ],
            [
             0.2222222222222222,
             "#7201a8"
            ],
            [
             0.3333333333333333,
             "#9c179e"
            ],
            [
             0.4444444444444444,
             "#bd3786"
            ],
            [
             0.5555555555555556,
             "#d8576b"
            ],
            [
             0.6666666666666666,
             "#ed7953"
            ],
            [
             0.7777777777777778,
             "#fb9f3a"
            ],
            [
             0.8888888888888888,
             "#fdca26"
            ],
            [
             1,
             "#f0f921"
            ]
           ],
           "sequentialminus": [
            [
             0,
             "#0d0887"
            ],
            [
             0.1111111111111111,
             "#46039f"
            ],
            [
             0.2222222222222222,
             "#7201a8"
            ],
            [
             0.3333333333333333,
             "#9c179e"
            ],
            [
             0.4444444444444444,
             "#bd3786"
            ],
            [
             0.5555555555555556,
             "#d8576b"
            ],
            [
             0.6666666666666666,
             "#ed7953"
            ],
            [
             0.7777777777777778,
             "#fb9f3a"
            ],
            [
             0.8888888888888888,
             "#fdca26"
            ],
            [
             1,
             "#f0f921"
            ]
           ]
          },
          "colorway": [
           "#636efa",
           "#EF553B",
           "#00cc96",
           "#ab63fa",
           "#FFA15A",
           "#19d3f3",
           "#FF6692",
           "#B6E880",
           "#FF97FF",
           "#FECB52"
          ],
          "font": {
           "color": "#2a3f5f"
          },
          "geo": {
           "bgcolor": "white",
           "lakecolor": "white",
           "landcolor": "#E5ECF6",
           "showlakes": true,
           "showland": true,
           "subunitcolor": "white"
          },
          "hoverlabel": {
           "align": "left"
          },
          "hovermode": "closest",
          "mapbox": {
           "style": "light"
          },
          "paper_bgcolor": "white",
          "plot_bgcolor": "#E5ECF6",
          "polar": {
           "angularaxis": {
            "gridcolor": "white",
            "linecolor": "white",
            "ticks": ""
           },
           "bgcolor": "#E5ECF6",
           "radialaxis": {
            "gridcolor": "white",
            "linecolor": "white",
            "ticks": ""
           }
          },
          "scene": {
           "xaxis": {
            "backgroundcolor": "#E5ECF6",
            "gridcolor": "white",
            "gridwidth": 2,
            "linecolor": "white",
            "showbackground": true,
            "ticks": "",
            "zerolinecolor": "white"
           },
           "yaxis": {
            "backgroundcolor": "#E5ECF6",
            "gridcolor": "white",
            "gridwidth": 2,
            "linecolor": "white",
            "showbackground": true,
            "ticks": "",
            "zerolinecolor": "white"
           },
           "zaxis": {
            "backgroundcolor": "#E5ECF6",
            "gridcolor": "white",
            "gridwidth": 2,
            "linecolor": "white",
            "showbackground": true,
            "ticks": "",
            "zerolinecolor": "white"
           }
          },
          "shapedefaults": {
           "line": {
            "color": "#2a3f5f"
           }
          },
          "ternary": {
           "aaxis": {
            "gridcolor": "white",
            "linecolor": "white",
            "ticks": ""
           },
           "baxis": {
            "gridcolor": "white",
            "linecolor": "white",
            "ticks": ""
           },
           "bgcolor": "#E5ECF6",
           "caxis": {
            "gridcolor": "white",
            "linecolor": "white",
            "ticks": ""
           }
          },
          "title": {
           "x": 0.05
          },
          "xaxis": {
           "automargin": true,
           "gridcolor": "white",
           "linecolor": "white",
           "ticks": "",
           "title": {
            "standoff": 15
           },
           "zerolinecolor": "white",
           "zerolinewidth": 2
          },
          "yaxis": {
           "automargin": true,
           "gridcolor": "white",
           "linecolor": "white",
           "ticks": "",
           "title": {
            "standoff": 15
           },
           "zerolinecolor": "white",
           "zerolinewidth": 2
          }
         }
        },
        "title": {
         "text": "Title - Finance model of eSim <br> All time profit - 4315.7 &#36;"
        },
        "xaxis": {
         "anchor": "y",
         "domain": [
          0,
          0.45
         ]
        },
        "xaxis2": {
         "anchor": "y2",
         "domain": [
          0.55,
          1
         ]
        },
        "xaxis3": {
         "anchor": "y3",
         "domain": [
          0,
          0.45
         ]
        },
        "xaxis4": {
         "anchor": "y4",
         "domain": [
          0.55,
          1
         ]
        },
        "yaxis": {
         "anchor": "x",
         "automargin": true,
         "domain": [
          0.625,
          1
         ],
         "tickformat": ",.2%"
        },
        "yaxis2": {
         "anchor": "x2",
         "automargin": true,
         "domain": [
          0.625,
          1
         ],
         "tickformat": ",.2f",
         "ticksuffix": "$"
        },
        "yaxis3": {
         "anchor": "x3",
         "automargin": true,
         "domain": [
          0,
          0.375
         ],
         "tickformat": ",.2f",
         "ticksuffix": "$"
        },
        "yaxis4": {
         "anchor": "x4",
         "automargin": true,
         "domain": [
          0,
          0.375
         ],
         "tickformat": ",.2f",
         "ticksuffix": "$"
        }
       }
      },
      "text/html": [
       "<div>                            <div id=\"55ca7b98-584c-4bdd-b5cb-dd0dc56eca04\" class=\"plotly-graph-div\" style=\"height:525px; width:100%;\"></div>            <script type=\"text/javascript\">                require([\"plotly\"], function(Plotly) {                    window.PLOTLYENV=window.PLOTLYENV || {};                                    if (document.getElementById(\"55ca7b98-584c-4bdd-b5cb-dd0dc56eca04\")) {                    Plotly.newPlot(                        \"55ca7b98-584c-4bdd-b5cb-dd0dc56eca04\",                        [{\"line\":{\"shape\":\"spline\"},\"name\":\"CR, %\",\"x\":[\"2023-12-31T00:00:00\",\"2024-01-31T00:00:00\",\"2024-02-29T00:00:00\",\"2024-03-31T00:00:00\",\"2024-04-30T00:00:00\",\"2024-05-31T00:00:00\",\"2024-06-30T00:00:00\",\"2024-07-31T00:00:00\",\"2024-08-31T00:00:00\",\"2024-09-30T00:00:00\"],\"y\":[0.026628536259425087,0.02217073509165143,0.023806548962850595,0.025956203648567107,0.025130648238819962,0.028146681878659433,0.028842957446257474,0.027083436558478183,0.027732760350221153,0.028116725643164104],\"type\":\"scatter\",\"xaxis\":\"x\",\"yaxis\":\"y\"},{\"line\":{\"shape\":\"spline\"},\"name\":\"Gross profit, $\",\"x\":[\"2023-12-31T00:00:00\",\"2024-01-31T00:00:00\",\"2024-02-29T00:00:00\",\"2024-03-31T00:00:00\",\"2024-04-30T00:00:00\",\"2024-05-31T00:00:00\",\"2024-06-30T00:00:00\",\"2024-07-31T00:00:00\",\"2024-08-31T00:00:00\",\"2024-09-30T00:00:00\"],\"y\":[4484.6,3788.5,4045.6,4368.9,4238.6,4702.2,4803.0,4547.4,4639.6,4697.3],\"type\":\"scatter\",\"xaxis\":\"x2\",\"yaxis\":\"y2\"},{\"line\":{\"shape\":\"spline\"},\"name\":\"Operating profit\",\"x\":[\"2023-12-31T00:00:00\",\"2024-01-31T00:00:00\",\"2024-02-29T00:00:00\",\"2024-03-31T00:00:00\",\"2024-04-30T00:00:00\",\"2024-05-31T00:00:00\",\"2024-06-30T00:00:00\",\"2024-07-31T00:00:00\",\"2024-08-31T00:00:00\",\"2024-09-30T00:00:00\"],\"y\":[484.60000000000036,-211.5,45.59999999999991,368.89999999999964,238.60000000000036,702.1999999999998,803.0,547.3999999999996,639.6000000000004,697.3000000000002],\"type\":\"scatter\",\"xaxis\":\"x3\",\"yaxis\":\"y3\"},{\"line\":{\"shape\":\"spline\"},\"name\":\"Volume gross income with Activated eSim\",\"x\":[\"2023-12-31T00:00:00\",\"2024-01-31T00:00:00\",\"2024-02-29T00:00:00\",\"2024-03-31T00:00:00\",\"2024-04-30T00:00:00\",\"2024-05-31T00:00:00\",\"2024-06-30T00:00:00\",\"2024-07-31T00:00:00\",\"2024-08-31T00:00:00\",\"2024-09-30T00:00:00\"],\"y\":[484.60000000000036,273.10000000000036,318.7000000000003,687.5999999999999,926.2000000000003,1628.4,2431.4,2978.7999999999997,3618.4,4315.700000000001],\"type\":\"scatter\",\"xaxis\":\"x4\",\"yaxis\":\"y4\"}],                        {\"template\":{\"data\":{\"histogram2dcontour\":[{\"type\":\"histogram2dcontour\",\"colorbar\":{\"outlinewidth\":0,\"ticks\":\"\"},\"colorscale\":[[0.0,\"#0d0887\"],[0.1111111111111111,\"#46039f\"],[0.2222222222222222,\"#7201a8\"],[0.3333333333333333,\"#9c179e\"],[0.4444444444444444,\"#bd3786\"],[0.5555555555555556,\"#d8576b\"],[0.6666666666666666,\"#ed7953\"],[0.7777777777777778,\"#fb9f3a\"],[0.8888888888888888,\"#fdca26\"],[1.0,\"#f0f921\"]]}],\"choropleth\":[{\"type\":\"choropleth\",\"colorbar\":{\"outlinewidth\":0,\"ticks\":\"\"}}],\"histogram2d\":[{\"type\":\"histogram2d\",\"colorbar\":{\"outlinewidth\":0,\"ticks\":\"\"},\"colorscale\":[[0.0,\"#0d0887\"],[0.1111111111111111,\"#46039f\"],[0.2222222222222222,\"#7201a8\"],[0.3333333333333333,\"#9c179e\"],[0.4444444444444444,\"#bd3786\"],[0.5555555555555556,\"#d8576b\"],[0.6666666666666666,\"#ed7953\"],[0.7777777777777778,\"#fb9f3a\"],[0.8888888888888888,\"#fdca26\"],[1.0,\"#f0f921\"]]}],\"heatmap\":[{\"type\":\"heatmap\",\"colorbar\":{\"outlinewidth\":0,\"ticks\":\"\"},\"colorscale\":[[0.0,\"#0d0887\"],[0.1111111111111111,\"#46039f\"],[0.2222222222222222,\"#7201a8\"],[0.3333333333333333,\"#9c179e\"],[0.4444444444444444,\"#bd3786\"],[0.5555555555555556,\"#d8576b\"],[0.6666666666666666,\"#ed7953\"],[0.7777777777777778,\"#fb9f3a\"],[0.8888888888888888,\"#fdca26\"],[1.0,\"#f0f921\"]]}],\"heatmapgl\":[{\"type\":\"heatmapgl\",\"colorbar\":{\"outlinewidth\":0,\"ticks\":\"\"},\"colorscale\":[[0.0,\"#0d0887\"],[0.1111111111111111,\"#46039f\"],[0.2222222222222222,\"#7201a8\"],[0.3333333333333333,\"#9c179e\"],[0.4444444444444444,\"#bd3786\"],[0.5555555555555556,\"#d8576b\"],[0.6666666666666666,\"#ed7953\"],[0.7777777777777778,\"#fb9f3a\"],[0.8888888888888888,\"#fdca26\"],[1.0,\"#f0f921\"]]}],\"contourcarpet\":[{\"type\":\"contourcarpet\",\"colorbar\":{\"outlinewidth\":0,\"ticks\":\"\"}}],\"contour\":[{\"type\":\"contour\",\"colorbar\":{\"outlinewidth\":0,\"ticks\":\"\"},\"colorscale\":[[0.0,\"#0d0887\"],[0.1111111111111111,\"#46039f\"],[0.2222222222222222,\"#7201a8\"],[0.3333333333333333,\"#9c179e\"],[0.4444444444444444,\"#bd3786\"],[0.5555555555555556,\"#d8576b\"],[0.6666666666666666,\"#ed7953\"],[0.7777777777777778,\"#fb9f3a\"],[0.8888888888888888,\"#fdca26\"],[1.0,\"#f0f921\"]]}],\"surface\":[{\"type\":\"surface\",\"colorbar\":{\"outlinewidth\":0,\"ticks\":\"\"},\"colorscale\":[[0.0,\"#0d0887\"],[0.1111111111111111,\"#46039f\"],[0.2222222222222222,\"#7201a8\"],[0.3333333333333333,\"#9c179e\"],[0.4444444444444444,\"#bd3786\"],[0.5555555555555556,\"#d8576b\"],[0.6666666666666666,\"#ed7953\"],[0.7777777777777778,\"#fb9f3a\"],[0.8888888888888888,\"#fdca26\"],[1.0,\"#f0f921\"]]}],\"mesh3d\":[{\"type\":\"mesh3d\",\"colorbar\":{\"outlinewidth\":0,\"ticks\":\"\"}}],\"scatter\":[{\"fillpattern\":{\"fillmode\":\"overlay\",\"size\":10,\"solidity\":0.2},\"type\":\"scatter\"}],\"parcoords\":[{\"type\":\"parcoords\",\"line\":{\"colorbar\":{\"outlinewidth\":0,\"ticks\":\"\"}}}],\"scatterpolargl\":[{\"type\":\"scatterpolargl\",\"marker\":{\"colorbar\":{\"outlinewidth\":0,\"ticks\":\"\"}}}],\"bar\":[{\"error_x\":{\"color\":\"#2a3f5f\"},\"error_y\":{\"color\":\"#2a3f5f\"},\"marker\":{\"line\":{\"color\":\"#E5ECF6\",\"width\":0.5},\"pattern\":{\"fillmode\":\"overlay\",\"size\":10,\"solidity\":0.2}},\"type\":\"bar\"}],\"scattergeo\":[{\"type\":\"scattergeo\",\"marker\":{\"colorbar\":{\"outlinewidth\":0,\"ticks\":\"\"}}}],\"scatterpolar\":[{\"type\":\"scatterpolar\",\"marker\":{\"colorbar\":{\"outlinewidth\":0,\"ticks\":\"\"}}}],\"histogram\":[{\"marker\":{\"pattern\":{\"fillmode\":\"overlay\",\"size\":10,\"solidity\":0.2}},\"type\":\"histogram\"}],\"scattergl\":[{\"type\":\"scattergl\",\"marker\":{\"colorbar\":{\"outlinewidth\":0,\"ticks\":\"\"}}}],\"scatter3d\":[{\"type\":\"scatter3d\",\"line\":{\"colorbar\":{\"outlinewidth\":0,\"ticks\":\"\"}},\"marker\":{\"colorbar\":{\"outlinewidth\":0,\"ticks\":\"\"}}}],\"scattermapbox\":[{\"type\":\"scattermapbox\",\"marker\":{\"colorbar\":{\"outlinewidth\":0,\"ticks\":\"\"}}}],\"scatterternary\":[{\"type\":\"scatterternary\",\"marker\":{\"colorbar\":{\"outlinewidth\":0,\"ticks\":\"\"}}}],\"scattercarpet\":[{\"type\":\"scattercarpet\",\"marker\":{\"colorbar\":{\"outlinewidth\":0,\"ticks\":\"\"}}}],\"carpet\":[{\"aaxis\":{\"endlinecolor\":\"#2a3f5f\",\"gridcolor\":\"white\",\"linecolor\":\"white\",\"minorgridcolor\":\"white\",\"startlinecolor\":\"#2a3f5f\"},\"baxis\":{\"endlinecolor\":\"#2a3f5f\",\"gridcolor\":\"white\",\"linecolor\":\"white\",\"minorgridcolor\":\"white\",\"startlinecolor\":\"#2a3f5f\"},\"type\":\"carpet\"}],\"table\":[{\"cells\":{\"fill\":{\"color\":\"#EBF0F8\"},\"line\":{\"color\":\"white\"}},\"header\":{\"fill\":{\"color\":\"#C8D4E3\"},\"line\":{\"color\":\"white\"}},\"type\":\"table\"}],\"barpolar\":[{\"marker\":{\"line\":{\"color\":\"#E5ECF6\",\"width\":0.5},\"pattern\":{\"fillmode\":\"overlay\",\"size\":10,\"solidity\":0.2}},\"type\":\"barpolar\"}],\"pie\":[{\"automargin\":true,\"type\":\"pie\"}]},\"layout\":{\"autotypenumbers\":\"strict\",\"colorway\":[\"#636efa\",\"#EF553B\",\"#00cc96\",\"#ab63fa\",\"#FFA15A\",\"#19d3f3\",\"#FF6692\",\"#B6E880\",\"#FF97FF\",\"#FECB52\"],\"font\":{\"color\":\"#2a3f5f\"},\"hovermode\":\"closest\",\"hoverlabel\":{\"align\":\"left\"},\"paper_bgcolor\":\"white\",\"plot_bgcolor\":\"#E5ECF6\",\"polar\":{\"bgcolor\":\"#E5ECF6\",\"angularaxis\":{\"gridcolor\":\"white\",\"linecolor\":\"white\",\"ticks\":\"\"},\"radialaxis\":{\"gridcolor\":\"white\",\"linecolor\":\"white\",\"ticks\":\"\"}},\"ternary\":{\"bgcolor\":\"#E5ECF6\",\"aaxis\":{\"gridcolor\":\"white\",\"linecolor\":\"white\",\"ticks\":\"\"},\"baxis\":{\"gridcolor\":\"white\",\"linecolor\":\"white\",\"ticks\":\"\"},\"caxis\":{\"gridcolor\":\"white\",\"linecolor\":\"white\",\"ticks\":\"\"}},\"coloraxis\":{\"colorbar\":{\"outlinewidth\":0,\"ticks\":\"\"}},\"colorscale\":{\"sequential\":[[0.0,\"#0d0887\"],[0.1111111111111111,\"#46039f\"],[0.2222222222222222,\"#7201a8\"],[0.3333333333333333,\"#9c179e\"],[0.4444444444444444,\"#bd3786\"],[0.5555555555555556,\"#d8576b\"],[0.6666666666666666,\"#ed7953\"],[0.7777777777777778,\"#fb9f3a\"],[0.8888888888888888,\"#fdca26\"],[1.0,\"#f0f921\"]],\"sequentialminus\":[[0.0,\"#0d0887\"],[0.1111111111111111,\"#46039f\"],[0.2222222222222222,\"#7201a8\"],[0.3333333333333333,\"#9c179e\"],[0.4444444444444444,\"#bd3786\"],[0.5555555555555556,\"#d8576b\"],[0.6666666666666666,\"#ed7953\"],[0.7777777777777778,\"#fb9f3a\"],[0.8888888888888888,\"#fdca26\"],[1.0,\"#f0f921\"]],\"diverging\":[[0,\"#8e0152\"],[0.1,\"#c51b7d\"],[0.2,\"#de77ae\"],[0.3,\"#f1b6da\"],[0.4,\"#fde0ef\"],[0.5,\"#f7f7f7\"],[0.6,\"#e6f5d0\"],[0.7,\"#b8e186\"],[0.8,\"#7fbc41\"],[0.9,\"#4d9221\"],[1,\"#276419\"]]},\"xaxis\":{\"gridcolor\":\"white\",\"linecolor\":\"white\",\"ticks\":\"\",\"title\":{\"standoff\":15},\"zerolinecolor\":\"white\",\"automargin\":true,\"zerolinewidth\":2},\"yaxis\":{\"gridcolor\":\"white\",\"linecolor\":\"white\",\"ticks\":\"\",\"title\":{\"standoff\":15},\"zerolinecolor\":\"white\",\"automargin\":true,\"zerolinewidth\":2},\"scene\":{\"xaxis\":{\"backgroundcolor\":\"#E5ECF6\",\"gridcolor\":\"white\",\"linecolor\":\"white\",\"showbackground\":true,\"ticks\":\"\",\"zerolinecolor\":\"white\",\"gridwidth\":2},\"yaxis\":{\"backgroundcolor\":\"#E5ECF6\",\"gridcolor\":\"white\",\"linecolor\":\"white\",\"showbackground\":true,\"ticks\":\"\",\"zerolinecolor\":\"white\",\"gridwidth\":2},\"zaxis\":{\"backgroundcolor\":\"#E5ECF6\",\"gridcolor\":\"white\",\"linecolor\":\"white\",\"showbackground\":true,\"ticks\":\"\",\"zerolinecolor\":\"white\",\"gridwidth\":2}},\"shapedefaults\":{\"line\":{\"color\":\"#2a3f5f\"}},\"annotationdefaults\":{\"arrowcolor\":\"#2a3f5f\",\"arrowhead\":0,\"arrowwidth\":1},\"geo\":{\"bgcolor\":\"white\",\"landcolor\":\"#E5ECF6\",\"subunitcolor\":\"white\",\"showland\":true,\"showlakes\":true,\"lakecolor\":\"white\"},\"title\":{\"x\":0.05},\"mapbox\":{\"style\":\"light\"}}},\"xaxis\":{\"anchor\":\"y\",\"domain\":[0.0,0.45]},\"yaxis\":{\"anchor\":\"x\",\"domain\":[0.625,1.0],\"tickformat\":\",.2%\",\"automargin\":true},\"xaxis2\":{\"anchor\":\"y2\",\"domain\":[0.55,1.0]},\"yaxis2\":{\"anchor\":\"x2\",\"domain\":[0.625,1.0],\"tickformat\":\",.2f\",\"automargin\":true,\"ticksuffix\":\"$\"},\"xaxis3\":{\"anchor\":\"y3\",\"domain\":[0.0,0.45]},\"yaxis3\":{\"anchor\":\"x3\",\"domain\":[0.0,0.375],\"tickformat\":\",.2f\",\"automargin\":true,\"ticksuffix\":\"$\"},\"xaxis4\":{\"anchor\":\"y4\",\"domain\":[0.55,1.0]},\"yaxis4\":{\"anchor\":\"x4\",\"domain\":[0.0,0.375],\"tickformat\":\",.2f\",\"automargin\":true,\"ticksuffix\":\"$\"},\"annotations\":[{\"font\":{\"size\":16},\"showarrow\":false,\"text\":\"Conversion rate\",\"x\":0.225,\"xanchor\":\"center\",\"xref\":\"paper\",\"y\":1.0,\"yanchor\":\"bottom\",\"yref\":\"paper\"},{\"font\":{\"size\":16},\"showarrow\":false,\"text\":\"Gross profit\",\"x\":0.775,\"xanchor\":\"center\",\"xref\":\"paper\",\"y\":1.0,\"yanchor\":\"bottom\",\"yref\":\"paper\"},{\"font\":{\"size\":16},\"showarrow\":false,\"text\":\"Operating profit\",\"x\":0.225,\"xanchor\":\"center\",\"xref\":\"paper\",\"y\":0.375,\"yanchor\":\"bottom\",\"yref\":\"paper\"},{\"font\":{\"size\":16},\"showarrow\":false,\"text\":\"Volume gross income\",\"x\":0.775,\"xanchor\":\"center\",\"xref\":\"paper\",\"y\":0.375,\"yanchor\":\"bottom\",\"yref\":\"paper\"}],\"title\":{\"text\":\"Title - Finance model of eSim <br> All time profit - 4315.7 &#36;\"},\"font\":{\"size\":12},\"shapes\":[{\"line\":{\"dash\":\"dot\",\"width\":2},\"opacity\":0.8,\"type\":\"line\",\"x0\":0,\"x1\":1,\"xref\":\"x2 domain\",\"y0\":4000,\"y1\":4000,\"yref\":\"y2\"}]},                        {\"responsive\": true}                    ).then(function(){\n",
       "                            \n",
       "var gd = document.getElementById('55ca7b98-584c-4bdd-b5cb-dd0dc56eca04');\n",
       "var x = new MutationObserver(function (mutations, observer) {{\n",
       "        var display = window.getComputedStyle(gd).display;\n",
       "        if (!display || display === 'none') {{\n",
       "            console.log([gd, 'removed!']);\n",
       "            Plotly.purge(gd);\n",
       "            observer.disconnect();\n",
       "        }}\n",
       "}});\n",
       "\n",
       "// Listen for the removal of the full notebook cells\n",
       "var notebookContainer = gd.closest('#notebook-container');\n",
       "if (notebookContainer) {{\n",
       "    x.observe(notebookContainer, {childList: true});\n",
       "}}\n",
       "\n",
       "// Listen for the clearing of the current output cell\n",
       "var outputEl = gd.closest('.output');\n",
       "if (outputEl) {{\n",
       "    x.observe(outputEl, {childList: true});\n",
       "}}\n",
       "\n",
       "                        })                };                });            </script>        </div>"
      ]
     },
     "metadata": {},
     "output_type": "display_data"
    }
   ],
   "source": [
    "case.show()"
   ]
  },
  {
   "cell_type": "markdown",
   "id": "6237336c",
   "metadata": {},
   "source": [
    "# Итоги\n",
    "\n",
    "Итоговая презентация и разработка модели были представлены перед топ-менеджментом и т.д. В самом деле здесь упущены реальные условия по расходам, и изменены оригинальные цены на eSim для сохранения конфедициальности бизнеса. "
   ]
  }
 ],
 "metadata": {
  "kernelspec": {
   "display_name": "Python 3 (ipykernel)",
   "language": "python",
   "name": "python3"
  },
  "language_info": {
   "codemirror_mode": {
    "name": "ipython",
    "version": 3
   },
   "file_extension": ".py",
   "mimetype": "text/x-python",
   "name": "python",
   "nbconvert_exporter": "python",
   "pygments_lexer": "ipython3",
   "version": "3.11.3"
  },
  "toc": {
   "base_numbering": 1,
   "nav_menu": {},
   "number_sections": true,
   "sideBar": true,
   "skip_h1_title": false,
   "title_cell": "Table of Contents",
   "title_sidebar": "Contents",
   "toc_cell": true,
   "toc_position": {},
   "toc_section_display": true,
   "toc_window_display": true
  },
  "varInspector": {
   "cols": {
    "lenName": 16,
    "lenType": 16,
    "lenVar": 40
   },
   "kernels_config": {
    "python": {
     "delete_cmd_postfix": "",
     "delete_cmd_prefix": "del ",
     "library": "var_list.py",
     "varRefreshCmd": "print(var_dic_list())"
    },
    "r": {
     "delete_cmd_postfix": ") ",
     "delete_cmd_prefix": "rm(",
     "library": "var_list.r",
     "varRefreshCmd": "cat(var_dic_list()) "
    }
   },
   "types_to_exclude": [
    "module",
    "function",
    "builtin_function_or_method",
    "instance",
    "_Feature"
   ],
   "window_display": false
  }
 },
 "nbformat": 4,
 "nbformat_minor": 5
}
