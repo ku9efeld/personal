{
 "cells": [
  {
   "cell_type": "code",
   "execution_count": 1,
   "id": "3bfecb02",
   "metadata": {},
   "outputs": [],
   "source": [
    "import os\n",
    "import numpy as np\n",
    "import pandas as pd\n",
    "import re\n",
    "from math import isnan\n",
    "from datetime import datetime\n",
    "# Google Libs\n",
    "from google.api_core import exceptions\n",
    "from google.oauth2.service_account import Credentials\n",
    "from google.cloud import bigquery as bq\n",
    "# Import custom classes for load and transform\n",
    "from Reporter import Reporter\n",
    "from Preprocessing import Preprocessing"
   ]
  },
  {
   "cell_type": "markdown",
   "id": "f35b0699",
   "metadata": {},
   "source": [
    "Reporter - дополнительный класс, инцилизируется с помощью\n",
    "- **reporter_parms**  \n",
    "  `start_date`, `end_date`  - интервал, в котором скачиваются отчеты  \n",
    "  `name` - название типа отчетов \\\\ TODO: чтобы был листом  \n",
    "  `id` - идентификатор МП в appstore  \n",
    "  `path_dist` - путь, куда грузятся отчеты (для удобства совпадает с base_dir)\n",
    "  \n",
    "После инцилизации есть 2 метода:\n",
    "- extract():\n",
    "Реализует выгрузку отчетов, согласно тому, как это было задано параметрами, можно проверить методом .show()\n",
    "- update_dates(dates):\n",
    "Обновляет даты в конфигурации\n",
    "\n",
    "dates - формата list ([]), в котором даты должны быть 'YYYYMMDD'  \n",
    "Например dates = ['20231231','20240101']\n",
    "\n",
    "- show():\n",
    "\n",
    "Preprocessing - дополнительный класс для обработки полей в отчетах от AppStore Connect \n",
    "\n",
    "# Параметры выгрузки\n",
    "- **base_dir**  \n",
    "Путь, в котором будут сложены отчеты (.csv)\n",
    "- **appstore_id**   \n",
    "Идентификатор МП в appstore\n",
    "- **reporter_parms**  \n",
    "  `start_date`, `end_date`  - интервал, в котором скачиваются отчеты  \n",
    "  `name` - название типа отчетов \\\\ TODO: чтобы был листом  \n",
    "  `id` - идентификатор МП в appstore  \n",
    "  `path_dist` - путь, куда грузятся отчеты (для удобства совпадает с base_dir)  \n",
    "- **project_id**  \n",
    " Название проекта в Big Query \n",
    "- **dataset_id**  \n",
    " Название датасета внутри проекта\n",
    "\n",
    "- **credentials_json**  \n",
    " Путь к json (для аутентификации в сервисах GCP)\n"
   ]
  },
  {
   "cell_type": "code",
   "execution_count": 3,
   "id": "74f4c0af",
   "metadata": {
    "code_folding": []
   },
   "outputs": [],
   "source": [
    "# Path in OS for download with PC owner script\n",
    "base_dir = 'C:\\\\Users\\\\PC\\\\Desktop\\\\Notebooks\\\\datasets\\\\Apple Appstore connect data'\n",
    "# AppStore identifies each mobile app as id, for example 12345678 (size = 8)\n",
    "appstore_id = 11110000\n",
    "reporter_parms = {'start_date': '2024/03/22',\n",
    "                  'end_date': '2024/03/25',\n",
    "                  'name': ' ',\n",
    "                  'id': appstore_id,\n",
    "                  'path_dst': base_dir}\n",
    "# Big_Query Destination -> Structure: Project_id.Dataset_id.Table_name_id\n",
    "# Project name in Big Query \n",
    "project_id = 'PROJECT_NAME'\n",
    "# Dataset name in Big Query\n",
    "dataset_id = 'DATASET_DATA'\n",
    "# Credentials for Auth in GCP \n",
    "credentials_json = '..\\\\..\\\\credentials\\\\big_query_admin.json'"
   ]
  },
  {
   "cell_type": "markdown",
   "id": "26333888",
   "metadata": {},
   "source": [
    "Structure of project in Big Query:\n",
    "\n",
    "- project\n",
    "    - dataset  \n",
    "        -table1 (Subscribers)  \n",
    "        -table2 (SubscriptionEvents)  "
   ]
  },
  {
   "cell_type": "markdown",
   "id": "1f4fd25c",
   "metadata": {},
   "source": [
    "# Выгрузка"
   ]
  },
  {
   "cell_type": "code",
   "execution_count": 10,
   "id": "620c0eb6",
   "metadata": {},
   "outputs": [],
   "source": [
    "update = Reporter(**reporter_parms)"
   ]
  },
  {
   "cell_type": "code",
   "execution_count": 11,
   "id": "afc4d062",
   "metadata": {},
   "outputs": [
    {
     "name": "stdout",
     "output_type": "stream",
     "text": [
      "Типы отчетов ['SubscriptionEvent', 'Subscriber'], c 20240322 по 20240325, в директорию - C:\\Users\\PC\\Desktop\\Notebooks\\datasets\\Apple Appstore connect data\n"
     ]
    }
   ],
   "source": [
    "print(update.show())"
   ]
  },
  {
   "cell_type": "code",
   "execution_count": null,
   "id": "6598e71d",
   "metadata": {
    "code_folding": []
   },
   "outputs": [],
   "source": [
    "# reporter_parms['name'] = 'SubscriptionEvent'\n",
    "# events = Reporter(**reporter_parms)\n",
    "# events.extract()"
   ]
  },
  {
   "cell_type": "code",
   "execution_count": null,
   "id": "e8fd7d5a",
   "metadata": {},
   "outputs": [],
   "source": [
    "# update.extract()"
   ]
  },
  {
   "cell_type": "markdown",
   "id": "a4a1bd21",
   "metadata": {},
   "source": [
    "# Предобработка"
   ]
  },
  {
   "cell_type": "code",
   "execution_count": 6,
   "id": "b9275f4e",
   "metadata": {},
   "outputs": [],
   "source": [
    "def check_csv(table):\n",
    "    if (((table['Event_Date'] == ' ') | (table['Event_Date'].isnull())).sum() != 0):\n",
    "        raise EmptyDate('Колонка с `Event Date` без даты')\n",
    "    if (table[\"Standard_Subscription_Duration\"].isnull().sum() != 0 ):\n",
    "        raise EmptyString('Недостает значение в `Standard Subscription Duration`')"
   ]
  },
  {
   "cell_type": "code",
   "execution_count": 7,
   "id": "bf2dd8a3",
   "metadata": {},
   "outputs": [
    {
     "name": "stdout",
     "output_type": "stream",
     "text": [
      "CPU times: total: 15.6 ms\n",
      "Wall time: 195 ms\n"
     ]
    }
   ],
   "source": [
    "%%time\n",
    "dfs = {}\n",
    "all_filenames = os.listdir(base_dir)\n",
    "for file in all_filenames:\n",
    "    path = os.path.join(base_dir,file)\n",
    "    df = Preprocessing(path).get_data()\n",
    "    try:\n",
    "        check_csv(df)\n",
    "    except:\n",
    "        print(f'{file} сломан, предобработка не справилась с пропусками, поэтому загрузка невозможна')\n",
    "        dfs.clear()\n",
    "        break\n",
    "    name_table = str(file[:-4:1].replace(r'_'+ str(appstore_id),'')[:-5:])\n",
    "    if re.match(r'^(Subscriber|Subscription_Event)_202[3-9]\\d{4}$', name_table):\n",
    "        table_suffix = re.search('\\d{8}',name_table).group(0)\n",
    "        dfs.update(\n",
    "                  {\n",
    "                    name_table:\n",
    "                    {'frame':df,\n",
    "                     'table_suffix': table_suffix}\n",
    "                   }\n",
    "                  )\n",
    "    else:\n",
    "        print(f'По пути {path} неподходящее название файла')"
   ]
  },
  {
   "cell_type": "markdown",
   "id": "a55d168a",
   "metadata": {},
   "source": [
    "# Load data to BigQuery"
   ]
  },
  {
   "cell_type": "markdown",
   "id": "0a3bb6f9",
   "metadata": {},
   "source": [
    "## Connect"
   ]
  },
  {
   "cell_type": "code",
   "execution_count": null,
   "id": "72bb973e",
   "metadata": {},
   "outputs": [],
   "source": [
    "load_config_parms = {\n",
    "                     'autodetect': True,\n",
    "                     'create_disposition':'CREATE_IF_NEEDED',\n",
    "                     'destination_table_description' : 'Data load by @dki script'\n",
    "                    }"
   ]
  },
  {
   "cell_type": "code",
   "execution_count": null,
   "id": "177f08cb",
   "metadata": {},
   "outputs": [],
   "source": [
    "# Подключение и создание схем\n",
    "job_config = bq.LoadJobConfig(**load_config_parms)\n",
    "credentials = Credentials.from_service_account_file(credentials_json) # создание объекта с кредо\n",
    "client = bq.Client(credentials=credentials,\n",
    "                   project=project_id,\n",
    "                   default_load_job_config=job_config)\n",
    "subscriber_schema = client.schema_from_json('schema/subscriber.json')\n",
    "subcription_event_schema = client.schema_from_json('schema/subcription_event.json')"
   ]
  },
  {
   "cell_type": "code",
   "execution_count": null,
   "id": "55fdeed3",
   "metadata": {
    "scrolled": true
   },
   "outputs": [],
   "source": [
    "from datetime import datetime\n",
    "# Проверка последнего загруженного Table_suffix\n",
    "query_job = client.query(f''' \n",
    "SELECT ANY_VALUE (_TABLE_SUFFIX HAVING MAX PARSE_DATE('%Y%m%d', _TABLE_SUFFIX) ) AS last_date \n",
    "FROM  `{dataset_id}.Subscriber_*`\n",
    "UNION ALL \n",
    "SELECT ANY_VALUE (_TABLE_SUFFIX HAVING MAX PARSE_DATE('%Y%m%d', _TABLE_SUFFIX) ) AS last_date \n",
    "FROM  `{dataset_id}.Subscription_Event_*`''')\n",
    "try:\n",
    "    dates = query_job.to_dataframe().rename(index={0:'Subscriber_*',1:'Subscription_Event_*'})\n",
    "    print(dates)\n",
    "    dates_dict = {'Subscriber':dates.loc['Subscriber_*','last_date'],\n",
    "                 'Subscription_Event': dates.loc['Subscription_Event_*','last_date']}\n",
    "except exceptions.BadRequest as exc:\n",
    "    print(exc)\n"
   ]
  },
  {
   "cell_type": "markdown",
   "id": "9d8b022f",
   "metadata": {},
   "source": [
    "## Load"
   ]
  },
  {
   "cell_type": "code",
   "execution_count": null,
   "id": "1462382a",
   "metadata": {},
   "outputs": [],
   "source": [
    "def is_there_in_wildcards(name_table,table_suffix):\n",
    "    \"\"\"\n",
    "    name_table - название таблицы,\n",
    "    table_suffix - дата таблицы (окончание в таблице)\n",
    "\n",
    "    \n",
    "    \"\"\"\n",
    "    if(re.match('^Subscriber.+', name_table)):\n",
    "        if datetime.strptime(table_suffix,'%Y%m%d')  <= datetime.strptime(dates_dict['Subscriber'],'%Y%m%d'):\n",
    "                print(f'{name_table} имеет table_suffix раньше крайней даты, что есть среди BQ Wildcards')\n",
    "                return False\n",
    "        return True\n",
    "    elif (re.match('^Subscription.+',name_table)):\n",
    "        if datetime.strptime(table_suffix,'%Y%m%d') <= datetime.strptime(dates_dict['Subscription_Event'],'%Y%m%d'):\n",
    "                print(f'{name_table} имеет table_suffix раньше крайней даты, что есть среди BQ Wildcards')\n",
    "                return False\n",
    "        return True\n",
    "    else:\n",
    "        print(f'{name_table} не подходит под формат `Subscriber_...` или `Subscription_Event_...`')\n",
    "        return False\n",
    "    \n",
    "jobs = []\n",
    "\n",
    "\n",
    "\n",
    "for name_table,data in dfs.items():\n",
    "    if re.match('^Subscription_Event.+', name_table):\n",
    "        job_config.schema = subcription_event_schema\n",
    "    else:\n",
    "        job_config.schema = subscriber_schema\n",
    "    job = client.load_table_from_dataframe(dataframe=data['frame'],\n",
    "                                          destination=f'{project_id}.{dataset_id}.{name_table}',\n",
    "                                          job_config=job_config)"
   ]
  }
 ],
 "metadata": {
  "kernelspec": {
   "display_name": "Python 3 (ipykernel)",
   "language": "python",
   "name": "python3"
  },
  "language_info": {
   "codemirror_mode": {
    "name": "ipython",
    "version": 3
   },
   "file_extension": ".py",
   "mimetype": "text/x-python",
   "name": "python",
   "nbconvert_exporter": "python",
   "pygments_lexer": "ipython3",
   "version": "3.11.3"
  },
  "toc": {
   "base_numbering": 1,
   "nav_menu": {},
   "number_sections": true,
   "sideBar": true,
   "skip_h1_title": false,
   "title_cell": "Table of Contents",
   "title_sidebar": "Contents",
   "toc_cell": false,
   "toc_position": {},
   "toc_section_display": true,
   "toc_window_display": false
  },
  "varInspector": {
   "cols": {
    "lenName": 16,
    "lenType": 16,
    "lenVar": 40
   },
   "kernels_config": {
    "python": {
     "delete_cmd_postfix": "",
     "delete_cmd_prefix": "del ",
     "library": "var_list.py",
     "varRefreshCmd": "print(var_dic_list())"
    },
    "r": {
     "delete_cmd_postfix": ") ",
     "delete_cmd_prefix": "rm(",
     "library": "var_list.r",
     "varRefreshCmd": "cat(var_dic_list()) "
    }
   },
   "types_to_exclude": [
    "module",
    "function",
    "builtin_function_or_method",
    "instance",
    "_Feature"
   ],
   "window_display": false
  }
 },
 "nbformat": 4,
 "nbformat_minor": 5
}
