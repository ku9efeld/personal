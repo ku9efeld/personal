{
 "cells": [
  {
   "cell_type": "markdown",
   "metadata": {
    "toc": true
   },
   "source": [
    "<h1>Table of Contents<span class=\"tocSkip\"></span></h1>\n",
    "<div class=\"toc\"><ul class=\"toc-item\"><li><span><a href=\"#Список-параметров-для-подключения-к-системам\" data-toc-modified-id=\"Список-параметров-для-подключения-к-системам-1\"><span class=\"toc-item-num\">1&nbsp;&nbsp;</span>Список параметров для подключения к системам</a></span></li><li><span><a href=\"#Логика-работы\" data-toc-modified-id=\"Логика-работы-2\"><span class=\"toc-item-num\">2&nbsp;&nbsp;</span><strong>Логика работы</strong></a></span></li><li><span><a href=\"#Важные-замечания\" data-toc-modified-id=\"Важные-замечания-3\"><span class=\"toc-item-num\">3&nbsp;&nbsp;</span><strong>Важные замечания</strong></a></span></li><li><span><a href=\"#1.-Установка-библиотек\" data-toc-modified-id=\"1.-Установка-библиотек-4\"><span class=\"toc-item-num\">4&nbsp;&nbsp;</span>1. Установка библиотек</a></span></li><li><span><a href=\"#2.-Получение-данных-из-Яндекс-Метрики-(LogsAPI)\" data-toc-modified-id=\"2.-Получение-данных-из-Яндекс-Метрики-(LogsAPI)-5\"><span class=\"toc-item-num\">5&nbsp;&nbsp;</span>2. Получение данных из Яндекс Метрики (LogsAPI)</a></span></li><li><span><a href=\"#3.-Обновление-Clickhouse\" data-toc-modified-id=\"3.-Обновление-Clickhouse-6\"><span class=\"toc-item-num\">6&nbsp;&nbsp;</span>3. Обновление Clickhouse</a></span></li></ul></div>"
   ]
  },
  {
   "cell_type": "markdown",
   "metadata": {
    "id": "yRhR4WfFochH"
   },
   "source": [
    "# Список параметров для подключения к системам\n",
    "- CH_HOST_NAME - Название БД в облаке\n",
    "- CH_USER - логин БД\n",
    "- CH_DB_NAME - название схемы в БД\n",
    "- CH_PASS - пароль к БД\n",
    "- CH_CASERT - путь к сертификату для безопасного подключения к БД\n",
    "- M_TOKEN - токен для авторизации в сервисах Я.Метрики (раз в год нужно обновлять)\n",
    "- M_COUNTER - идентификатор счетчика Я. Метрика"
   ]
  },
  {
   "cell_type": "code",
   "execution_count": null,
   "metadata": {
    "id": "LQjDEnhHpFph"
   },
   "outputs": [],
   "source": [
    "#----------Clickhouse-Creds-------------\n",
    "CH_HOST_NAME = ''\n",
    "CH_USER      = ''\n",
    "CH_DB_NAME   = ''\n",
    "CH_PASS      = ''\n",
    "CH_CASERT    = ''\n",
    "#-------------Metrika-Creds--------------------\n",
    "M_TOKEN = ''\n",
    "M_COUNTER = ''"
   ]
  },
  {
   "cell_type": "markdown",
   "metadata": {
    "id": "UWyLU6cEpMn_"
   },
   "source": [
    "# __Логика работы__\n",
    "Всего в Яндекс Метрике есть 2 типа таблицы\n",
    "hits и visits, поэтому будет 2 выгрузки, в обе таблицы соотвественно\n",
    "\n",
    "hits - просмотры - содержат в себе информацию о покупках, все событиях, целях и тд  \n",
    "\n",
    "visits - визиты - высокоуровнево описывает, какие пользователи, когда и во сколько были на сайте\n",
    "\n",
    "Каждый тип таблицы содержит огромное число столбцев - 50+\n",
    "Все они не нужны, поэтому, их можно пополнять в перменных\n",
    "\n",
    "1. Google Colab - это рабочая среда для выполнения Python кода в облаке Гугл Диска\n",
    "\n",
    "Ноутбук - это скрипт, который логически делится из ячеек, которые нужно по очереди запускать друг за другом.\n",
    "Нужно перейти в скрипт, запустить по очереди все ячейки\n",
    "Глобально должно будет быть 4 ячейки\n",
    "\n",
    "2. Установка библиотек себе на облако (нужно самый первый раз будет запустить и все)  \n",
    "\n",
    " 2.1 Важно отметить, что Яндекс Облако требует сертификат для подключения к БД, поэтому это тоже должно лежать на Гугл Облаке (!!!)\n",
    "\n",
    "3. Настройка скрипта (под запрос)\n",
    "  - Предварительно будут видны 2 переменные, содержащие в себе все колонки, можно их пополнить, если какой то информации недостаточно\n",
    "  - Установка даты с начало по конец какой даты нужен срез свежих данных\n",
    "\n",
    "4. Запуск ячейки с выгрузкой данных из Яндекс Метрики\n",
    "После того как данные выгрузятся, можно будет увидеть их, что все сработало\n",
    "\n",
    "5. Запуск ячейки с загрузкой данных в Кликхаус\n",
    "\n",
    "6. Готов, данные лежат внутри Клихауса, после чего мб использованы для дашбордов в Datalens\n",
    "\n",
    "По сути п.2 - выполняется один раз (это все вручную, через веб-сайт)\n",
    "п.3-5 это логика, по которой нужно будет запускать скрипт\n",
    "\n",
    "Структура папок в Гугл Облаке\n",
    "\n",
    "- Project folder\n",
    "  - script.ipynb\n",
    "  - lib  \n",
    "  - cert  \n",
    "lib - папка с библиотеками нужными для скрипта  \n",
    "cert - папка с сертификатом на подключение  \n",
    "script.ipynb - сам скрипт  \n",
    "\n",
    "Внутри скрипта уже будут использованы все кредо (БД, логины, токены и тд).\n",
    "\n",
    "\n",
    "# __Важные замечания__\n"
   ]
  },
  {
   "cell_type": "markdown",
   "metadata": {
    "id": "VWGVQuPOpbxQ"
   },
   "source": [
    "# 1. Установка библиотек\n",
    "__Делается первый раз при запуске скрипта, нужно проверить, что вместе с ноутбуком - появилась непустая папка *lib*__"
   ]
  },
  {
   "cell_type": "code",
   "execution_count": null,
   "metadata": {
    "id": "kgb9sTLHlcoK"
   },
   "outputs": [],
   "source": [
    "# Закомментировать или удалить ячейку после установки необходимых библиотек - см. в папку lib\n",
    "#-------------------------------------------------------------------------------------------\n",
    "import sys\n",
    "import os\n",
    "def install_library_to_drive(libraries_list):\n",
    "#  Установка в папку lib\n",
    "    drive_path_root = '/content/drive/MyDrive/Папка/lib'\n",
    "    for lib in libraries_list:\n",
    "        drive_path_lib = os.path.join(drive_path_root,lib)\n",
    "        !pip install -q $lib --target=$drive_path_lib\n",
    "        sys.path.insert(0, drive_path_lib)\n",
    "def load_library_from_drive(libraries_list):\n",
    "#  Установка в переменную PATH\n",
    "      drive_path_root = '/content/drive/MyDrive/Папка/lib'\n",
    "    for lib in libraries_list:\n",
    "        drive_path_lib = os.path.join(drive_path_root,lib)\n",
    "        sys.path.insert(0, drive_path_lib)\n",
    "libraries_list = [\"tapi_yandex_metrika\", \"clickhouse_driver\"] # list your libraries\n",
    "#install_library_to_drive(libraries_list) # Run this just once\n",
    "load_library_from_drive(libraries_list)"
   ]
  },
  {
   "cell_type": "code",
   "execution_count": null,
   "metadata": {
    "id": "55Qv1g7FDp2H"
   },
   "outputs": [],
   "source": [
    "from tapi_yandex_metrika import YandexMetrikaLogsapi\n",
    "from google.colab import drive\n",
    "from clickhouse_driver import Client\n",
    "import os\n",
    "from collections import namedtuple\n",
    "import pandas as pd\n",
    "import re\n",
    "import numpy as np"
   ]
  },
  {
   "cell_type": "markdown",
   "metadata": {
    "id": "TgaE-6mhqZ8y"
   },
   "source": [
    "#__Обновляемые колонки__  \n",
    "Писать строго как в документации Яндекс Метрики !!!"
   ]
  },
  {
   "cell_type": "code",
   "execution_count": null,
   "metadata": {
    "id": "jV503NIVqs-G"
   },
   "outputs": [],
   "source": [
    "table = namedtuple('table' , 'name fields columns')\n",
    "hits_fields = ()\n",
    "visits_fields = ('ym:s:date','ym:s:purchaseID','ym:s:clientID','ym:s:deviceCategory','ym:s:purchaseRevenue')"
   ]
  },
  {
   "cell_type": "markdown",
   "metadata": {
    "id": "RO42NZE0Cwpj"
   },
   "source": [
    "# 2. Получение данных из Яндекс Метрики (LogsAPI)\n",
    "__1__. [tapi_yandex_metrika](https://github.com/pavelmaksimov/tapi-yandex-metrika/blob/master/docs/logsapi.md)  \n",
    "Документация по либе для выгрузки из Метрики\n",
    "\n",
    "__2__. [Visits](https://yandex.ru/dev/metrika/doc/api2/logs/fields/visits.html) - Посещения (все метрики)\n",
    "\n",
    "__3__. [Hits](https://yandex.ru/dev/metrika/doc/api2/logs/fields/hits.html) - Просмотры (все метрики)  \n",
    "__4__. **E-commerce** содержится в Visits"
   ]
  },
  {
   "cell_type": "code",
   "execution_count": null,
   "metadata": {
    "id": "1UnLE6HCXSDf"
   },
   "outputs": [],
   "source": [
    "client = YandexMetrikaLogsapi(\n",
    "    access_token=M_TOKEN,\n",
    "    default_url_params={'counterId': M_COUNTER},\n",
    "    wait_report=True\n",
    ")\n",
    "table = namedtuple('table' , 'name fields')\n",
    "# _:pv:_ - hits; _:s:_ - visits\n",
    "hits_fields = ()\n",
    "visits_fields = (\n",
    "                'ym:s:goalsSerialNumber',\n",
    "                'ym:s:parsedParamsKey1',\n",
    "                'ym:s:visitDuration',\n",
    "                'ym:s:watchIDs',\n",
    "                'ym:s:parsedParamsKey2',\n",
    "                'ym:s:parsedParamsKey3',\n",
    "                'ym:s:parsedParamsKey4',\n",
    "                'ym:s:parsedParamsKey5',\n",
    "                'ym:s:visitID',\n",
    "                'ym:s:dateTime',\n",
    "                'ym:s:date',\n",
    "                'ym:s:purchaseID',\n",
    "                'ym:s:clientID',\n",
    "                'ym:s:deviceCategory',\n",
    "                'ym:s:purchaseRevenue',\n",
    "                'ym:s:purchaseProductQuantity',\n",
    "                'ym:s:isNewUser',\n",
    "                'ym:s:regionCountry',\n",
    "                'ym:s:regionCity',\n",
    "                'ym:s:goalsID',\n",
    "                'ym:s:eventsProductBrand',\n",
    "                'ym:s:eventsProductCategory',\n",
    "                'ym:s:purchaseDateTime',\n",
    "                'ym:s:eventsProductID',\n",
    "                'ym:s:eventsProductPrice',\n",
    "                'ym:s:eventsProductQuantity',\n",
    "                'ym:s:eventsProductType',\n",
    "                'ym:s:eventsProductName',\n",
    "                'ym:s:eventsProductList',\n",
    "                'ym:s:productsID',\n",
    "                'ym:s:productsName',\n",
    "                'ym:s:productsBrand',\n",
    "                'ym:s:productsCategory',\n",
    "                'ym:s:productsPrice',\n",
    "                'ym:s:productsList',\n",
    "                'ym:s:productsPosition')\n",
    "\n",
    "#\n",
    "hits = table('hits',hits_fields)\n",
    "visits = table('visits',visits_fields)"
   ]
  },
  {
   "cell_type": "code",
   "execution_count": null,
   "metadata": {
    "id": "iSoud-lICuha"
   },
   "outputs": [],
   "source": [
    "def extract_logs_api(table,client,date1,date2):\n",
    "    params = {\n",
    "      \"fields\": table.fields,\n",
    "      \"source\": table.name,\n",
    "      \"date1\": date1,\n",
    "      \"date2\": date2}\n",
    "    info = client.create().post(params=params)\n",
    "    request_id = info[\"log_request\"][\"request_id\"]\n",
    "    report = client.download(requestId=request_id).get()\n",
    "    _column = lambda x: re.search(r'[^:]*:[^:]*:(\\w+)', x).group(1)\n",
    "    return  report, pd.DataFrame(report().to_dicts()).rename(columns=_column)"
   ]
  },
  {
   "cell_type": "code",
   "execution_count": null,
   "metadata": {
    "id": "sllWbYUDXJ_4"
   },
   "outputs": [],
   "source": [
    "#  hits_df = extract_logs_api(hits,client,'2024-04-01','2024-05-01')"
   ]
  },
  {
   "cell_type": "code",
   "execution_count": null,
   "metadata": {
    "id": "6ixje7EZxLXk"
   },
   "outputs": [],
   "source": [
    "visits_df['Purchases']=visits_df['purchaseRevenue'].map(lambda x: x.count(',') + 1 if x != '[]' else 0 )\n",
    "visits_df['Revenue']=visits_df['purchaseRevenue'].map(lambda x: sum(map(float,x[1:-1].split(','))) if x != '[]' else 0)"
   ]
  },
  {
   "cell_type": "markdown",
   "metadata": {
    "id": "M7Pje36PCzvq"
   },
   "source": [
    "# 3. Обновление Clickhouse\n",
    "__1__. [Yandex Github Example Simple Client](https://github.com/zhdanchik/yandex_metrika_cloud_case/blob/main/some_funcs.py) - источник идеи  (см. класс simple_client)  \n",
    "__2__. [Clickhouse-driver]() - об используемой либе\n",
    "\n",
    "Преимущества (2) либы - удобный API для загрузки pd.DataFrame в таблицы CH\n"
   ]
  },
  {
   "cell_type": "code",
   "execution_count": null,
   "metadata": {
    "id": "BhV0ETcct8wc"
   },
   "outputs": [],
   "source": [
    "client = Client(host=CH_HOST_NAME,\n",
    "        ca_certs=CH_CASERT,\n",
    "        user=CH_USER,\n",
    "        password=CH_PASS,\n",
    "        database=CH_DB_NAME,\n",
    "        verify=True,\n",
    "        secure=True)"
   ]
  },
  {
   "cell_type": "code",
   "execution_count": null,
   "metadata": {
    "colab": {
     "base_uri": "https://localhost:8080/"
    },
    "id": "bdUYb7wK9LZD",
    "outputId": "33e7672e-7428-40dd-dcce-9474a5e8eb5b"
   },
   "outputs": [
    {
     "data": {
      "text/plain": [
       "[('24.3.2.23',)]"
      ]
     },
     "execution_count": 41,
     "metadata": {},
     "output_type": "execute_result"
    }
   ],
   "source": [
    "client.execute('SELECT version()')"
   ]
  },
  {
   "cell_type": "code",
   "execution_count": null,
   "metadata": {
    "colab": {
     "base_uri": "https://localhost:8080/"
    },
    "id": "kSU3QWS49Lmw",
    "outputId": "f448a9fb-29a4-46ca-bbb2-1fc175908068"
   },
   "outputs": [
    {
     "data": {
      "text/plain": [
       "[('INFORMATION_SCHEMA',),\n",
       " ('_system',),\n",
       " ('default',),\n",
       " ('information_schema',),\n",
       " ('system',),\n",
       " ('yandex_metrika_stage',),\n",
       " ('yandex_vitrina',)]"
      ]
     },
     "execution_count": 53,
     "metadata": {},
     "output_type": "execute_result"
    }
   ],
   "source": [
    "client.execute('SHOW DATABASES')"
   ]
  },
  {
   "cell_type": "code",
   "execution_count": null,
   "metadata": {
    "colab": {
     "base_uri": "https://localhost:8080/"
    },
    "id": "jCnp7ez-GWMu",
    "outputId": "f4672845-e55d-49ab-be7b-8f06cc700702"
   },
   "outputs": [
    {
     "data": {
      "text/plain": [
       "[('visits_test',)]"
      ]
     },
     "execution_count": 54,
     "metadata": {},
     "output_type": "execute_result"
    }
   ],
   "source": [
    "client.execute('SHOW TABLES')"
   ]
  },
  {
   "cell_type": "code",
   "execution_count": null,
   "metadata": {
    "id": "uXGzZ_qtzuHW"
   },
   "outputs": [],
   "source": [
    "q = f'''\n",
    "CREATE TABLE {CH_DB_NAME}.visits_test (\n",
    "  date Date,\n",
    "  purchaseID String,\n",
    "  deviceCategory UInt64\n",
    " ) ENGINE = MergeTree() ORDER BY date\n",
    "\n",
    "'''\n",
    "# client.insert()"
   ]
  },
  {
   "cell_type": "code",
   "execution_count": null,
   "metadata": {
    "colab": {
     "base_uri": "https://localhost:8080/"
    },
    "id": "QVWBG_6YT9Wb",
    "outputId": "b0a9cce5-5706-4e3e-b193-b48963d6b388"
   },
   "outputs": [
    {
     "data": {
      "text/plain": [
       "[]"
      ]
     },
     "execution_count": 52,
     "metadata": {},
     "output_type": "execute_result"
    }
   ],
   "source": [
    "client.execute(q)"
   ]
  },
  {
   "cell_type": "code",
   "execution_count": null,
   "metadata": {
    "colab": {
     "base_uri": "https://localhost:8080/"
    },
    "id": "Mpzth8iU0F6z",
    "outputId": "72815bf7-447b-441a-8432-863582e701dc"
   },
   "outputs": [
    {
     "data": {
      "text/plain": [
       "1685"
      ]
     },
     "execution_count": 65,
     "metadata": {},
     "output_type": "execute_result"
    }
   ],
   "source": [
    "client.insert_dataframe('INSERT INTO visits_test VALUES',visits_df[['date','purchaseID','deviceCategory']],settings={'use_numpy': True})"
   ]
  },
  {
   "cell_type": "code",
   "execution_count": null,
   "metadata": {
    "id": "V959DSvwHDW1"
   },
   "outputs": [],
   "source": [
    "df = client.query_dataframe(f'SELECT * FROM {CH_DB_NAME}.visits_test')"
   ]
  },
  {
   "cell_type": "code",
   "execution_count": null,
   "metadata": {
    "colab": {
     "base_uri": "https://localhost:8080/",
     "height": 424
    },
    "id": "v9WxWcbhHxfR",
    "outputId": "4f367a73-9445-438b-839c-c5bed12ac53c"
   },
   "outputs": [
    {
     "data": {
      "application/vnd.google.colaboratory.intrinsic+json": {
       "summary": "{\n  \"name\": \"df\",\n  \"rows\": 1685,\n  \"fields\": [\n    {\n      \"column\": \"date\",\n      \"properties\": {\n        \"dtype\": \"date\",\n        \"min\": \"2024-04-08\",\n        \"max\": \"2024-04-30\",\n        \"num_unique_values\": 17,\n        \"samples\": [\n          \"2024-04-08\",\n          \"2024-04-12\",\n          \"2024-04-17\"\n        ],\n        \"semantic_type\": \"\",\n        \"description\": \"\"\n      }\n    },\n    {\n      \"column\": \"purchaseID\",\n      \"properties\": {\n        \"dtype\": \"category\",\n        \"num_unique_values\": 1,\n        \"samples\": [\n          \"ID_nym\"\n        ],\n        \"semantic_type\": \"\",\n        \"description\": \"\"\n      }\n    },\n    {\n      \"column\": \"deviceCategory\",\n      \"properties\": {\n        \"dtype\": \"number\",\n        \"std\": 0,\n        \"min\": 1,\n        \"max\": 2,\n        \"num_unique_values\": 2,\n        \"samples\": [\n          1\n        ],\n        \"semantic_type\": \"\",\n        \"description\": \"\"\n      }\n    }\n  ]\n}",
       "type": "dataframe",
       "variable_name": "df"
      },
      "text/html": [
       "\n",
       "  <div id=\"df-28f89d3e-178c-45ab-8b20-194dfe00d16a\" class=\"colab-df-container\">\n",
       "    <div>\n",
       "<style scoped>\n",
       "    .dataframe tbody tr th:only-of-type {\n",
       "        vertical-align: middle;\n",
       "    }\n",
       "\n",
       "    .dataframe tbody tr th {\n",
       "        vertical-align: top;\n",
       "    }\n",
       "\n",
       "    .dataframe thead th {\n",
       "        text-align: right;\n",
       "    }\n",
       "</style>\n",
       "<table border=\"1\" class=\"dataframe\">\n",
       "  <thead>\n",
       "    <tr style=\"text-align: right;\">\n",
       "      <th></th>\n",
       "      <th>date</th>\n",
       "      <th>purchaseID</th>\n",
       "      <th>deviceCategory</th>\n",
       "    </tr>\n",
       "  </thead>\n",
       "  <tbody>\n",
       "    <tr>\n",
       "      <th>0</th>\n",
       "      <td>2024-04-08</td>\n",
       "      <td>ID_nym</td>\n",
       "      <td>2</td>\n",
       "    </tr>\n",
       "    <tr>\n",
       "      <th>1</th>\n",
       "      <td>2024-04-12</td>\n",
       "      <td>ID_nym</td>\n",
       "      <td>2</td>\n",
       "    </tr>\n",
       "    <tr>\n",
       "      <th>2</th>\n",
       "      <td>2024-04-12</td>\n",
       "      <td>ID_nym</td>\n",
       "      <td>1</td>\n",
       "    </tr>\n",
       "    <tr>\n",
       "      <th>3</th>\n",
       "      <td>2024-04-12</td>\n",
       "      <td>ID_nym</td>\n",
       "      <td>1</td>\n",
       "    </tr>\n",
       "    <tr>\n",
       "      <th>4</th>\n",
       "      <td>2024-04-12</td>\n",
       "      <td>ID_nym</td>\n",
       "      <td>1</td>\n",
       "    </tr>\n",
       "    <tr>\n",
       "      <th>...</th>\n",
       "      <td>...</td>\n",
       "      <td>...</td>\n",
       "      <td>...</td>\n",
       "    </tr>\n",
       "    <tr>\n",
       "      <th>1680</th>\n",
       "      <td>2024-04-28</td>\n",
       "      <td>ID_nym</td>\n",
       "      <td>1</td>\n",
       "    </tr>\n",
       "    <tr>\n",
       "      <th>1681</th>\n",
       "      <td>2024-04-30</td>\n",
       "      <td>ID_nym</td>\n",
       "      <td>1</td>\n",
       "    </tr>\n",
       "    <tr>\n",
       "      <th>1682</th>\n",
       "      <td>2024-04-30</td>\n",
       "      <td>ID_nym</td>\n",
       "      <td>1</td>\n",
       "    </tr>\n",
       "    <tr>\n",
       "      <th>1683</th>\n",
       "      <td>2024-04-30</td>\n",
       "      <td>ID_nym</td>\n",
       "      <td>1</td>\n",
       "    </tr>\n",
       "    <tr>\n",
       "      <th>1684</th>\n",
       "      <td>2024-04-30</td>\n",
       "      <td>ID_nym</td>\n",
       "      <td>1</td>\n",
       "    </tr>\n",
       "  </tbody>\n",
       "</table>\n",
       "<p>1685 rows × 3 columns</p>\n",
       "</div>\n",
       "    <div class=\"colab-df-buttons\">\n",
       "\n",
       "  <div class=\"colab-df-container\">\n",
       "    <button class=\"colab-df-convert\" onclick=\"convertToInteractive('df-28f89d3e-178c-45ab-8b20-194dfe00d16a')\"\n",
       "            title=\"Convert this dataframe to an interactive table.\"\n",
       "            style=\"display:none;\">\n",
       "\n",
       "  <svg xmlns=\"http://www.w3.org/2000/svg\" height=\"24px\" viewBox=\"0 -960 960 960\">\n",
       "    <path d=\"M120-120v-720h720v720H120Zm60-500h600v-160H180v160Zm220 220h160v-160H400v160Zm0 220h160v-160H400v160ZM180-400h160v-160H180v160Zm440 0h160v-160H620v160ZM180-180h160v-160H180v160Zm440 0h160v-160H620v160Z\"/>\n",
       "  </svg>\n",
       "    </button>\n",
       "\n",
       "  <style>\n",
       "    .colab-df-container {\n",
       "      display:flex;\n",
       "      gap: 12px;\n",
       "    }\n",
       "\n",
       "    .colab-df-convert {\n",
       "      background-color: #E8F0FE;\n",
       "      border: none;\n",
       "      border-radius: 50%;\n",
       "      cursor: pointer;\n",
       "      display: none;\n",
       "      fill: #1967D2;\n",
       "      height: 32px;\n",
       "      padding: 0 0 0 0;\n",
       "      width: 32px;\n",
       "    }\n",
       "\n",
       "    .colab-df-convert:hover {\n",
       "      background-color: #E2EBFA;\n",
       "      box-shadow: 0px 1px 2px rgba(60, 64, 67, 0.3), 0px 1px 3px 1px rgba(60, 64, 67, 0.15);\n",
       "      fill: #174EA6;\n",
       "    }\n",
       "\n",
       "    .colab-df-buttons div {\n",
       "      margin-bottom: 4px;\n",
       "    }\n",
       "\n",
       "    [theme=dark] .colab-df-convert {\n",
       "      background-color: #3B4455;\n",
       "      fill: #D2E3FC;\n",
       "    }\n",
       "\n",
       "    [theme=dark] .colab-df-convert:hover {\n",
       "      background-color: #434B5C;\n",
       "      box-shadow: 0px 1px 3px 1px rgba(0, 0, 0, 0.15);\n",
       "      filter: drop-shadow(0px 1px 2px rgba(0, 0, 0, 0.3));\n",
       "      fill: #FFFFFF;\n",
       "    }\n",
       "  </style>\n",
       "\n",
       "    <script>\n",
       "      const buttonEl =\n",
       "        document.querySelector('#df-28f89d3e-178c-45ab-8b20-194dfe00d16a button.colab-df-convert');\n",
       "      buttonEl.style.display =\n",
       "        google.colab.kernel.accessAllowed ? 'block' : 'none';\n",
       "\n",
       "      async function convertToInteractive(key) {\n",
       "        const element = document.querySelector('#df-28f89d3e-178c-45ab-8b20-194dfe00d16a');\n",
       "        const dataTable =\n",
       "          await google.colab.kernel.invokeFunction('convertToInteractive',\n",
       "                                                    [key], {});\n",
       "        if (!dataTable) return;\n",
       "\n",
       "        const docLinkHtml = 'Like what you see? Visit the ' +\n",
       "          '<a target=\"_blank\" href=https://colab.research.google.com/notebooks/data_table.ipynb>data table notebook</a>'\n",
       "          + ' to learn more about interactive tables.';\n",
       "        element.innerHTML = '';\n",
       "        dataTable['output_type'] = 'display_data';\n",
       "        await google.colab.output.renderOutput(dataTable, element);\n",
       "        const docLink = document.createElement('div');\n",
       "        docLink.innerHTML = docLinkHtml;\n",
       "        element.appendChild(docLink);\n",
       "      }\n",
       "    </script>\n",
       "  </div>\n",
       "\n",
       "\n",
       "<div id=\"df-dd9b10f8-d8c7-4634-8600-696ef0e1d365\">\n",
       "  <button class=\"colab-df-quickchart\" onclick=\"quickchart('df-dd9b10f8-d8c7-4634-8600-696ef0e1d365')\"\n",
       "            title=\"Suggest charts\"\n",
       "            style=\"display:none;\">\n",
       "\n",
       "<svg xmlns=\"http://www.w3.org/2000/svg\" height=\"24px\"viewBox=\"0 0 24 24\"\n",
       "     width=\"24px\">\n",
       "    <g>\n",
       "        <path d=\"M19 3H5c-1.1 0-2 .9-2 2v14c0 1.1.9 2 2 2h14c1.1 0 2-.9 2-2V5c0-1.1-.9-2-2-2zM9 17H7v-7h2v7zm4 0h-2V7h2v10zm4 0h-2v-4h2v4z\"/>\n",
       "    </g>\n",
       "</svg>\n",
       "  </button>\n",
       "\n",
       "<style>\n",
       "  .colab-df-quickchart {\n",
       "      --bg-color: #E8F0FE;\n",
       "      --fill-color: #1967D2;\n",
       "      --hover-bg-color: #E2EBFA;\n",
       "      --hover-fill-color: #174EA6;\n",
       "      --disabled-fill-color: #AAA;\n",
       "      --disabled-bg-color: #DDD;\n",
       "  }\n",
       "\n",
       "  [theme=dark] .colab-df-quickchart {\n",
       "      --bg-color: #3B4455;\n",
       "      --fill-color: #D2E3FC;\n",
       "      --hover-bg-color: #434B5C;\n",
       "      --hover-fill-color: #FFFFFF;\n",
       "      --disabled-bg-color: #3B4455;\n",
       "      --disabled-fill-color: #666;\n",
       "  }\n",
       "\n",
       "  .colab-df-quickchart {\n",
       "    background-color: var(--bg-color);\n",
       "    border: none;\n",
       "    border-radius: 50%;\n",
       "    cursor: pointer;\n",
       "    display: none;\n",
       "    fill: var(--fill-color);\n",
       "    height: 32px;\n",
       "    padding: 0;\n",
       "    width: 32px;\n",
       "  }\n",
       "\n",
       "  .colab-df-quickchart:hover {\n",
       "    background-color: var(--hover-bg-color);\n",
       "    box-shadow: 0 1px 2px rgba(60, 64, 67, 0.3), 0 1px 3px 1px rgba(60, 64, 67, 0.15);\n",
       "    fill: var(--button-hover-fill-color);\n",
       "  }\n",
       "\n",
       "  .colab-df-quickchart-complete:disabled,\n",
       "  .colab-df-quickchart-complete:disabled:hover {\n",
       "    background-color: var(--disabled-bg-color);\n",
       "    fill: var(--disabled-fill-color);\n",
       "    box-shadow: none;\n",
       "  }\n",
       "\n",
       "  .colab-df-spinner {\n",
       "    border: 2px solid var(--fill-color);\n",
       "    border-color: transparent;\n",
       "    border-bottom-color: var(--fill-color);\n",
       "    animation:\n",
       "      spin 1s steps(1) infinite;\n",
       "  }\n",
       "\n",
       "  @keyframes spin {\n",
       "    0% {\n",
       "      border-color: transparent;\n",
       "      border-bottom-color: var(--fill-color);\n",
       "      border-left-color: var(--fill-color);\n",
       "    }\n",
       "    20% {\n",
       "      border-color: transparent;\n",
       "      border-left-color: var(--fill-color);\n",
       "      border-top-color: var(--fill-color);\n",
       "    }\n",
       "    30% {\n",
       "      border-color: transparent;\n",
       "      border-left-color: var(--fill-color);\n",
       "      border-top-color: var(--fill-color);\n",
       "      border-right-color: var(--fill-color);\n",
       "    }\n",
       "    40% {\n",
       "      border-color: transparent;\n",
       "      border-right-color: var(--fill-color);\n",
       "      border-top-color: var(--fill-color);\n",
       "    }\n",
       "    60% {\n",
       "      border-color: transparent;\n",
       "      border-right-color: var(--fill-color);\n",
       "    }\n",
       "    80% {\n",
       "      border-color: transparent;\n",
       "      border-right-color: var(--fill-color);\n",
       "      border-bottom-color: var(--fill-color);\n",
       "    }\n",
       "    90% {\n",
       "      border-color: transparent;\n",
       "      border-bottom-color: var(--fill-color);\n",
       "    }\n",
       "  }\n",
       "</style>\n",
       "\n",
       "  <script>\n",
       "    async function quickchart(key) {\n",
       "      const quickchartButtonEl =\n",
       "        document.querySelector('#' + key + ' button');\n",
       "      quickchartButtonEl.disabled = true;  // To prevent multiple clicks.\n",
       "      quickchartButtonEl.classList.add('colab-df-spinner');\n",
       "      try {\n",
       "        const charts = await google.colab.kernel.invokeFunction(\n",
       "            'suggestCharts', [key], {});\n",
       "      } catch (error) {\n",
       "        console.error('Error during call to suggestCharts:', error);\n",
       "      }\n",
       "      quickchartButtonEl.classList.remove('colab-df-spinner');\n",
       "      quickchartButtonEl.classList.add('colab-df-quickchart-complete');\n",
       "    }\n",
       "    (() => {\n",
       "      let quickchartButtonEl =\n",
       "        document.querySelector('#df-dd9b10f8-d8c7-4634-8600-696ef0e1d365 button');\n",
       "      quickchartButtonEl.style.display =\n",
       "        google.colab.kernel.accessAllowed ? 'block' : 'none';\n",
       "    })();\n",
       "  </script>\n",
       "</div>\n",
       "    </div>\n",
       "  </div>\n"
      ],
      "text/plain": [
       "            date purchaseID  deviceCategory\n",
       "0     2024-04-08     ID_nym               2\n",
       "1     2024-04-12     ID_nym               2\n",
       "2     2024-04-12     ID_nym               1\n",
       "3     2024-04-12     ID_nym               1\n",
       "4     2024-04-12     ID_nym               1\n",
       "...          ...        ...             ...\n",
       "1680  2024-04-28     ID_nym               1\n",
       "1681  2024-04-30     ID_nym               1\n",
       "1682  2024-04-30     ID_nym               1\n",
       "1683  2024-04-30     ID_nym               1\n",
       "1684  2024-04-30     ID_nym               1\n",
       "\n",
       "[1685 rows x 3 columns]"
      ]
     },
     "execution_count": 69,
     "metadata": {},
     "output_type": "execute_result"
    }
   ],
   "source": [
    "df"
   ]
  }
 ],
 "metadata": {
  "colab": {
   "provenance": []
  },
  "kernelspec": {
   "display_name": "Python 3 (ipykernel)",
   "language": "python",
   "name": "python3"
  },
  "language_info": {
   "codemirror_mode": {
    "name": "ipython",
    "version": 3
   },
   "file_extension": ".py",
   "mimetype": "text/x-python",
   "name": "python",
   "nbconvert_exporter": "python",
   "pygments_lexer": "ipython3",
   "version": "3.11.3"
  },
  "toc": {
   "base_numbering": 1,
   "nav_menu": {},
   "number_sections": true,
   "sideBar": true,
   "skip_h1_title": false,
   "title_cell": "Table of Contents",
   "title_sidebar": "Contents",
   "toc_cell": true,
   "toc_position": {},
   "toc_section_display": true,
   "toc_window_display": true
  },
  "varInspector": {
   "cols": {
    "lenName": 16,
    "lenType": 16,
    "lenVar": 40
   },
   "kernels_config": {
    "python": {
     "delete_cmd_postfix": "",
     "delete_cmd_prefix": "del ",
     "library": "var_list.py",
     "varRefreshCmd": "print(var_dic_list())"
    },
    "r": {
     "delete_cmd_postfix": ") ",
     "delete_cmd_prefix": "rm(",
     "library": "var_list.r",
     "varRefreshCmd": "cat(var_dic_list()) "
    }
   },
   "types_to_exclude": [
    "module",
    "function",
    "builtin_function_or_method",
    "instance",
    "_Feature"
   ],
   "window_display": false
  }
 },
 "nbformat": 4,
 "nbformat_minor": 1
}
