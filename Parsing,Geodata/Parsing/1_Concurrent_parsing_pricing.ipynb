{
 "cells": [
  {
   "cell_type": "markdown",
   "id": "c6849135",
   "metadata": {
    "toc": true
   },
   "source": [
    "<h1>Table of Contents<span class=\"tocSkip\"></span></h1>\n",
    "<div class=\"toc\"><ul class=\"toc-item\"><li><span><a href=\"#Конкуретный-анализ\" data-toc-modified-id=\"Конкуретный-анализ-1\"><span class=\"toc-item-num\">1&nbsp;&nbsp;</span>Конкуретный анализ</a></span></li></ul></div>"
   ]
  },
  {
   "cell_type": "markdown",
   "id": "2e7e4925",
   "metadata": {},
   "source": [
    "# Конкуретный анализ\n",
    "\n",
    "Есть поставщик симок Airalo, которому интересен конкуретный анализ - Airalo.\n",
    "Цель - спарсить все существующие предложения от поставщика и сопоставить каждому пакету - его цену, и выгрузить все в гугл-таблицу"
   ]
  },
  {
   "cell_type": "code",
   "execution_count": 18,
   "id": "d6c6b3f3",
   "metadata": {},
   "outputs": [],
   "source": [
    "# Parse\n",
    "from scrapy import Selector\n",
    "import requests\n",
    "import time\n",
    "import urllib\n",
    "import bs4 as bs\n",
    "import itertools\n",
    "import pandas as pd\n",
    "import re\n",
    "# Google Services\n",
    "from google.oauth2.service_account import Credentials\n",
    "from google.cloud import bigquery as bq\n",
    "import gspread\n",
    "# Auth client\n",
    "credentials_json = '.\\credentials\\\\big_query_admin.json'\n",
    "credentials = Credentials.from_service_account_file(credentials_json)\n",
    "scope = ['https://spreadsheets.google.com/feeds',\n",
    "        'https://www.googleapis.com/auth/drive']\n",
    "creds_with_scope = credentials.with_scopes(scope)\n",
    "client_gs = gspread.authorize(creds_with_scope)"
   ]
  },
  {
   "cell_type": "code",
   "execution_count": 4,
   "id": "9a6f64b8",
   "metadata": {},
   "outputs": [],
   "source": [
    "url='https://www.airalo.com/api/v3/countries?sort=asc'\n",
    "req = urllib.request.Request(url, headers={'User-Agent': 'Mozilla/5.0'},method='GET')\n",
    "respons = urllib.request.urlopen(req)\n",
    "data = json.loads(respons.read().decode(respons.info().get_param('charset') or 'utf-8'))"
   ]
  },
  {
   "cell_type": "code",
   "execution_count": 5,
   "id": "d241b37a",
   "metadata": {
    "scrolled": true
   },
   "outputs": [],
   "source": [
    "url_ends = []\n",
    "for country in data:\n",
    "    url_ends.append('https://www.airalo.com/'+country['slug']+'-esim')"
   ]
  },
  {
   "cell_type": "code",
   "execution_count": 7,
   "id": "edf289a3",
   "metadata": {},
   "outputs": [
    {
     "data": {
      "text/plain": [
       "['https://www.airalo.com/algeria-esim',\n",
       " 'https://www.airalo.com/andorra-esim',\n",
       " 'https://www.airalo.com/anguilla-esim']"
      ]
     },
     "execution_count": 7,
     "metadata": {},
     "output_type": "execute_result"
    }
   ],
   "source": [
    "url_ends[2:5]"
   ]
  },
  {
   "cell_type": "code",
   "execution_count": 8,
   "id": "6ecdba25",
   "metadata": {
    "scrolled": true
   },
   "outputs": [],
   "source": [
    "def grouper(iterable, n):\n",
    "    iterable = iter(iterable)\n",
    "    while True:\n",
    "        tup = tuple(itertools.islice(iterable, 0, n))\n",
    "        if tup:\n",
    "            yield tup\n",
    "        else:\n",
    "            break\n",
    "result = []\n",
    "column_list = ['coverage','data','validity','price','sale price']\n",
    "for url in url_ends:\n",
    "    req = urllib.request.Request(url,\n",
    "                                 headers={'User-Agent': 'Mozilla/5.0'},\n",
    "                                 method='GET')\n",
    "    #\n",
    "    html = urllib.request.urlopen(req).read()\n",
    "    #\n",
    "    data = bs.BeautifulSoup(html).findAll('p',{'data-testid':'promotional-price-value'})\n",
    "    values = [tag.get_text().strip() for tag in data]\n",
    "    units = list(grouper(values,4))\n",
    "    for i in range(len(units)):\n",
    "        row = {column: unit for column,unit in zip(column_list,units[i])}\n",
    "        result.append(row)"
   ]
  },
  {
   "cell_type": "code",
   "execution_count": 11,
   "id": "b0f27c2a",
   "metadata": {},
   "outputs": [
    {
     "data": {
      "text/html": [
       "<div>\n",
       "<style scoped>\n",
       "    .dataframe tbody tr th:only-of-type {\n",
       "        vertical-align: middle;\n",
       "    }\n",
       "\n",
       "    .dataframe tbody tr th {\n",
       "        vertical-align: top;\n",
       "    }\n",
       "\n",
       "    .dataframe thead th {\n",
       "        text-align: right;\n",
       "    }\n",
       "</style>\n",
       "<table border=\"1\" class=\"dataframe\">\n",
       "  <thead>\n",
       "    <tr style=\"text-align: right;\">\n",
       "      <th></th>\n",
       "      <th>coverage</th>\n",
       "      <th>data</th>\n",
       "      <th>validity</th>\n",
       "      <th>price</th>\n",
       "    </tr>\n",
       "  </thead>\n",
       "  <tbody>\n",
       "    <tr>\n",
       "      <th>0</th>\n",
       "      <td>Afghanistan</td>\n",
       "      <td>1 GB</td>\n",
       "      <td>7 Days</td>\n",
       "      <td>US $6.50</td>\n",
       "    </tr>\n",
       "    <tr>\n",
       "      <th>1</th>\n",
       "      <td>Afghanistan</td>\n",
       "      <td>2 GB</td>\n",
       "      <td>15 Days</td>\n",
       "      <td>US $12.00</td>\n",
       "    </tr>\n",
       "    <tr>\n",
       "      <th>2</th>\n",
       "      <td>Afghanistan</td>\n",
       "      <td>3 GB</td>\n",
       "      <td>30 Days</td>\n",
       "      <td>US $17.00</td>\n",
       "    </tr>\n",
       "    <tr>\n",
       "      <th>3</th>\n",
       "      <td>Afghanistan</td>\n",
       "      <td>5 GB</td>\n",
       "      <td>30 Days</td>\n",
       "      <td>US $25.50</td>\n",
       "    </tr>\n",
       "    <tr>\n",
       "      <th>4</th>\n",
       "      <td>Albania</td>\n",
       "      <td>1 GB</td>\n",
       "      <td>7 Days</td>\n",
       "      <td>US $4.50</td>\n",
       "    </tr>\n",
       "    <tr>\n",
       "      <th>5</th>\n",
       "      <td>Albania</td>\n",
       "      <td>2 GB</td>\n",
       "      <td>15 Days</td>\n",
       "      <td>US $8.00</td>\n",
       "    </tr>\n",
       "    <tr>\n",
       "      <th>6</th>\n",
       "      <td>Albania</td>\n",
       "      <td>3 GB</td>\n",
       "      <td>30 Days</td>\n",
       "      <td>US $11.00</td>\n",
       "    </tr>\n",
       "    <tr>\n",
       "      <th>7</th>\n",
       "      <td>Albania</td>\n",
       "      <td>5 GB</td>\n",
       "      <td>30 Days</td>\n",
       "      <td>US $15.50</td>\n",
       "    </tr>\n",
       "    <tr>\n",
       "      <th>8</th>\n",
       "      <td>Albania</td>\n",
       "      <td>10 GB</td>\n",
       "      <td>30 Days</td>\n",
       "      <td>US $26.00</td>\n",
       "    </tr>\n",
       "    <tr>\n",
       "      <th>9</th>\n",
       "      <td>Algeria</td>\n",
       "      <td>1 GB</td>\n",
       "      <td>7 Days</td>\n",
       "      <td>US $7.00</td>\n",
       "    </tr>\n",
       "  </tbody>\n",
       "</table>\n",
       "</div>"
      ],
      "text/plain": [
       "      coverage   data validity      price\n",
       "0  Afghanistan   1 GB   7 Days   US $6.50\n",
       "1  Afghanistan   2 GB  15 Days  US $12.00\n",
       "2  Afghanistan   3 GB  30 Days  US $17.00\n",
       "3  Afghanistan   5 GB  30 Days  US $25.50\n",
       "4      Albania   1 GB   7 Days   US $4.50\n",
       "5      Albania   2 GB  15 Days   US $8.00\n",
       "6      Albania   3 GB  30 Days  US $11.00\n",
       "7      Albania   5 GB  30 Days  US $15.50\n",
       "8      Albania  10 GB  30 Days  US $26.00\n",
       "9      Algeria   1 GB   7 Days   US $7.00"
      ]
     },
     "execution_count": 11,
     "metadata": {},
     "output_type": "execute_result"
    }
   ],
   "source": [
    "df = pd.DataFrame(result)\n",
    "df.head(10)"
   ]
  },
  {
   "cell_type": "code",
   "execution_count": 12,
   "id": "25059d51",
   "metadata": {},
   "outputs": [],
   "source": [
    "def price_cleaner(x):\n",
    "    l = re.search(r'(?:US\\s)?\\$(\\d+\\.\\d{1,2})',str(x))\n",
    "    if l:\n",
    "        return l.group(1)\n",
    "    else:\n",
    "        return np.nan   \n",
    "df.price = df.price.apply(price_cleaner)\n",
    "df = df[df.price.notna()].copy()\n",
    "df.price = df.price.astype(float)"
   ]
  },
  {
   "cell_type": "code",
   "execution_count": 13,
   "id": "33a4acef",
   "metadata": {
    "scrolled": true
   },
   "outputs": [],
   "source": [
    "df = df.query('data in (\"1 GB\",\"2 GB\",\"3 GB\",\"5 GB\")')\\\n",
    "    .pivot_table(index='coverage',columns='data',aggfunc={'price':'sum'})"
   ]
  },
  {
   "cell_type": "code",
   "execution_count": 14,
   "id": "b0383097",
   "metadata": {},
   "outputs": [
    {
     "data": {
      "text/html": [
       "<div>\n",
       "<style scoped>\n",
       "    .dataframe tbody tr th:only-of-type {\n",
       "        vertical-align: middle;\n",
       "    }\n",
       "\n",
       "    .dataframe tbody tr th {\n",
       "        vertical-align: top;\n",
       "    }\n",
       "\n",
       "    .dataframe thead th {\n",
       "        text-align: right;\n",
       "    }\n",
       "</style>\n",
       "<table border=\"1\" class=\"dataframe\">\n",
       "  <thead>\n",
       "    <tr style=\"text-align: right;\">\n",
       "      <th></th>\n",
       "      <th>Airalo 1 GB, $</th>\n",
       "      <th>Airalo 2 GB, $</th>\n",
       "      <th>Airalo 3 GB, $</th>\n",
       "      <th>Airalo 5 GB, $</th>\n",
       "    </tr>\n",
       "    <tr>\n",
       "      <th>Country</th>\n",
       "      <th></th>\n",
       "      <th></th>\n",
       "      <th></th>\n",
       "      <th></th>\n",
       "    </tr>\n",
       "  </thead>\n",
       "  <tbody>\n",
       "    <tr>\n",
       "      <th>Afghanistan</th>\n",
       "      <td>6.5</td>\n",
       "      <td>12.0</td>\n",
       "      <td>17.0</td>\n",
       "      <td>25.5</td>\n",
       "    </tr>\n",
       "    <tr>\n",
       "      <th>Albania</th>\n",
       "      <td>4.5</td>\n",
       "      <td>8.0</td>\n",
       "      <td>11.0</td>\n",
       "      <td>15.5</td>\n",
       "    </tr>\n",
       "    <tr>\n",
       "      <th>Algeria</th>\n",
       "      <td>7.0</td>\n",
       "      <td>13.0</td>\n",
       "      <td>17.5</td>\n",
       "      <td>27.0</td>\n",
       "    </tr>\n",
       "    <tr>\n",
       "      <th>Andorra</th>\n",
       "      <td>4.5</td>\n",
       "      <td>8.0</td>\n",
       "      <td>10.5</td>\n",
       "      <td>15.0</td>\n",
       "    </tr>\n",
       "    <tr>\n",
       "      <th>Anguilla</th>\n",
       "      <td>9.5</td>\n",
       "      <td>NaN</td>\n",
       "      <td>NaN</td>\n",
       "      <td>NaN</td>\n",
       "    </tr>\n",
       "    <tr>\n",
       "      <th>...</th>\n",
       "      <td>...</td>\n",
       "      <td>...</td>\n",
       "      <td>...</td>\n",
       "      <td>...</td>\n",
       "    </tr>\n",
       "    <tr>\n",
       "      <th>Vatican City</th>\n",
       "      <td>4.5</td>\n",
       "      <td>8.0</td>\n",
       "      <td>10.0</td>\n",
       "      <td>14.5</td>\n",
       "    </tr>\n",
       "    <tr>\n",
       "      <th>Venezuela</th>\n",
       "      <td>9.5</td>\n",
       "      <td>18.0</td>\n",
       "      <td>25.5</td>\n",
       "      <td>40.0</td>\n",
       "    </tr>\n",
       "    <tr>\n",
       "      <th>Vietnam</th>\n",
       "      <td>4.5</td>\n",
       "      <td>7.0</td>\n",
       "      <td>9.5</td>\n",
       "      <td>13.0</td>\n",
       "    </tr>\n",
       "    <tr>\n",
       "      <th>Zambia</th>\n",
       "      <td>9.5</td>\n",
       "      <td>NaN</td>\n",
       "      <td>NaN</td>\n",
       "      <td>NaN</td>\n",
       "    </tr>\n",
       "    <tr>\n",
       "      <th>Zimbabwe</th>\n",
       "      <td>9.5</td>\n",
       "      <td>NaN</td>\n",
       "      <td>NaN</td>\n",
       "      <td>NaN</td>\n",
       "    </tr>\n",
       "  </tbody>\n",
       "</table>\n",
       "<p>198 rows × 4 columns</p>\n",
       "</div>"
      ],
      "text/plain": [
       "              Airalo 1 GB, $  Airalo 2 GB, $  Airalo 3 GB, $  Airalo 5 GB, $\n",
       "Country                                                                     \n",
       "Afghanistan              6.5            12.0            17.0            25.5\n",
       "Albania                  4.5             8.0            11.0            15.5\n",
       "Algeria                  7.0            13.0            17.5            27.0\n",
       "Andorra                  4.5             8.0            10.5            15.0\n",
       "Anguilla                 9.5             NaN             NaN             NaN\n",
       "...                      ...             ...             ...             ...\n",
       "Vatican City             4.5             8.0            10.0            14.5\n",
       "Venezuela                9.5            18.0            25.5            40.0\n",
       "Vietnam                  4.5             7.0             9.5            13.0\n",
       "Zambia                   9.5             NaN             NaN             NaN\n",
       "Zimbabwe                 9.5             NaN             NaN             NaN\n",
       "\n",
       "[198 rows x 4 columns]"
      ]
     },
     "execution_count": 14,
     "metadata": {},
     "output_type": "execute_result"
    }
   ],
   "source": [
    "df.columns = [\"Airalo 1 GB, $\",\"Airalo 2 GB, $\",\"Airalo 3 GB, $\",\"Airalo 5 GB, $\"]\n",
    "df.index.name = 'Country'\n",
    "df"
   ]
  },
  {
   "cell_type": "code",
   "execution_count": 20,
   "id": "ba1ed5df",
   "metadata": {},
   "outputs": [],
   "source": [
    "def upload_data_gsp(url,df):\n",
    "    '''\n",
    "    url - url-link for google sheet (Ссылка на таблицу)\n",
    "    df - frame for write\n",
    "    '''\n",
    "    #1. Get SpreadSheet\n",
    "    spreadsheet = client_gs.open_by_url(url)\n",
    "    #2. Get data from one Sheet with interval (first row - header)\n",
    "    client_gs.import_csv(spreadsheet.id, df.to_csv())\n",
    "    return None"
   ]
  },
  {
   "cell_type": "code",
   "execution_count": 21,
   "id": "2eb3fb3b",
   "metadata": {},
   "outputs": [],
   "source": [
    "upload_data_gsp('https://docs.google.com/spreadsheets/d/1xZZ-lbSprhRu_LDp1P4uK_cTL_gqdzjTuMLYiq2TJGc/edit?usp=sharing',df)"
   ]
  },
  {
   "cell_type": "markdown",
   "id": "8a877450",
   "metadata": {},
   "source": [
    "Ссылка на гугл-таблицу с результатом [парсинга](https://docs.google.com/spreadsheets/d/1xZZ-lbSprhRu_LDp1P4uK_cTL_gqdzjTuMLYiq2TJGc/edit#gid=7513511)"
   ]
  }
 ],
 "metadata": {
  "kernelspec": {
   "display_name": "Python 3 (ipykernel)",
   "language": "python",
   "name": "python3"
  },
  "language_info": {
   "codemirror_mode": {
    "name": "ipython",
    "version": 3
   },
   "file_extension": ".py",
   "mimetype": "text/x-python",
   "name": "python",
   "nbconvert_exporter": "python",
   "pygments_lexer": "ipython3",
   "version": "3.11.3"
  },
  "toc": {
   "base_numbering": 1,
   "nav_menu": {},
   "number_sections": true,
   "sideBar": true,
   "skip_h1_title": false,
   "title_cell": "Table of Contents",
   "title_sidebar": "Contents",
   "toc_cell": true,
   "toc_position": {},
   "toc_section_display": true,
   "toc_window_display": true
  },
  "varInspector": {
   "cols": {
    "lenName": 16,
    "lenType": 16,
    "lenVar": 40
   },
   "kernels_config": {
    "python": {
     "delete_cmd_postfix": "",
     "delete_cmd_prefix": "del ",
     "library": "var_list.py",
     "varRefreshCmd": "print(var_dic_list())"
    },
    "r": {
     "delete_cmd_postfix": ") ",
     "delete_cmd_prefix": "rm(",
     "library": "var_list.r",
     "varRefreshCmd": "cat(var_dic_list()) "
    }
   },
   "types_to_exclude": [
    "module",
    "function",
    "builtin_function_or_method",
    "instance",
    "_Feature"
   ],
   "window_display": false
  }
 },
 "nbformat": 4,
 "nbformat_minor": 5
}
