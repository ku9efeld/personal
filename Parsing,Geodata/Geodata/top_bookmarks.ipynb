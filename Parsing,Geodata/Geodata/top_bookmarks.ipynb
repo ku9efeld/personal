{
 "cells": [
  {
   "cell_type": "markdown",
   "id": "89d4a913",
   "metadata": {
    "toc": true
   },
   "source": [
    "<h1>Table of Contents<span class=\"tocSkip\"></span></h1>\n",
    "<div class=\"toc\"><ul class=\"toc-item\"><li><span><a href=\"#Установка-библиотек\" data-toc-modified-id=\"Установка-библиотек-1\"><span class=\"toc-item-num\">1&nbsp;&nbsp;</span>Установка библиотек</a></span></li><li><span><a href=\"#Предназачение-ноутбука\" data-toc-modified-id=\"Предназачение-ноутбука-2\"><span class=\"toc-item-num\">2&nbsp;&nbsp;</span>Предназачение ноутбука</a></span><ul class=\"toc-item\"><li><span><a href=\"#Идея-решения\" data-toc-modified-id=\"Идея-решения-2.1\"><span class=\"toc-item-num\">2.1&nbsp;&nbsp;</span>Идея решения</a></span></li><li><span><a href=\"#Cтруктура-ноутбука\" data-toc-modified-id=\"Cтруктура-ноутбука-2.2\"><span class=\"toc-item-num\">2.2&nbsp;&nbsp;</span>Cтруктура ноутбука</a></span><ul class=\"toc-item\"><li><span><a href=\"#This-is-an-incomplete-report.\" data-toc-modified-id=\"This-is-an-incomplete-report.-2.2.1\"><span class=\"toc-item-num\">2.2.1&nbsp;&nbsp;</span>This is an incomplete report.</a></span></li></ul></li></ul></li><li><span><a href=\"#Бибилотеки\" data-toc-modified-id=\"Бибилотеки-3\"><span class=\"toc-item-num\">3&nbsp;&nbsp;</span>Бибилотеки</a></span></li><li><span><a href=\"#Параметры\" data-toc-modified-id=\"Параметры-4\"><span class=\"toc-item-num\">4&nbsp;&nbsp;</span>Параметры</a></span><ul class=\"toc-item\"><li><span><a href=\"#Terms\" data-toc-modified-id=\"Terms-4.1\"><span class=\"toc-item-num\">4.1&nbsp;&nbsp;</span>Terms</a></span></li></ul></li><li><span><a href=\"#Скрипт\" data-toc-modified-id=\"Скрипт-5\"><span class=\"toc-item-num\">5&nbsp;&nbsp;</span>Скрипт</a></span></li><li><span><a href=\"#1-Выгрузка-точек-в-wkb\" data-toc-modified-id=\"1-Выгрузка-точек-в-wkb-6\"><span class=\"toc-item-num\">6&nbsp;&nbsp;</span>1 Выгрузка точек в wkb</a></span></li><li><span><a href=\"#Преобразование-WKB-в-WKT-формат\" data-toc-modified-id=\"Преобразование-WKB-в-WKT-формат-7\"><span class=\"toc-item-num\">7&nbsp;&nbsp;</span>Преобразование WKB в WKT формат</a></span></li></ul></div>"
   ]
  },
  {
   "cell_type": "markdown",
   "id": "611c1cac",
   "metadata": {},
   "source": [
    "# Установка библиотек"
   ]
  },
  {
   "cell_type": "code",
   "execution_count": null,
   "id": "49828b59",
   "metadata": {
    "scrolled": false
   },
   "outputs": [],
   "source": [
    "# !pip install osmnx\n",
    "# !pip install geopandas\n",
    "# !pip install folium\n",
    "# !pip install pyproj\n",
    "#! pip install redshift-connector"
   ]
  },
  {
   "cell_type": "markdown",
   "id": "a13bfc8a",
   "metadata": {},
   "source": [
    "# Предназачение ноутбука\n",
    "\n",
    "Выгрузка меток пользователей на картах мобильного приложения из Amazon Redshift (облачной БД), таких, что указаны в параметрах ноутбука \n",
    "\n",
    "(см. заголовок `Параметры`).\n",
    "\n",
    "## Идея решения\n",
    "\n",
    "С помощью либы osmnx (мы вытягиваем координаты интересующего нас города, после чего аппроксимируем сложный полигон в прямоугольник, в котором заключаются все координаты из исследуемого города.\n",
    "\n",
    "`Примечание:` Данные выгружаются в формате WKB (те в шестнадцатиричном представлении), тк это уменьшает время, которое необходимо облаку (Redshift'y) для того, чтобы преобразовать \"бинарники\" в строки (формат WKT).\n",
    "\n",
    "Redshift очень долго грузит. Это оптимизировало время возвращения запросов - в два раза. То есть я выгружаю бинарники, а потом на своем компьютере преобразовываю эти самые бинарники в человекочитаемый текст (кроме того, с которым можно работать, как с типом форматом - геоданных).\n",
    "## Cтруктура ноутбука\n",
    "\n",
    "Логически разделен на 3 части.\n",
    "\n",
    "- Выгрузка отметок по 1 карте\n",
    "- Обработка wkb (бинарного вида) в WKT\n",
    "- Выгрузка топ 20 отметок по 20 странам разом\n",
    "\n",
    "\n",
    "### This is an incomplete report.\n",
    "Далее см. ноутбук `display_geodata.ipynb` (это ноутбук, который отображает на карте график, маппит названия точек из Opeen Street Map, преобразует нужные форматы данных (.json для бэка; .html,.kmz для менеджмента)"
   ]
  },
  {
   "cell_type": "markdown",
   "id": "1335c4ca",
   "metadata": {},
   "source": [
    "# Бибилотеки "
   ]
  },
  {
   "cell_type": "code",
   "execution_count": 1,
   "id": "077149d3",
   "metadata": {},
   "outputs": [],
   "source": [
    "# Для работы с ОС\n",
    "import os\n",
    "# Open Street Map lib\n",
    "import osmnx as ox\n",
    "# Библиотека для работы с типами данных Geometry, Geography \n",
    "from shapely.geometry import box,mapping,polygon\n",
    "from shapely import wkb,wkt\n",
    "# Коннектор к БД + Обработка данных \n",
    "import numpy as np\n",
    "import redshift_connector\n",
    "import pandas as pd\n",
    "import geopandas as gpd"
   ]
  },
  {
   "cell_type": "code",
   "execution_count": null,
   "id": "1508643f",
   "metadata": {},
   "outputs": [],
   "source": [
    "!pip install osmnx --upgrade"
   ]
  },
  {
   "cell_type": "code",
   "execution_count": null,
   "id": "3ef60f93",
   "metadata": {},
   "outputs": [],
   "source": [
    "conn = redshift_connector.connect(\n",
    "     host='HOST',\n",
    "     database='DB_NAME',\n",
    "     port=1000,\n",
    "     user='USER',\n",
    "     password='1111'\n",
    "  )\n",
    "# Параметр соединения, чтобы устанавливать параметры в запросах\n",
    "redshift_connector.paramstyle = 'named'\n",
    "cursor = conn.cursor()"
   ]
  },
  {
   "cell_type": "markdown",
   "id": "ac644146",
   "metadata": {},
   "source": [
    "# Параметры"
   ]
  },
  {
   "cell_type": "code",
   "execution_count": null,
   "id": "215a2cc4",
   "metadata": {},
   "outputs": [],
   "source": [
    "city_name = 'Lyon'\n",
    "CRS = 'EPSG:4326'\n",
    "OBSERVED_DATES = {'start_dt':'2023-05-01','end_dt':'2024-05-01'}"
   ]
  },
  {
   "cell_type": "code",
   "execution_count": null,
   "id": "3efc5ea4",
   "metadata": {},
   "outputs": [],
   "source": [
    "tile=\"OpenStreetMap\""
   ]
  },
  {
   "cell_type": "markdown",
   "id": "dd20f420",
   "metadata": {},
   "source": [
    "## Terms\n",
    "- coordinate reference systems - CRS `WGS84`\n",
    "- spatial referencing system identifier - SRID `4326`\n",
    "- well-known text -  is a text markup language for representing vector geometry objects - WKT(B)\n",
    "- extended well-known text (binary) - same WKT + SRID - EWKT(B)"
   ]
  },
  {
   "cell_type": "markdown",
   "id": "b5ac9a6e",
   "metadata": {},
   "source": [
    "# Скрипт "
   ]
  },
  {
   "cell_type": "code",
   "execution_count": null,
   "id": "79d35c6a",
   "metadata": {
    "scrolled": false
   },
   "outputs": [],
   "source": [
    "gdf = ox.geocode_to_gdf(city_name) \n",
    "gdf = gdf.to_crs(CRS)\n",
    "box_polygon = box(*gdf.to_crs('epsg:4326').total_bounds,ccw=False)\n",
    "string_polygon = wkt.dumps(box_polygon)"
   ]
  },
  {
   "cell_type": "code",
   "execution_count": null,
   "id": "3e647fa3",
   "metadata": {},
   "outputs": [],
   "source": [
    "string_polygon"
   ]
  },
  {
   "cell_type": "markdown",
   "id": "1150e54c",
   "metadata": {},
   "source": [
    "Здесь получаем аапроксимирующий прямоугольник в строковом формате, который после мы преобразуем в формат WKT SQL оператором ST_GeomFromText, с которым уже сможет работать БД для сопоставления геоданных (проверка точек в БД на принадлежность нашему прямоугольнику)."
   ]
  },
  {
   "cell_type": "markdown",
   "id": "9771c541",
   "metadata": {},
   "source": [
    "# 1 Выгрузка точек в wkb"
   ]
  },
  {
   "cell_type": "code",
   "execution_count": null,
   "id": "0a5ff0a5",
   "metadata": {},
   "outputs": [],
   "source": [
    "%%time\n",
    "redshift_connector.paramstyle = 'named'\n",
    "sql = f'''\n",
    "SELECT\n",
    "            ST_MakePoint\n",
    "            (\n",
    "            CAST(params.lon AS double precision),\n",
    "            CAST(params.lat AS  double precision)\n",
    "            ) AS point\n",
    "FROM TABLE\n",
    "WHERE event_at::date BETWEEN (:start) AND (:end)\n",
    "    AND \n",
    "event_name = 'objectAddFavourites'\n",
    "    AND \n",
    "ST_ContainsProperly(\n",
    "    ST_GeomFromText(:bound), \n",
    "         ST_MakePoint(\n",
    "                CAST(params.lon AS double precision),\n",
    "                CAST(params.lat AS  double precision)\n",
    "                    )\n",
    "          ) IS TRUE\n",
    "'''\n",
    "cursor.execute(\n",
    "                sql, {'start': OBSERVED_DATES['start_dt'],\n",
    "                     'end': OBSERVED_DATES['end_dt'],\n",
    "                     'bound': string_polygon\n",
    "                    }\n",
    "              )\n",
    "df_rs_wkb = cursor.fetch_dataframe()\n",
    "# 2 minutes"
   ]
  },
  {
   "cell_type": "code",
   "execution_count": null,
   "id": "21f31ebe",
   "metadata": {},
   "outputs": [],
   "source": [
    "df_rs_wkb"
   ]
  },
  {
   "cell_type": "code",
   "execution_count": null,
   "id": "13d315c7",
   "metadata": {},
   "outputs": [],
   "source": [
    "df_rs_wkb.to_csv(os.path.join('data', f'{city_name}_binary.csv'))"
   ]
  },
  {
   "cell_type": "markdown",
   "id": "6a38dd6b",
   "metadata": {},
   "source": [
    "# Преобразование WKB в WKT формат"
   ]
  },
  {
   "cell_type": "code",
   "execution_count": null,
   "id": "e73f8c2e",
   "metadata": {},
   "outputs": [],
   "source": [
    "df_rs_wkb = pd.read_csv('data\\All world_binary.csv')"
   ]
  },
  {
   "cell_type": "code",
   "execution_count": null,
   "id": "4da91374",
   "metadata": {},
   "outputs": [],
   "source": [
    "df_rs_wkb"
   ]
  },
  {
   "cell_type": "code",
   "execution_count": null,
   "id": "baccd3b5",
   "metadata": {},
   "outputs": [],
   "source": [
    "rows,columns = df_rs_wkb.shape"
   ]
  },
  {
   "cell_type": "code",
   "execution_count": null,
   "id": "2b346129",
   "metadata": {},
   "outputs": [],
   "source": [
    "print(f'Rows: {rows}\\nColumns: {columns}')"
   ]
  },
  {
   "cell_type": "code",
   "execution_count": null,
   "id": "2ab07418",
   "metadata": {},
   "outputs": [],
   "source": [
    "%%time\n",
    "output = df_rs_wkb[df_rs_wkb['point'] != 'nan'].apply(lambda x: \n",
    "                                   np.NaN  if x['point'] is None else wkb.loads(bytes.fromhex(x['point'])\n",
    "                                                                               )\n",
    "                                   ,\n",
    "                                   axis=1)\n",
    "points = output.value_counts().head(1_000)"
   ]
  },
  {
   "cell_type": "code",
   "execution_count": null,
   "id": "59ae0ce0",
   "metadata": {},
   "outputs": [],
   "source": [
    "points"
   ]
  },
  {
   "cell_type": "code",
   "execution_count": null,
   "id": "c0fdcb78",
   "metadata": {},
   "outputs": [],
   "source": [
    "points.to_csv(os.path.join('data', f'{city_name}.csv'))"
   ]
  }
 ],
 "metadata": {
  "kernelspec": {
   "display_name": "Python 3 (ipykernel)",
   "language": "python",
   "name": "python3"
  },
  "language_info": {
   "codemirror_mode": {
    "name": "ipython",
    "version": 3
   },
   "file_extension": ".py",
   "mimetype": "text/x-python",
   "name": "python",
   "nbconvert_exporter": "python",
   "pygments_lexer": "ipython3",
   "version": "3.11.3"
  },
  "toc": {
   "base_numbering": 1,
   "nav_menu": {},
   "number_sections": true,
   "sideBar": true,
   "skip_h1_title": false,
   "title_cell": "Table of Contents",
   "title_sidebar": "Contents",
   "toc_cell": true,
   "toc_position": {},
   "toc_section_display": true,
   "toc_window_display": true
  },
  "varInspector": {
   "cols": {
    "lenName": 16,
    "lenType": 16,
    "lenVar": 40
   },
   "kernels_config": {
    "python": {
     "delete_cmd_postfix": "",
     "delete_cmd_prefix": "del ",
     "library": "var_list.py",
     "varRefreshCmd": "print(var_dic_list())"
    },
    "r": {
     "delete_cmd_postfix": ") ",
     "delete_cmd_prefix": "rm(",
     "library": "var_list.r",
     "varRefreshCmd": "cat(var_dic_list()) "
    }
   },
   "types_to_exclude": [
    "module",
    "function",
    "builtin_function_or_method",
    "instance",
    "_Feature"
   ],
   "window_display": false
  }
 },
 "nbformat": 4,
 "nbformat_minor": 5
}
